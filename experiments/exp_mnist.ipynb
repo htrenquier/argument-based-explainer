{
 "cells": [
  {
   "cell_type": "code",
   "execution_count": 2,
   "metadata": {},
   "outputs": [],
   "source": [
    "from anchor import utils\n",
    "from anchor import anchor_tabular\n",
    "import pandas as pd\n",
    "import sklearn.ensemble\n",
    "import numpy as np\n",
    "from anchor import anchor_tabular\n",
    "import os"
   ]
  },
  {
   "cell_type": "code",
   "execution_count": 3,
   "metadata": {},
   "outputs": [
    {
     "name": "stdout",
     "output_type": "stream",
     "text": [
      "(70000, 784)\n",
      "(70000,)\n",
      "[9. 9. 9. 9. 9. 9. 9. 9. 9. 9.]\n",
      "6990\n",
      "[  0   0   0   0   0   0   0   0   0   0   0   0   0   0   0   0   0   0\n",
      "   0   0   0   0   0   0   0   0   0   0   0   0   0   0   0   0   0   0\n",
      "   0   0   0   0   0   0   0   0   0   0   0   0   0   0   0   0   0   0\n",
      "   0   0   0   0   0   0   0   0   0   0   0   0   0   0   0   0   0   0\n",
      "   0   0   0   0   0   0   0   0   0   0   0   0   0   0   0   0   0   0\n",
      "   0   0   0   0   0   0   0   0   0   0   0   0   0   0   0   0   0   0\n",
      "   0   0   0   0   0   0   0   0   0   0   0   0   0   0   0   0   0   0\n",
      "   0  51 159 253 159  50   0   0   0   0   0   0   0   0   0   0   0   0\n",
      "   0   0   0   0   0   0   0   0   0   0  48 238 252 252 252 237   0   0\n",
      "   0   0   0   0   0   0   0   0   0   0   0   0   0   0   0   0   0   0\n",
      "   0  54 227 253 252 239 233 252  57   6   0   0   0   0   0   0   0   0\n",
      "   0   0   0   0   0   0   0   0   0  10  60 224 252 253 252 202  84 252\n",
      " 253 122   0   0   0   0   0   0   0   0   0   0   0   0   0   0   0   0\n",
      "   0 163 252 252 252 253 252 252  96 189 253 167   0   0   0   0   0   0\n",
      "   0   0   0   0   0   0   0   0   0   0  51 238 253 253 190 114 253 228\n",
      "  47  79 255 168   0   0   0   0   0   0   0   0   0   0   0   0   0   0\n",
      "   0  48 238 252 252 179  12  75 121  21   0   0 253 243  50   0   0   0\n",
      "   0   0   0   0   0   0   0   0   0   0  38 165 253 233 208  84   0   0\n",
      "   0   0   0   0 253 252 165   0   0   0   0   0   0   0   0   0   0   0\n",
      "   0   7 178 252 240  71  19  28   0   0   0   0   0   0 253 252 195   0\n",
      "   0   0   0   0   0   0   0   0   0   0   0  57 252 252  63   0   0   0\n",
      "   0   0   0   0   0   0 253 252 195   0   0   0   0   0   0   0   0   0\n",
      "   0   0   0 198 253 190   0   0   0   0   0   0   0   0   0   0 255 253\n",
      " 196   0   0   0   0   0   0   0   0   0   0   0  76 246 252 112   0   0\n",
      "   0   0   0   0   0   0   0   0 253 252 148   0   0   0   0   0   0   0\n",
      "   0   0   0   0  85 252 230  25   0   0   0   0   0   0   0   0   7 135\n",
      " 253 186  12   0   0   0   0   0   0   0   0   0   0   0  85 252 223   0\n",
      "   0   0   0   0   0   0   0   7 131 252 225  71   0   0   0   0   0   0\n",
      "   0   0   0   0   0   0  85 252 145   0   0   0   0   0   0   0  48 165\n",
      " 252 173   0   0   0   0   0   0   0   0   0   0   0   0   0   0  86 253\n",
      " 225   0   0   0   0   0   0 114 238 253 162   0   0   0   0   0   0   0\n",
      "   0   0   0   0   0   0   0   0  85 252 249 146  48  29  85 178 225 253\n",
      " 223 167  56   0   0   0   0   0   0   0   0   0   0   0   0   0   0   0\n",
      "  85 252 252 252 229 215 252 252 252 196 130   0   0   0   0   0   0   0\n",
      "   0   0   0   0   0   0   0   0   0   0  28 199 252 252 253 252 252 233\n",
      " 145   0   0   0   0   0   0   0   0   0   0   0   0   0   0   0   0   0\n",
      "   0   0   0  25 128 252 253 252 141  37   0   0   0   0   0   0   0   0\n",
      "   0   0   0   0   0   0   0   0   0   0   0   0   0   0   0   0   0   0\n",
      "   0   0   0   0   0   0   0   0   0   0   0   0   0   0   0   0   0   0\n",
      "   0   0   0   0   0   0   0   0   0   0   0   0   0   0   0   0   0   0\n",
      "   0   0   0   0   0   0   0   0   0   0   0   0   0   0   0   0   0   0\n",
      "   0   0   0   0   0   0   0   0   0   0   0   0   0   0   0   0   0   0\n",
      "   0   0   0   0   0   0   0   0   0   0   0   0   0   0   0   0   0   0\n",
      "   0   0   0   0   0   0   0   0   0   0]\n",
      "[[0 0 0 ... 0 0 0]\n",
      " [0 0 0 ... 0 0 0]\n",
      " [0 0 0 ... 0 0 0]\n",
      " ...\n",
      " [0 0 0 ... 0 0 0]\n",
      " [0 0 0 ... 0 0 0]\n",
      " [0 0 0 ... 0 0 0]]\n",
      "(6903, 784)\n",
      "(70000, 784)\n"
     ]
    }
   ],
   "source": [
    "from scipy.io import loadmat\n",
    "\n",
    "train_path = \"../../datasets/mnist/\"\n",
    "mnist = loadmat(train_path + \"mnist-original.mat\")\n",
    "mnist_data = mnist[\"data\"].T\n",
    "mnist_label = mnist[\"label\"][0]\n",
    "\n",
    "def write_csv_data(data, labels, classes):\n",
    "  with open('../../datasets/mnist/mnist_'+str(classes)+'.csv','w') as f:\n",
    "    for c in classes:\n",
    "      for img in data[labels[:] == c]:\n",
    "        line = str((np.array(img)/128).astype(int))\n",
    "        line = line.strip(\"[]\").strip(' ').replace(\" \", \",\").replace(\"\\n\", \"\")\n",
    "        f.write(str(c) + \",\" + line + \"\\n\")\n",
    "\n",
    "write_csv_data(mnist_data, mnist_label, [0, 1])\n",
    "\n",
    "print(mnist_data.shape)\n",
    "print(mnist_label.shape)\n",
    "print(mnist_label[-10:])\n",
    "print(len(mnist_label[mnist_label[:] == 2]))\n",
    "print(mnist_data[0])\n",
    "print(mnist_data[mnist_label[:] == 0])\n",
    "print(mnist_data[mnist_label[:] == 0].shape)\n",
    "print(mnist_data.shape)"
   ]
  },
  {
   "cell_type": "code",
   "execution_count": 4,
   "metadata": {},
   "outputs": [
    {
     "name": "stdout",
     "output_type": "stream",
     "text": [
      "[0. 0. 0. 0. 0. 0. 0. 0. 0. 0. 0. 0. 0. 0. 0. 0. 0. 0. 0. 0. 0. 0. 0. 0.\n",
      " 0. 0. 0. 0. 0. 0. 0. 0. 0. 0. 0. 0. 0. 0. 0. 0. 0. 0. 0. 0. 0. 0. 0. 0.\n",
      " 0. 0. 0. 0. 0. 0. 0. 0. 0. 0. 0. 0. 0. 0. 0. 0. 0. 0. 0. 0. 0. 0. 0. 0.\n",
      " 0. 0. 0. 0. 0. 0. 0. 0. 0. 0. 0. 0. 0. 0. 0. 0. 0. 0. 0. 0. 0. 0. 0. 0.\n",
      " 0. 0. 0. 0. 0. 0. 0. 0. 0. 0. 0. 0. 0. 0. 0. 0. 0. 0. 0. 0. 0. 0. 0. 0.\n",
      " 0. 0. 0. 0. 0. 0. 0. 0. 0. 0. 0. 0. 0. 0. 0. 0. 0. 0. 0. 0. 0. 0. 0. 0.\n",
      " 0. 0. 0. 0. 0. 0. 0. 0. 0. 0. 1. 1. 0. 0. 0. 0. 0. 0. 0. 0. 0. 0. 0. 0.\n",
      " 0. 0. 0. 0. 0. 0. 0. 0. 0. 0. 0. 0. 0. 1. 1. 1. 1. 0. 0. 0. 0. 0. 0. 0.\n",
      " 0. 0. 0. 0. 0. 0. 0. 0. 0. 0. 0. 0. 0. 0. 0. 0. 1. 1. 1. 1. 1. 0. 0. 0.\n",
      " 0. 0. 0. 0. 0. 0. 0. 0. 0. 0. 0. 0. 0. 0. 0. 0. 0. 0. 0. 0. 1. 1. 1. 1.\n",
      " 1. 0. 0. 0. 0. 0. 0. 0. 0. 0. 0. 0. 0. 0. 0. 0. 0. 0. 0. 0. 0. 0. 0. 0.\n",
      " 1. 1. 1. 1. 1. 0. 0. 0. 0. 0. 0. 0. 0. 0. 0. 0. 0. 0. 0. 0. 0. 0. 0. 0.\n",
      " 0. 0. 0. 0. 0. 1. 1. 1. 1. 0. 0. 0. 0. 0. 0. 0. 0. 0. 0. 0. 0. 0. 0. 0.\n",
      " 0. 0. 0. 0. 0. 0. 0. 0. 1. 1. 1. 1. 1. 0. 0. 0. 0. 0. 0. 0. 0. 0. 0. 0.\n",
      " 0. 0. 0. 0. 0. 0. 0. 0. 0. 0. 0. 0. 1. 1. 1. 1. 1. 0. 0. 0. 0. 0. 0. 0.\n",
      " 0. 0. 0. 0. 0. 0. 0. 0. 0. 0. 0. 0. 0. 0. 0. 0. 1. 1. 1. 1. 1. 0. 0. 0.\n",
      " 0. 0. 0. 0. 0. 0. 0. 0. 0. 0. 0. 0. 0. 0. 0. 0. 0. 0. 0. 0. 1. 1. 1. 1.\n",
      " 1. 0. 0. 0. 0. 0. 0. 0. 0. 0. 0. 0. 0. 0. 0. 0. 0. 0. 0. 0. 0. 0. 0. 0.\n",
      " 1. 1. 1. 1. 1. 0. 0. 0. 0. 0. 0. 0. 0. 0. 0. 0. 0. 0. 0. 0. 0. 0. 0. 0.\n",
      " 0. 0. 0. 0. 1. 1. 1. 1. 1. 0. 0. 0. 0. 0. 0. 0. 0. 0. 0. 0. 0. 0. 0. 0.\n",
      " 0. 0. 0. 0. 0. 0. 0. 0. 0. 1. 1. 1. 1. 0. 0. 0. 0. 0. 0. 0. 0. 0. 0. 0.\n",
      " 0. 0. 0. 0. 0. 0. 0. 0. 0. 0. 0. 0. 0. 1. 1. 1. 1. 0. 0. 0. 0. 0. 0. 0.\n",
      " 0. 0. 0. 0. 0. 0. 0. 0. 0. 0. 0. 0. 0. 0. 0. 0. 0. 1. 1. 1. 1. 0. 0. 0.\n",
      " 0. 0. 0. 0. 0. 0. 0. 0. 0. 0. 0. 0. 0. 0. 0. 0. 0. 0. 0. 0. 0. 1. 1. 1.\n",
      " 1. 0. 0. 0. 0. 0. 0. 0. 0. 0. 0. 0. 0. 0. 0. 0. 0. 0. 0. 0. 0. 0. 0. 0.\n",
      " 0. 1. 1. 1. 1. 0. 0. 0. 0. 0. 0. 0. 0. 0. 0. 0. 0. 0. 0. 0. 0. 0. 0. 0.\n",
      " 0. 0. 0. 0. 0. 1. 1. 1. 1. 0. 0. 0. 0. 0. 0. 0. 0. 0. 0. 0. 0. 0. 0. 0.\n",
      " 0. 0. 0. 0. 0. 0. 0. 0. 0. 1. 1. 1. 1. 0. 0. 0. 0. 0. 0. 0. 0. 0. 0. 0.\n",
      " 0. 0. 0. 0. 0. 0. 0. 0. 0. 0. 0. 0. 0. 0. 1. 1. 1. 0. 0. 0. 0. 0. 0. 0.\n",
      " 0. 0. 0. 0. 0. 0. 0. 0. 0. 0. 0. 0. 0. 0. 0. 0. 0. 0. 0. 0. 0. 0. 0. 0.\n",
      " 0. 0. 0. 0. 0. 0. 0. 0. 0. 0. 0. 0. 0. 0. 0. 0. 0. 0. 0. 0. 0. 0. 0. 0.\n",
      " 0. 0. 0. 0. 0. 0. 0. 0. 0. 0. 0. 0. 0. 0. 0. 0. 0. 0. 0. 0. 0. 0. 0. 0.\n",
      " 0. 0. 0. 0. 0. 0. 0. 0. 0. 0. 0. 0. 0. 0. 0. 0.]\n"
     ]
    }
   ],
   "source": [
    "dataset_folder = '../../datasets/mnist/'\n",
    "feature_names = ['class'] + ['pixel'+str(i) for i in range(784)]\n",
    "target_idx = 0\n",
    "balance = True\n",
    "\n",
    "dataset = utils.load_csv_dataset(\n",
    "            os.path.join(dataset_folder, 'mnist_[0, 1].csv'), target_idx, ',',\n",
    "            feature_names=feature_names, discretize=False,\n",
    "            balance=balance, skip_first=False)\n",
    "            \n",
    "print(dataset.train[0])"
   ]
  },
  {
   "cell_type": "code",
   "execution_count": 6,
   "metadata": {},
   "outputs": [
    {
     "name": "stdout",
     "output_type": "stream",
     "text": [
      "Train 1.0\n",
      "Test 1.0\n"
     ]
    }
   ],
   "source": [
    "c = sklearn.ensemble.RandomForestClassifier(n_estimators=50, n_jobs=5)\n",
    "c.fit(dataset.train, dataset.labels_train)\n",
    "#print(np.unique(dataset.labels_train))\n",
    "print('Train', sklearn.metrics.accuracy_score(dataset.labels_train, c.predict(dataset.train)))\n",
    "print('Test', sklearn.metrics.accuracy_score(dataset.labels_test, c.predict(dataset.test)))"
   ]
  },
  {
   "cell_type": "code",
   "execution_count": 10,
   "metadata": {},
   "outputs": [
    {
     "name": "stdout",
     "output_type": "stream",
     "text": [
      "(11044, 784)\n"
     ]
    }
   ],
   "source": [
    "transformed_data = []\n",
    "\n",
    "for r in dataset.train:\n",
    "    transformed_data.append([dataset.categorical_names[i][int(r_)] for i, r_ in enumerate(r)])        \n",
    "\n",
    "#print(transformed_data[0])\n",
    "\n",
    "train_data = pd.DataFrame(transformed_data, columns=dataset.feature_names)\n",
    "print(train_data.shape)\n",
    "nb_vals = 25\n",
    "\n",
    "#print(dataset.train[0])\n",
    "#print(dataset.train[0].reshape(1, -1))\n",
    "y=[]\n",
    "for k in range(0, nb_vals):\n",
    "    y.append(c.predict(dataset.train[k].reshape(1, -1))[0])\n"
   ]
  },
  {
   "cell_type": "code",
   "execution_count": 11,
   "metadata": {},
   "outputs": [
    {
     "name": "stdout",
     "output_type": "stream",
     "text": [
      "['pixel0', 'pixel1', 'pixel2', 'pixel3', 'pixel4', 'pixel5', 'pixel6', 'pixel7', 'pixel8', 'pixel9', 'pixel10', 'pixel11', 'pixel12', 'pixel13', 'pixel14', 'pixel15', 'pixel16', 'pixel17', 'pixel18', 'pixel19', 'pixel20', 'pixel21', 'pixel22', 'pixel23', 'pixel24', 'pixel25', 'pixel26', 'pixel27', 'pixel28', 'pixel29', 'pixel30', 'pixel31', 'pixel32', 'pixel33', 'pixel34', 'pixel35', 'pixel36', 'pixel37', 'pixel38', 'pixel39', 'pixel40', 'pixel41', 'pixel42', 'pixel43', 'pixel44', 'pixel45', 'pixel46', 'pixel47', 'pixel48', 'pixel49', 'pixel50', 'pixel51', 'pixel52', 'pixel53', 'pixel54', 'pixel55', 'pixel56', 'pixel57', 'pixel58', 'pixel59', 'pixel60', 'pixel61', 'pixel62', 'pixel63', 'pixel64', 'pixel65', 'pixel66', 'pixel67', 'pixel68', 'pixel69', 'pixel70', 'pixel71', 'pixel72', 'pixel73', 'pixel74', 'pixel75', 'pixel76', 'pixel77', 'pixel78', 'pixel79', 'pixel80', 'pixel81', 'pixel82', 'pixel83', 'pixel84', 'pixel85', 'pixel86', 'pixel87', 'pixel88', 'pixel89', 'pixel90', 'pixel91', 'pixel92', 'pixel93', 'pixel94', 'pixel95', 'pixel96', 'pixel97', 'pixel98', 'pixel99', 'pixel100', 'pixel101', 'pixel102', 'pixel103', 'pixel104', 'pixel105', 'pixel106', 'pixel107', 'pixel108', 'pixel109', 'pixel110', 'pixel111', 'pixel112', 'pixel113', 'pixel114', 'pixel115', 'pixel116', 'pixel117', 'pixel118', 'pixel119', 'pixel120', 'pixel121', 'pixel122', 'pixel123', 'pixel124', 'pixel125', 'pixel126', 'pixel127', 'pixel128', 'pixel129', 'pixel130', 'pixel131', 'pixel132', 'pixel133', 'pixel134', 'pixel135', 'pixel136', 'pixel137', 'pixel138', 'pixel139', 'pixel140', 'pixel141', 'pixel142', 'pixel143', 'pixel144', 'pixel145', 'pixel146', 'pixel147', 'pixel148', 'pixel149', 'pixel150', 'pixel151', 'pixel152', 'pixel153', 'pixel154', 'pixel155', 'pixel156', 'pixel157', 'pixel158', 'pixel159', 'pixel160', 'pixel161', 'pixel162', 'pixel163', 'pixel164', 'pixel165', 'pixel166', 'pixel167', 'pixel168', 'pixel169', 'pixel170', 'pixel171', 'pixel172', 'pixel173', 'pixel174', 'pixel175', 'pixel176', 'pixel177', 'pixel178', 'pixel179', 'pixel180', 'pixel181', 'pixel182', 'pixel183', 'pixel184', 'pixel185', 'pixel186', 'pixel187', 'pixel188', 'pixel189', 'pixel190', 'pixel191', 'pixel192', 'pixel193', 'pixel194', 'pixel195', 'pixel196', 'pixel197', 'pixel198', 'pixel199', 'pixel200', 'pixel201', 'pixel202', 'pixel203', 'pixel204', 'pixel205', 'pixel206', 'pixel207', 'pixel208', 'pixel209', 'pixel210', 'pixel211', 'pixel212', 'pixel213', 'pixel214', 'pixel215', 'pixel216', 'pixel217', 'pixel218', 'pixel219', 'pixel220', 'pixel221', 'pixel222', 'pixel223', 'pixel224', 'pixel225', 'pixel226', 'pixel227', 'pixel228', 'pixel229', 'pixel230', 'pixel231', 'pixel232', 'pixel233', 'pixel234', 'pixel235', 'pixel236', 'pixel237', 'pixel238', 'pixel239', 'pixel240', 'pixel241', 'pixel242', 'pixel243', 'pixel244', 'pixel245', 'pixel246', 'pixel247', 'pixel248', 'pixel249', 'pixel250', 'pixel251', 'pixel252', 'pixel253', 'pixel254', 'pixel255', 'pixel256', 'pixel257', 'pixel258', 'pixel259', 'pixel260', 'pixel261', 'pixel262', 'pixel263', 'pixel264', 'pixel265', 'pixel266', 'pixel267', 'pixel268', 'pixel269', 'pixel270', 'pixel271', 'pixel272', 'pixel273', 'pixel274', 'pixel275', 'pixel276', 'pixel277', 'pixel278', 'pixel279', 'pixel280', 'pixel281', 'pixel282', 'pixel283', 'pixel284', 'pixel285', 'pixel286', 'pixel287', 'pixel288', 'pixel289', 'pixel290', 'pixel291', 'pixel292', 'pixel293', 'pixel294', 'pixel295', 'pixel296', 'pixel297', 'pixel298', 'pixel299', 'pixel300', 'pixel301', 'pixel302', 'pixel303', 'pixel304', 'pixel305', 'pixel306', 'pixel307', 'pixel308', 'pixel309', 'pixel310', 'pixel311', 'pixel312', 'pixel313', 'pixel314', 'pixel315', 'pixel316', 'pixel317', 'pixel318', 'pixel319', 'pixel320', 'pixel321', 'pixel322', 'pixel323', 'pixel324', 'pixel325', 'pixel326', 'pixel327', 'pixel328', 'pixel329', 'pixel330', 'pixel331', 'pixel332', 'pixel333', 'pixel334', 'pixel335', 'pixel336', 'pixel337', 'pixel338', 'pixel339', 'pixel340', 'pixel341', 'pixel342', 'pixel343', 'pixel344', 'pixel345', 'pixel346', 'pixel347', 'pixel348', 'pixel349', 'pixel350', 'pixel351', 'pixel352', 'pixel353', 'pixel354', 'pixel355', 'pixel356', 'pixel357', 'pixel358', 'pixel359', 'pixel360', 'pixel361', 'pixel362', 'pixel363', 'pixel364', 'pixel365', 'pixel366', 'pixel367', 'pixel368', 'pixel369', 'pixel370', 'pixel371', 'pixel372', 'pixel373', 'pixel374', 'pixel375', 'pixel376', 'pixel377', 'pixel378', 'pixel379', 'pixel380', 'pixel381', 'pixel382', 'pixel383', 'pixel384', 'pixel385', 'pixel386', 'pixel387', 'pixel388', 'pixel389', 'pixel390', 'pixel391', 'pixel392', 'pixel393', 'pixel394', 'pixel395', 'pixel396', 'pixel397', 'pixel398', 'pixel399', 'pixel400', 'pixel401', 'pixel402', 'pixel403', 'pixel404', 'pixel405', 'pixel406', 'pixel407', 'pixel408', 'pixel409', 'pixel410', 'pixel411', 'pixel412', 'pixel413', 'pixel414', 'pixel415', 'pixel416', 'pixel417', 'pixel418', 'pixel419', 'pixel420', 'pixel421', 'pixel422', 'pixel423', 'pixel424', 'pixel425', 'pixel426', 'pixel427', 'pixel428', 'pixel429', 'pixel430', 'pixel431', 'pixel432', 'pixel433', 'pixel434', 'pixel435', 'pixel436', 'pixel437', 'pixel438', 'pixel439', 'pixel440', 'pixel441', 'pixel442', 'pixel443', 'pixel444', 'pixel445', 'pixel446', 'pixel447', 'pixel448', 'pixel449', 'pixel450', 'pixel451', 'pixel452', 'pixel453', 'pixel454', 'pixel455', 'pixel456', 'pixel457', 'pixel458', 'pixel459', 'pixel460', 'pixel461', 'pixel462', 'pixel463', 'pixel464', 'pixel465', 'pixel466', 'pixel467', 'pixel468', 'pixel469', 'pixel470', 'pixel471', 'pixel472', 'pixel473', 'pixel474', 'pixel475', 'pixel476', 'pixel477', 'pixel478', 'pixel479', 'pixel480', 'pixel481', 'pixel482', 'pixel483', 'pixel484', 'pixel485', 'pixel486', 'pixel487', 'pixel488', 'pixel489', 'pixel490', 'pixel491', 'pixel492', 'pixel493', 'pixel494', 'pixel495', 'pixel496', 'pixel497', 'pixel498', 'pixel499', 'pixel500', 'pixel501', 'pixel502', 'pixel503', 'pixel504', 'pixel505', 'pixel506', 'pixel507', 'pixel508', 'pixel509', 'pixel510', 'pixel511', 'pixel512', 'pixel513', 'pixel514', 'pixel515', 'pixel516', 'pixel517', 'pixel518', 'pixel519', 'pixel520', 'pixel521', 'pixel522', 'pixel523', 'pixel524', 'pixel525', 'pixel526', 'pixel527', 'pixel528', 'pixel529', 'pixel530', 'pixel531', 'pixel532', 'pixel533', 'pixel534', 'pixel535', 'pixel536', 'pixel537', 'pixel538', 'pixel539', 'pixel540', 'pixel541', 'pixel542', 'pixel543', 'pixel544', 'pixel545', 'pixel546', 'pixel547', 'pixel548', 'pixel549', 'pixel550', 'pixel551', 'pixel552', 'pixel553', 'pixel554', 'pixel555', 'pixel556', 'pixel557', 'pixel558', 'pixel559', 'pixel560', 'pixel561', 'pixel562', 'pixel563', 'pixel564', 'pixel565', 'pixel566', 'pixel567', 'pixel568', 'pixel569', 'pixel570', 'pixel571', 'pixel572', 'pixel573', 'pixel574', 'pixel575', 'pixel576', 'pixel577', 'pixel578', 'pixel579', 'pixel580', 'pixel581', 'pixel582', 'pixel583', 'pixel584', 'pixel585', 'pixel586', 'pixel587', 'pixel588', 'pixel589', 'pixel590', 'pixel591', 'pixel592', 'pixel593', 'pixel594', 'pixel595', 'pixel596', 'pixel597', 'pixel598', 'pixel599', 'pixel600', 'pixel601', 'pixel602', 'pixel603', 'pixel604', 'pixel605', 'pixel606', 'pixel607', 'pixel608', 'pixel609', 'pixel610', 'pixel611', 'pixel612', 'pixel613', 'pixel614', 'pixel615', 'pixel616', 'pixel617', 'pixel618', 'pixel619', 'pixel620', 'pixel621', 'pixel622', 'pixel623', 'pixel624', 'pixel625', 'pixel626', 'pixel627', 'pixel628', 'pixel629', 'pixel630', 'pixel631', 'pixel632', 'pixel633', 'pixel634', 'pixel635', 'pixel636', 'pixel637', 'pixel638', 'pixel639', 'pixel640', 'pixel641', 'pixel642', 'pixel643', 'pixel644', 'pixel645', 'pixel646', 'pixel647', 'pixel648', 'pixel649', 'pixel650', 'pixel651', 'pixel652', 'pixel653', 'pixel654', 'pixel655', 'pixel656', 'pixel657', 'pixel658', 'pixel659', 'pixel660', 'pixel661', 'pixel662', 'pixel663', 'pixel664', 'pixel665', 'pixel666', 'pixel667', 'pixel668', 'pixel669', 'pixel670', 'pixel671', 'pixel672', 'pixel673', 'pixel674', 'pixel675', 'pixel676', 'pixel677', 'pixel678', 'pixel679', 'pixel680', 'pixel681', 'pixel682', 'pixel683', 'pixel684', 'pixel685', 'pixel686', 'pixel687', 'pixel688', 'pixel689', 'pixel690', 'pixel691', 'pixel692', 'pixel693', 'pixel694', 'pixel695', 'pixel696', 'pixel697', 'pixel698', 'pixel699', 'pixel700', 'pixel701', 'pixel702', 'pixel703', 'pixel704', 'pixel705', 'pixel706', 'pixel707', 'pixel708', 'pixel709', 'pixel710', 'pixel711', 'pixel712', 'pixel713', 'pixel714', 'pixel715', 'pixel716', 'pixel717', 'pixel718', 'pixel719', 'pixel720', 'pixel721', 'pixel722', 'pixel723', 'pixel724', 'pixel725', 'pixel726', 'pixel727', 'pixel728', 'pixel729', 'pixel730', 'pixel731', 'pixel732', 'pixel733', 'pixel734', 'pixel735', 'pixel736', 'pixel737', 'pixel738', 'pixel739', 'pixel740', 'pixel741', 'pixel742', 'pixel743', 'pixel744', 'pixel745', 'pixel746', 'pixel747', 'pixel748', 'pixel749', 'pixel750', 'pixel751', 'pixel752', 'pixel753', 'pixel754', 'pixel755', 'pixel756', 'pixel757', 'pixel758', 'pixel759', 'pixel760', 'pixel761', 'pixel762', 'pixel763', 'pixel764', 'pixel765', 'pixel766', 'pixel767', 'pixel768', 'pixel769', 'pixel770', 'pixel771', 'pixel772', 'pixel773', 'pixel774', 'pixel775', 'pixel776', 'pixel777', 'pixel778', 'pixel779', 'pixel780', 'pixel781', 'pixel782', 'pixel783']\n",
      "Generating arguments\n",
      "19600  potential arg checked.\n",
      "len  1 : 243 ,  22\n",
      "7673400  potential arg checked.\n",
      "len  2 : 7183 ,  4619\n"
     ]
    },
    {
     "ename": "KeyboardInterrupt",
     "evalue": "",
     "output_type": "error",
     "traceback": [
      "\u001b[1;31m---------------------------------------------------------------------------\u001b[0m",
      "\u001b[1;31mKeyboardInterrupt\u001b[0m                         Traceback (most recent call last)",
      "\u001b[1;32mc:\\Users\\henro\\ws\\argumentation\\argument-based-explainer\\experiments\\exp_mnist.ipynb Cellule 6\u001b[0m in \u001b[0;36m<cell line: 10>\u001b[1;34m()\u001b[0m\n\u001b[0;32m      <a href='vscode-notebook-cell:/c%3A/Users/henro/ws/argumentation/argument-based-explainer/experiments/exp_mnist.ipynb#W5sZmlsZQ%3D%3D?line=6'>7</a>\u001b[0m \u001b[39mimport\u001b[39;00m \u001b[39marg_explainer\u001b[39;00m \u001b[39mas\u001b[39;00m \u001b[39mae\u001b[39;00m\n\u001b[0;32m      <a href='vscode-notebook-cell:/c%3A/Users/henro/ws/argumentation/argument-based-explainer/experiments/exp_mnist.ipynb#W5sZmlsZQ%3D%3D?line=8'>9</a>\u001b[0m \u001b[39mprint\u001b[39m(dataset\u001b[39m.\u001b[39mfeature_names)\n\u001b[1;32m---> <a href='vscode-notebook-cell:/c%3A/Users/henro/ws/argumentation/argument-based-explainer/experiments/exp_mnist.ipynb#W5sZmlsZQ%3D%3D?line=9'>10</a>\u001b[0m explainer \u001b[39m=\u001b[39m ae\u001b[39m.\u001b[39;49mArgTabularExplainer(c, train_data\u001b[39m.\u001b[39;49miloc[\u001b[39m0\u001b[39;49m:nb_vals], y, \u001b[39m'\u001b[39;49m\u001b[39mmnist01_\u001b[39;49m\u001b[39m'\u001b[39;49m \u001b[39m+\u001b[39;49m \u001b[39mstr\u001b[39;49m(nb_vals), compute\u001b[39m=\u001b[39;49m\u001b[39mTrue\u001b[39;49;00m, output_path\u001b[39m=\u001b[39;49m\u001b[39m'\u001b[39;49m\u001b[39m../saves\u001b[39;49m\u001b[39m'\u001b[39;49m)\n",
      "File \u001b[1;32mc:\\Users\\henro\\ws\\argumentation\\argument-based-explainer\\experiments/..\\arg_explainer.py:46\u001b[0m, in \u001b[0;36mArgTabularExplainer.__init__\u001b[1;34m(self, model, dataset, y, exp_name, compute, output_path)\u001b[0m\n\u001b[0;32m     42\u001b[0m \u001b[39mself\u001b[39m\u001b[39m.\u001b[39mibyf, \u001b[39mself\u001b[39m\u001b[39m.\u001b[39mfeatures_p_col, \u001b[39mself\u001b[39m\u001b[39m.\u001b[39mcol_p_feature \u001b[39m=\u001b[39m \u001b[39mself\u001b[39m\u001b[39m.\u001b[39mpreprocess_structures(\n\u001b[0;32m     43\u001b[0m     \u001b[39mself\u001b[39m\u001b[39m.\u001b[39mdataset, \u001b[39mself\u001b[39m\u001b[39m.\u001b[39mt_X, \u001b[39mself\u001b[39m\u001b[39m.\u001b[39mfeature_names)\n\u001b[0;32m     45\u001b[0m \u001b[39mif\u001b[39;00m compute:\n\u001b[1;32m---> 46\u001b[0m     \u001b[39mself\u001b[39m\u001b[39m.\u001b[39mminimals, \u001b[39mself\u001b[39m\u001b[39m.\u001b[39mcovi_by_arg, \u001b[39mself\u001b[39m\u001b[39m.\u001b[39mcovc_by_arg \u001b[39m=\u001b[39m \u001b[39mself\u001b[39;49m\u001b[39m.\u001b[39;49mgenerate_args(\u001b[39mself\u001b[39;49m\u001b[39m.\u001b[39;49mibyf, \u001b[39mself\u001b[39;49m\u001b[39m.\u001b[39;49mX, \u001b[39mself\u001b[39;49m\u001b[39m.\u001b[39;49my)\n\u001b[0;32m     47\u001b[0m     \u001b[39m## Save\u001b[39;00m\n\u001b[0;32m     48\u001b[0m     pp \u001b[39m=\u001b[39m path\u001b[39m.\u001b[39mjoin(output_path, \u001b[39mself\u001b[39m\u001b[39m.\u001b[39mexp_name \u001b[39m+\u001b[39m \u001b[39m'\u001b[39m\u001b[39m_minimals.df\u001b[39m\u001b[39m'\u001b[39m)\n",
      "File \u001b[1;32mc:\\Users\\henro\\ws\\argumentation\\argument-based-explainer\\experiments/..\\arg_explainer.py:139\u001b[0m, in \u001b[0;36mArgTabularExplainer.generate_args\u001b[1;34m(self, instances_by_feature, X, y)\u001b[0m\n\u001b[0;32m    137\u001b[0m special \u001b[39m=\u001b[39m \u001b[39mFalse\u001b[39;00m\n\u001b[0;32m    138\u001b[0m n \u001b[39m+\u001b[39m\u001b[39m=\u001b[39m \u001b[39m1\u001b[39m\n\u001b[1;32m--> 139\u001b[0m args, minimals \u001b[39m=\u001b[39m generate_args_lenN(n, instances_by_feature, X\u001b[39m.\u001b[39;49mtoarray(), y, minimals)\n\u001b[0;32m    140\u001b[0m \u001b[39mprint\u001b[39m(\u001b[39m\"\u001b[39m\u001b[39mlen \u001b[39m\u001b[39m\"\u001b[39m, n, \u001b[39m\"\u001b[39m\u001b[39m:\u001b[39m\u001b[39m\"\u001b[39m, \u001b[39mlen\u001b[39m(minimals[\u001b[39m0\u001b[39m][n\u001b[39m-\u001b[39m\u001b[39m1\u001b[39m]), \u001b[39m'\u001b[39m\u001b[39m, \u001b[39m\u001b[39m'\u001b[39m, \u001b[39mlen\u001b[39m(minimals[\u001b[39m1\u001b[39m][n\u001b[39m-\u001b[39m\u001b[39m1\u001b[39m]))\n\u001b[0;32m    141\u001b[0m \u001b[39mif\u001b[39;00m n\u001b[39m==\u001b[39m\u001b[39m1\u001b[39m \u001b[39mand\u001b[39;00m ( \u001b[39mnot\u001b[39;00m minimals[\u001b[39m0\u001b[39m][\u001b[39m0\u001b[39m] \u001b[39mand\u001b[39;00m \u001b[39mnot\u001b[39;00m minimals[\u001b[39m1\u001b[39m][\u001b[39m0\u001b[39m]):\n",
      "File \u001b[1;32mc:\\Users\\henro\\ws\\argumentation\\argument-based-explainer\\experiments/..\\arg_explainer.py:119\u001b[0m, in \u001b[0;36mArgTabularExplainer.generate_args.<locals>.generate_args_lenN\u001b[1;34m(n, ibyf, dataset, predictions, minimals)\u001b[0m\n\u001b[0;32m    117\u001b[0m \u001b[39mif\u001b[39;00m \u001b[39mnot\u001b[39;00m is_minimal(potential_arg, cl, minimals, n\u001b[39m-\u001b[39m\u001b[39m1\u001b[39m):\n\u001b[0;32m    118\u001b[0m     \u001b[39mcontinue\u001b[39;00m\n\u001b[1;32m--> 119\u001b[0m selection \u001b[39m=\u001b[39m \u001b[39mset\u001b[39m\u001b[39m.\u001b[39mintersection(\u001b[39m*\u001b[39m[\u001b[39mset\u001b[39m(ibyf[w]) \u001b[39mfor\u001b[39;00m w \u001b[39min\u001b[39;00m potential_arg])  \u001b[39m# all rows with all features of potential argument\u001b[39;00m\n\u001b[0;32m    120\u001b[0m selection_preds \u001b[39m=\u001b[39m [predictions[i_] \u001b[39mfor\u001b[39;00m i_ \u001b[39min\u001b[39;00m selection]\n\u001b[0;32m    121\u001b[0m \u001b[39mif\u001b[39;00m selection_preds[:\u001b[39m-\u001b[39m\u001b[39m1\u001b[39m] \u001b[39m==\u001b[39m selection_preds[\u001b[39m1\u001b[39m:]:\n",
      "File \u001b[1;32mc:\\Users\\henro\\ws\\argumentation\\argument-based-explainer\\experiments/..\\arg_explainer.py:119\u001b[0m, in \u001b[0;36m<listcomp>\u001b[1;34m(.0)\u001b[0m\n\u001b[0;32m    117\u001b[0m \u001b[39mif\u001b[39;00m \u001b[39mnot\u001b[39;00m is_minimal(potential_arg, cl, minimals, n\u001b[39m-\u001b[39m\u001b[39m1\u001b[39m):\n\u001b[0;32m    118\u001b[0m     \u001b[39mcontinue\u001b[39;00m\n\u001b[1;32m--> 119\u001b[0m selection \u001b[39m=\u001b[39m \u001b[39mset\u001b[39m\u001b[39m.\u001b[39mintersection(\u001b[39m*\u001b[39m[\u001b[39mset\u001b[39m(ibyf[w]) \u001b[39mfor\u001b[39;00m w \u001b[39min\u001b[39;00m potential_arg])  \u001b[39m# all rows with all features of potential argument\u001b[39;00m\n\u001b[0;32m    120\u001b[0m selection_preds \u001b[39m=\u001b[39m [predictions[i_] \u001b[39mfor\u001b[39;00m i_ \u001b[39min\u001b[39;00m selection]\n\u001b[0;32m    121\u001b[0m \u001b[39mif\u001b[39;00m selection_preds[:\u001b[39m-\u001b[39m\u001b[39m1\u001b[39m] \u001b[39m==\u001b[39m selection_preds[\u001b[39m1\u001b[39m:]:\n",
      "\u001b[1;31mKeyboardInterrupt\u001b[0m: "
     ]
    }
   ],
   "source": [
    "import sys\n",
    "sys.path.append(sys.path[0] + '/..')\n",
    "\n",
    "import arg_explainer as ae\n",
    "from importlib import reload\n",
    "reload(ae)\n",
    "import arg_explainer as ae\n",
    "\n",
    "print(dataset.feature_names)\n",
    "explainer = ae.ArgTabularExplainer(c, train_data.iloc[0:nb_vals], y, 'mnist01_' + str(nb_vals), compute=True, output_path='../saves')"
   ]
  },
  {
   "cell_type": "code",
   "execution_count": 59,
   "metadata": {},
   "outputs": [
    {
     "name": "stdout",
     "output_type": "stream",
     "text": [
      "2602 2506  args total\n",
      "adult_1000\n"
     ]
    }
   ],
   "source": [
    "G = explainer.build_attack_graph(compute=True, display_graph=False)\n",
    "print('edges per node:', np.mean([len(G.edges(n)) for n in G.nodes()]))\n",
    "\n",
    "explainer.export_graph('asp', '../saves')"
   ]
  },
  {
   "cell_type": "code",
   "execution_count": 55,
   "metadata": {},
   "outputs": [
    {
     "name": "stdout",
     "output_type": "stream",
     "text": [
      "Working with NetworkX to find naive extensions:\n",
      "Graph density =  0.4289357051787991\n",
      "Number of extensions:  769\n",
      "Time for selection:  0.05899333953857422\n",
      "Len max_cov_exts:  2\n"
     ]
    }
   ],
   "source": [
    "#ext_gen = explainer.extension_generator_from_graph()\n",
    "ext_gen = explainer.extension_generator_from_sat(file='../saves/adult_1000_sat.txt')\n",
    "max_covi_ext = explainer.make_selection('max_covi', ext_gen)"
   ]
  },
  {
   "cell_type": "code",
   "execution_count": 56,
   "metadata": {},
   "outputs": [
    {
     "name": "stdout",
     "output_type": "stream",
     "text": [
      "{frozenset({33}), frozenset({23}), frozenset({32, 43}), frozenset({34}), frozenset({27}), frozenset({32, 3}), frozenset({32, 6}), frozenset({24}), frozenset({26}), frozenset({32, 14}), frozenset({28}), frozenset({29}), frozenset({30}), frozenset({32, 18}), frozenset({32, 1}), frozenset({32, 52})}\n",
      "id: 0 coverage: 2 Arg 1/2: frozenset({'Education_Some-college', 'Occupation_Sales'})\n",
      "id: 1 coverage: 0 Arg 1/0: None\n",
      "id: 2 coverage: 0 Arg 1/0: None\n",
      "id: 3 coverage: 2 Arg 1/1: frozenset({'Occupation_Machine-op-inspct'})\n",
      "id: 4 coverage: 0 Arg 1/0: None\n",
      "id: 5 coverage: 2 Arg 1/1: frozenset({'Occupation_Farming-fishing'})\n",
      "id: 6 coverage: 0 Arg 1/0: None\n",
      "id: 7 coverage: 2 Arg 1/3: frozenset({'Occupation_Sales', 'Sex_Female'})\n",
      "id: 8 coverage: 0 Arg 1/0: None\n",
      "id: 9 coverage: 3 Arg 1/1: frozenset({'Occupation_Prof-specialty'})\n",
      "id: 10 coverage: 0 Arg 1/0: None\n",
      "id: 11 coverage: 1 Arg 1/1: frozenset({'Occupation_Transport-moving'})\n",
      "id: 12 coverage: 0 Arg 1/0: None\n",
      "id: 13 coverage: 1 Arg 1/1: frozenset({'Occupation_Craft-repair'})\n",
      "id: 14 coverage: 3 Arg 1/1: frozenset({'Occupation_Prof-specialty'})\n",
      "id: 15 coverage: 2 Arg 1/2: frozenset({'Education_Bachelors', 'Occupation_Sales'})\n",
      "id: 16 coverage: 2 Arg 1/1: frozenset({'Occupation_Farming-fishing'})\n",
      "id: 17 coverage: 1 Arg 1/1: frozenset({'Occupation_Handlers-cleaners'})\n",
      "id: 18 coverage: 2 Arg 1/2: frozenset({'Hours per week_Hours per week > 45.00', 'Occupation_Sales'})\n",
      "id: 19 coverage: 1 Arg 1/1: frozenset({'Occupation_Other-service'})\n",
      "id: 20 coverage: 0 Arg 1/0: None\n",
      "id: 21 coverage: 3 Arg 1/1: frozenset({'Occupation_Prof-specialty'})\n",
      "id: 22 coverage: 1 Arg 1/1: frozenset({'Occupation_Tech-support'})\n",
      "id: 23 coverage: 1 Arg 1/1: frozenset({'Occupation_Adm-clerical'})\n",
      "id: 24 coverage: 2 Arg 1/1: frozenset({'Occupation_Machine-op-inspct'})\n",
      "8 25\n"
     ]
    }
   ],
   "source": [
    "#sel = explainer.make_selection(max_covi_ext, 'max_covc')\n",
    "res = explainer.apply_inference(max_covi_ext, 'universal')\n",
    "#print(res)\n",
    "\n",
    "explainer.display_explanations()\n"
   ]
  },
  {
   "cell_type": "markdown",
   "metadata": {},
   "source": [
    "## Sat solver: ASPARTIX"
   ]
  },
  {
   "cell_type": "code",
   "execution_count": null,
   "metadata": {},
   "outputs": [],
   "source": [
    "ext_gen = explainer.extension_generator(file='asp_test.txt')\n",
    "max_covi_ext = explainer.make_selection(ext_gen, 'max_covi')"
   ]
  },
  {
   "cell_type": "code",
   "execution_count": null,
   "metadata": {},
   "outputs": [
    {
     "name": "stdout",
     "output_type": "stream",
     "text": [
      "0.4019384124647283\n",
      "Number of extensions: 1326480\n",
      "Time spent on naive extensions: 55.99906277656555 s ( 86.23851943016052 )\n",
      "len(max_cov_exts)= 1326478 / 1326480\n",
      "Covc strategy's coverage: 2\n",
      "Top 5 covs: [2, 2, 2, 2, 2]\n",
      "id: 0 coverage: 1 Arg 1/12: frozenset({'Relationship_Husband', 'Country_United-States', 'Education_Some-college'})\n",
      "id: 1 coverage: 1 Arg 1/10: frozenset({'Marital Status_Never-married', 'Age_37.00 < Age <= 48.00'})\n",
      "id: 2 coverage: 1 Arg 1/22: frozenset({'Age_Age > 48.00', 'Occupation_Exec-managerial', 'Capital Gain_0', 'Workclass_Private'})\n",
      "id: 3 coverage: 1 Arg 1/18: frozenset({'Hours per week_Hours per week <= 40.00', 'Occupation_Machine-op-inspct'})\n",
      "id: 4 coverage: 1 Arg 1/17: frozenset({'Capital Loss_0', 'Capital Gain_0', 'Occupation_Sales', 'Hours per week_Hours per week <= 40.00', 'Relationship_Husband'})\n",
      "id: 5 coverage: 1 Arg 1/8: frozenset({'Occupation_Farming-fishing', 'Hours per week_Hours per week <= 40.00'})\n",
      "id: 6 coverage: 1 Arg 1/24: frozenset({'Education_Bachelors', 'Age_37.00 < Age <= 48.00', 'Occupation_Protective-serv'})\n",
      "id: 7 coverage: 1 Arg 1/10: frozenset({'Sex_Female', 'Education_Bachelors', 'Marital Status_Married-civ-spouse'})\n",
      "id: 8 coverage: 1 Arg 1/14: frozenset({'Marital Status_Divorced', 'Workclass_?'})\n",
      "id: 9 coverage: 1 Arg 1/7: frozenset({'Relationship_Husband', 'Education_Bachelors', 'Age_28.00 < Age <= 37.00'})\n",
      "id: 10 coverage: 1 Arg 1/13: frozenset({'Race_Black', 'Sex_Male'})\n",
      "id: 11 coverage: 1 Arg 1/5: frozenset({'Education_HS-grad', 'Occupation_Transport-moving'})\n",
      "id: 12 coverage: 1 Arg 1/12: frozenset({'Sex_Female', 'Occupation_?', 'Education_HS-grad'})\n",
      "id: 13 coverage: 1 Arg 1/9: frozenset({'Marital Status_Never-married', 'Workclass_Private'})\n",
      "id: 14 coverage: 1 Arg 1/15: frozenset({'Age_Age > 48.00', 'Sex_Female', 'Marital Status_Married-civ-spouse'})\n",
      "id: 15 coverage: 1 Arg 1/9: frozenset({'Relationship_Husband', 'Education_Bachelors', 'Age_28.00 < Age <= 37.00'})\n",
      "id: 16 coverage: 1 Arg 1/10: frozenset({'Country_United-States', 'Age_28.00 < Age <= 37.00', 'Workclass_Self-emp-not-inc'})\n",
      "id: 17 coverage: 1 Arg 1/8: frozenset({'Workclass_Local-gov', 'Occupation_Handlers-cleaners'})\n",
      "id: 18 coverage: 1 Arg 1/12: frozenset({'Age_Age > 48.00', 'Hours per week_Hours per week > 45.00', 'Sex_Male'})\n",
      "id: 19 coverage: 1 Arg 1/9: frozenset({'Marital Status_Never-married', 'Workclass_Private'})\n",
      "id: 20 coverage: 1 Arg 1/6: frozenset({'Occupation_?', 'Sex_Male'})\n",
      "id: 21 coverage: 1 Arg 1/17: frozenset({'Age_Age > 48.00', 'Marital Status_Married-civ-spouse', 'Education_Bachelors'})\n",
      "id: 22 coverage: 1 Arg 1/22: frozenset({'Occupation_Tech-support', 'Age_28.00 < Age <= 37.00'})\n",
      "id: 23 coverage: 1 Arg 1/17: frozenset({'Education_Some-college', 'Race_Black'})\n",
      "id: 24 coverage: 1 Arg 1/5: frozenset({'Hours per week_Hours per week <= 40.00', 'Occupation_Machine-op-inspct'})\n",
      "id: 25 coverage: 1 Arg 1/10: frozenset({'Relationship_Husband', 'Country_United-States', 'Education_Some-college'})\n",
      "id: 26 coverage: 1 Arg 1/11: frozenset({'Marital Status_Married-civ-spouse', 'Education_Masters'})\n",
      "id: 27 coverage: 1 Arg 1/16: frozenset({'Relationship_Husband', 'Country_United-States', 'Education_Some-college'})\n",
      "id: 28 coverage: 1 Arg 1/27: frozenset({'Age_37.00 < Age <= 48.00', 'Education_Masters'})\n",
      "id: 29 coverage: 1 Arg 1/4: frozenset({'Capital Gain_0', 'Occupation_Machine-op-inspct'})\n",
      "id: 30 coverage: 1 Arg 1/6: frozenset({'Marital Status_Married-civ-spouse', 'Education_Masters'})\n",
      "id: 31 coverage: 1 Arg 1/11: frozenset({'Marital Status_Never-married', 'Workclass_Private'})\n",
      "id: 32 coverage: 1 Arg 1/10: frozenset({'Sex_Female', 'Marital Status_Married-civ-spouse', 'Age_28.00 < Age <= 37.00'})\n",
      "id: 33 coverage: 1 Arg 1/10: frozenset({'Sex_Female', 'Relationship_Not-in-family', 'Country_United-States', 'Hours per week_Hours per week <= 40.00'})\n",
      "id: 34 coverage: 1 Arg 1/8: frozenset({'Occupation_Farming-fishing', 'Education_HS-grad'})\n",
      "id: 35 coverage: 1 Arg 1/11: frozenset({'Hours per week_Hours per week <= 40.00', 'Occupation_Machine-op-inspct'})\n",
      "id: 36 coverage: 1 Arg 1/5: frozenset({'Country_Germany'})\n",
      "id: 37 coverage: 1 Arg 1/21: frozenset({'Education_Some-college', 'Marital Status_Married-civ-spouse', 'Country_United-States'})\n",
      "id: 38 coverage: 1 Arg 1/8: frozenset({'Marital Status_Married-civ-spouse', 'Education_Bachelors', 'Age_28.00 < Age <= 37.00'})\n",
      "id: 39 coverage: 1 Arg 1/12: frozenset({'Age_Age > 48.00', 'Occupation_Prof-specialty', 'Sex_Male'})\n",
      "id: 40 coverage: 1 Arg 1/12: frozenset({'Education_Bachelors', 'Hours per week_Hours per week > 45.00'})\n",
      "id: 41 coverage: 1 Arg 1/15: frozenset({'Occupation_Priv-house-serv'})\n",
      "id: 42 coverage: 1 Arg 1/12: frozenset({'Relationship_Husband', 'Education_Bachelors', 'Age_28.00 < Age <= 37.00'})\n",
      "id: 43 coverage: 1 Arg 1/13: frozenset({'Sex_Female', 'Occupation_?', 'Education_HS-grad'})\n",
      "id: 44 coverage: 1 Arg 1/25: frozenset({'Relationship_Not-in-family', 'Education_HS-grad', 'Workclass_Private'})\n",
      "id: 45 coverage: 1 Arg 1/13: frozenset({'Relationship_Not-in-family', 'Age_37.00 < Age <= 48.00', 'Occupation_Protective-serv'})\n",
      "id: 46 coverage: 1 Arg 1/22: frozenset({'Relationship_Not-in-family', 'Age_Age <= 28.00'})\n",
      "id: 47 coverage: 1 Arg 1/7: frozenset({'Education_HS-grad', 'Age_28.00 < Age <= 37.00', 'Workclass_Private', 'Sex_Male'})\n",
      "id: 48 coverage: 1 Arg 1/22: frozenset({'Education_Some-college', 'Marital Status_Married-civ-spouse', 'Country_United-States'})\n",
      "id: 49 coverage: 1 Arg 1/8: frozenset({'Hours per week_Hours per week <= 40.00', 'Age_Age <= 28.00', 'Sex_Male'})\n",
      "id: 50 coverage: 1 Arg 1/9: frozenset({'Marital Status_Married-civ-spouse', 'Occupation_Tech-support'})\n",
      "id: 51 coverage: 1 Arg 1/13: frozenset({'Age_Age > 48.00', 'Race_White', 'Education_Bachelors'})\n",
      "id: 52 coverage: 1 Arg 1/11: frozenset({'Marital Status_Never-married', 'Workclass_Private'})\n",
      "id: 53 coverage: 1 Arg 1/10: frozenset({'Race_Black', 'Sex_Male'})\n",
      "id: 54 coverage: 1 Arg 1/10: frozenset({'Relationship_Husband', 'Country_United-States', 'Education_Some-college'})\n",
      "id: 55 coverage: 1 Arg 1/5: frozenset({'Occupation_Sales', 'Marital Status_Married-civ-spouse', 'Education_HS-grad'})\n",
      "id: 56 coverage: 1 Arg 1/19: frozenset({'Marital Status_Married-civ-spouse', 'Workclass_State-gov'})\n",
      "id: 57 coverage: 1 Arg 1/7: frozenset({'Age_37.00 < Age <= 48.00', 'Workclass_Self-emp-not-inc'})\n",
      "id: 58 coverage: 1 Arg 1/16: frozenset({'Age_Age <= 28.00', 'Workclass_State-gov'})\n",
      "id: 59 coverage: 1 Arg 1/15: frozenset({'Marital Status_Married-civ-spouse', 'Occupation_Tech-support'})\n",
      "id: 60 coverage: 1 Arg 1/7: frozenset({'Hours per week_Hours per week > 45.00', 'Age_28.00 < Age <= 37.00', 'Occupation_Prof-specialty'})\n",
      "id: 61 coverage: 1 Arg 1/20: frozenset({'Relationship_Not-in-family', 'Education_HS-grad', 'Workclass_Private'})\n",
      "id: 62 coverage: 1 Arg 1/10: frozenset({'Education_HS-grad', 'Age_28.00 < Age <= 37.00', 'Workclass_Private', 'Sex_Male'})\n",
      "id: 63 coverage: 1 Arg 1/7: frozenset({'Occupation_Exec-managerial', 'Workclass_Self-emp-not-inc'})\n",
      "id: 64 coverage: 1 Arg 1/11: frozenset({'Marital Status_Never-married', 'Workclass_Private'})\n",
      "id: 65 coverage: 1 Arg 1/8: frozenset({'Relationship_Wife', 'Occupation_Adm-clerical'})\n",
      "id: 66 coverage: 1 Arg 1/18: frozenset({'Capital Loss_0', 'Hours per week_Hours per week <= 40.00', 'Workclass_Local-gov', 'Capital Gain_0'})\n",
      "id: 67 coverage: 1 Arg 1/12: frozenset({'Marital Status_Married-civ-spouse', 'Occupation_Tech-support'})\n",
      "id: 68 coverage: 1 Arg 1/14: frozenset({'Relationship_Not-in-family', 'Age_Age <= 28.00'})\n",
      "id: 69 coverage: 1 Arg 1/16: frozenset({'Age_Age > 48.00', 'Occupation_Machine-op-inspct'})\n",
      "id: 70 coverage: 1 Arg 1/8: frozenset({'Age_Age > 48.00', 'Marital Status_Married-civ-spouse', 'Workclass_Private'})\n",
      "id: 71 coverage: 1 Arg 1/16: frozenset({'Relationship_Unmarried'})\n",
      "id: 72 coverage: 1 Arg 1/13: frozenset({'Age_Age > 48.00', 'Race_White', 'Education_Bachelors'})\n",
      "id: 73 coverage: 1 Arg 1/26: frozenset({'Education_Bachelors', 'Workclass_Local-gov', 'Marital Status_Divorced'})\n",
      "id: 74 coverage: 1 Arg 1/13: frozenset({'Occupation_Handlers-cleaners', 'Workclass_Private'})\n",
      "id: 75 coverage: 1 Arg 1/11: frozenset({'Relationship_Husband', 'Country_United-States', 'Education_Some-college'})\n",
      "id: 76 coverage: 1 Arg 1/7: frozenset({'Occupation_Exec-managerial', 'Relationship_Not-in-family'})\n",
      "id: 77 coverage: 1 Arg 1/3: frozenset({'Age_37.00 < Age <= 48.00', 'Education_HS-grad'})\n",
      "id: 78 coverage: 1 Arg 1/17: frozenset({'Race_Black', 'Sex_Male'})\n",
      "id: 79 coverage: 1 Arg 1/16: frozenset({'Sex_Female', 'Relationship_Not-in-family', 'Country_United-States', 'Hours per week_Hours per week <= 40.00'})\n",
      "0 80\n"
     ]
    }
   ],
   "source": [
    "explainer.set_strategy('max_covc', 'existence')\n",
    "## Define strategy before calling explainer.explain()\n",
    "explainer.display_explanations()"
   ]
  },
  {
   "cell_type": "code",
   "execution_count": null,
   "metadata": {},
   "outputs": [
    {
     "name": "stdout",
     "output_type": "stream",
     "text": [
      "0.40616693248272195\n",
      "Number of extensions: 521076\n",
      "len(max_cov_exts)= 521074 / 521076\n",
      "Covc strategy's coverage: 2\n",
      "Top 5 covs: [2, 2, 2, 2, 2]\n",
      "id: 0 coverage: 0 Arg 1/0: None\n",
      "id: 1 coverage: 0 Arg 1/0: None\n",
      "id: 2 coverage: 0 Arg 1/0: None\n",
      "id: 3 coverage: 0 Arg 1/0: None\n",
      "id: 4 coverage: 0 Arg 1/0: None\n",
      "id: 5 coverage: 0 Arg 1/0: None\n",
      "id: 6 coverage: 0 Arg 1/0: None\n",
      "id: 7 coverage: 0 Arg 1/0: None\n",
      "id: 8 coverage: 0 Arg 1/0: None\n",
      "id: 9 coverage: 0 Arg 1/0: None\n",
      "id: 10 coverage: 0 Arg 1/0: None\n",
      "id: 11 coverage: 0 Arg 1/0: None\n",
      "id: 12 coverage: 0 Arg 1/0: None\n",
      "id: 13 coverage: 0 Arg 1/0: None\n",
      "id: 14 coverage: 0 Arg 1/0: None\n",
      "id: 15 coverage: 0 Arg 1/0: None\n",
      "id: 16 coverage: 0 Arg 1/0: None\n",
      "id: 17 coverage: 0 Arg 1/0: None\n",
      "id: 18 coverage: 0 Arg 1/0: None\n",
      "id: 19 coverage: 0 Arg 1/0: None\n",
      "id: 20 coverage: 0 Arg 1/0: None\n",
      "id: 21 coverage: 0 Arg 1/0: None\n",
      "id: 22 coverage: 0 Arg 1/0: None\n",
      "id: 23 coverage: 0 Arg 1/0: None\n",
      "id: 24 coverage: 0 Arg 1/0: None\n",
      "id: 25 coverage: 0 Arg 1/0: None\n",
      "id: 26 coverage: 0 Arg 1/0: None\n",
      "id: 27 coverage: 0 Arg 1/0: None\n",
      "id: 28 coverage: 0 Arg 1/0: None\n",
      "id: 29 coverage: 0 Arg 1/0: None\n",
      "id: 30 coverage: 0 Arg 1/0: None\n",
      "id: 31 coverage: 0 Arg 1/0: None\n",
      "id: 32 coverage: 0 Arg 1/0: None\n",
      "id: 33 coverage: 0 Arg 1/0: None\n",
      "id: 34 coverage: 0 Arg 1/0: None\n",
      "id: 35 coverage: 0 Arg 1/0: None\n",
      "id: 36 coverage: 0 Arg 1/0: None\n",
      "id: 37 coverage: 0 Arg 1/0: None\n",
      "id: 38 coverage: 0 Arg 1/0: None\n",
      "id: 39 coverage: 0 Arg 1/0: None\n",
      "id: 40 coverage: 0 Arg 1/0: None\n",
      "id: 41 coverage: 0 Arg 1/0: None\n",
      "id: 42 coverage: 0 Arg 1/0: None\n",
      "id: 43 coverage: 0 Arg 1/0: None\n",
      "id: 44 coverage: 0 Arg 1/0: None\n",
      "id: 45 coverage: 0 Arg 1/0: None\n",
      "id: 46 coverage: 0 Arg 1/0: None\n",
      "id: 47 coverage: 0 Arg 1/0: None\n",
      "id: 48 coverage: 0 Arg 1/0: None\n",
      "id: 49 coverage: 0 Arg 1/0: None\n",
      "id: 50 coverage: 0 Arg 1/0: None\n",
      "id: 51 coverage: 0 Arg 1/0: None\n",
      "id: 52 coverage: 0 Arg 1/0: None\n",
      "id: 53 coverage: 0 Arg 1/0: None\n",
      "id: 54 coverage: 0 Arg 1/0: None\n",
      "id: 55 coverage: 0 Arg 1/0: None\n",
      "id: 56 coverage: 0 Arg 1/0: None\n",
      "id: 57 coverage: 0 Arg 1/0: None\n",
      "id: 58 coverage: 0 Arg 1/0: None\n",
      "id: 59 coverage: 0 Arg 1/0: None\n",
      "id: 60 coverage: 0 Arg 1/0: None\n",
      "id: 61 coverage: 0 Arg 1/0: None\n",
      "id: 62 coverage: 0 Arg 1/0: None\n",
      "id: 63 coverage: 0 Arg 1/0: None\n",
      "id: 64 coverage: 0 Arg 1/0: None\n",
      "id: 65 coverage: 0 Arg 1/0: None\n",
      "id: 66 coverage: 0 Arg 1/0: None\n",
      "id: 67 coverage: 0 Arg 1/0: None\n",
      "id: 68 coverage: 0 Arg 1/0: None\n",
      "id: 69 coverage: 0 Arg 1/0: None\n",
      "id: 70 coverage: 0 Arg 1/0: None\n",
      "id: 71 coverage: 0 Arg 1/0: None\n",
      "id: 72 coverage: 0 Arg 1/0: None\n",
      "id: 73 coverage: 0 Arg 1/0: None\n",
      "id: 74 coverage: 0 Arg 1/0: None\n",
      "id: 75 coverage: 0 Arg 1/0: None\n",
      "id: 76 coverage: 0 Arg 1/0: None\n",
      "id: 77 coverage: 0 Arg 1/0: None\n",
      "id: 78 coverage: 0 Arg 1/0: None\n",
      "id: 79 coverage: 0 Arg 1/0: None\n",
      "80 80\n"
     ]
    }
   ],
   "source": [
    "explainer.set_strategy('max_covc', 'universal')\n",
    "## Define strategy before calling explainer.explain()\n",
    "explainer.display_explanations()"
   ]
  },
  {
   "cell_type": "code",
   "execution_count": null,
   "metadata": {},
   "outputs": [
    {
     "name": "stdout",
     "output_type": "stream",
     "text": [
      "0.40616693248272195\n",
      "Number of extensions: 521076\n",
      "len(max_cov_exts)= 12 / 521076\n",
      "Covi strategy's coverage: 60\n",
      "Top 5 covs: [58, 58, 58, 58, 58]\n",
      "id: 0 coverage: 0 Arg 1/0: None\n",
      "id: 1 coverage: 5 Arg 1/4: frozenset({'Relationship_Not-in-family', 'Occupation_Exec-managerial'})\n",
      "id: 2 coverage: 0 Arg 1/0: None\n",
      "id: 3 coverage: 3 Arg 1/1: frozenset({'Occupation_Machine-op-inspct', 'Age_28.00 < Age <= 37.00'})\n",
      "id: 4 coverage: 0 Arg 1/0: None\n",
      "id: 5 coverage: 2 Arg 1/1: frozenset({'Occupation_Farming-fishing', 'Age_28.00 < Age <= 37.00'})\n",
      "id: 6 coverage: 2 Arg 1/1: frozenset({'Sex_Female', 'Occupation_Protective-serv'})\n",
      "id: 7 coverage: 3 Arg 1/1: frozenset({'Occupation_Sales', 'Education_Bachelors'})\n",
      "id: 8 coverage: 2 Arg 1/1: frozenset({'Occupation_?', 'Sex_Male'})\n",
      "id: 9 coverage: 3 Arg 1/2: frozenset({'Occupation_Prof-specialty', 'Education_Bachelors', 'Workclass_Private'})\n",
      "id: 10 coverage: 4 Arg 1/1: frozenset({'Occupation_Protective-serv', 'Sex_Male'})\n",
      "id: 11 coverage: 1 Arg 1/1: frozenset({'Age_28.00 < Age <= 37.00', 'Occupation_Transport-moving'})\n",
      "id: 12 coverage: 2 Arg 1/1: frozenset({'Sex_Female', 'Marital Status_Married-civ-spouse', 'Occupation_?'})\n",
      "id: 13 coverage: 1 Arg 1/1: frozenset({'Occupation_Craft-repair', 'Age_Age <= 28.00'})\n",
      "id: 14 coverage: 4 Arg 1/1: frozenset({'Age_Age > 48.00', 'Occupation_Prof-specialty', 'Marital Status_Married-civ-spouse'})\n",
      "id: 15 coverage: 3 Arg 1/1: frozenset({'Occupation_Sales', 'Education_Bachelors'})\n",
      "id: 16 coverage: 2 Arg 1/1: frozenset({'Occupation_Farming-fishing', 'Age_28.00 < Age <= 37.00'})\n",
      "id: 17 coverage: 0 Arg 1/0: None\n",
      "id: 18 coverage: 3 Arg 1/1: frozenset({'Occupation_Sales', 'Marital Status_Married-civ-spouse', 'Education_HS-grad'})\n",
      "id: 19 coverage: 0 Arg 1/0: None\n",
      "id: 20 coverage: 2 Arg 1/1: frozenset({'Occupation_?', 'Sex_Male'})\n",
      "id: 21 coverage: 6 Arg 1/4: frozenset({'Age_Age > 48.00', 'Occupation_Prof-specialty', 'Workclass_Private'})\n",
      "id: 22 coverage: 0 Arg 1/0: None\n",
      "id: 23 coverage: 0 Arg 1/0: None\n",
      "id: 24 coverage: 3 Arg 1/1: frozenset({'Occupation_Machine-op-inspct', 'Age_28.00 < Age <= 37.00'})\n",
      "id: 25 coverage: 9 Arg 1/3: frozenset({'Occupation_Exec-managerial', 'Relationship_Husband'})\n",
      "id: 26 coverage: 4 Arg 1/1: frozenset({'Age_Age > 48.00', 'Occupation_Prof-specialty', 'Marital Status_Married-civ-spouse'})\n",
      "id: 27 coverage: 4 Arg 1/1: frozenset({'Occupation_Protective-serv', 'Sex_Male'})\n",
      "id: 28 coverage: 1 Arg 1/1: frozenset({'Occupation_Prof-specialty', 'Age_37.00 < Age <= 48.00', 'Workclass_Local-gov'})\n",
      "id: 29 coverage: 3 Arg 1/1: frozenset({'Occupation_Machine-op-inspct', 'Age_28.00 < Age <= 37.00'})\n",
      "id: 30 coverage: 1 Arg 1/1: frozenset({'Occupation_Prof-specialty', 'Age_Age <= 28.00', 'Workclass_Private'})\n",
      "id: 31 coverage: 0 Arg 1/0: None\n",
      "id: 32 coverage: 3 Arg 1/1: frozenset({'Occupation_Sales', 'Marital Status_Married-civ-spouse', 'Education_HS-grad'})\n",
      "id: 33 coverage: 0 Arg 1/0: None\n",
      "id: 34 coverage: 1 Arg 1/1: frozenset({'Occupation_Farming-fishing', 'Age_Age > 48.00'})\n",
      "id: 35 coverage: 0 Arg 1/0: None\n",
      "id: 36 coverage: 0 Arg 1/0: None\n",
      "id: 37 coverage: 0 Arg 1/0: None\n",
      "id: 38 coverage: 3 Arg 1/1: frozenset({'Occupation_Sales', 'Education_Bachelors'})\n",
      "id: 39 coverage: 4 Arg 1/1: frozenset({'Age_Age > 48.00', 'Occupation_Prof-specialty', 'Marital Status_Married-civ-spouse'})\n",
      "id: 40 coverage: 9 Arg 1/5: frozenset({'Occupation_Exec-managerial', 'Relationship_Husband'})\n",
      "id: 41 coverage: 0 Arg 1/0: None\n",
      "id: 42 coverage: 8 Arg 1/5: frozenset({'Occupation_Exec-managerial', 'Relationship_Husband'})\n",
      "id: 43 coverage: 2 Arg 1/1: frozenset({'Sex_Female', 'Marital Status_Married-civ-spouse', 'Occupation_?'})\n",
      "id: 44 coverage: 0 Arg 1/0: None\n",
      "id: 45 coverage: 4 Arg 1/1: frozenset({'Occupation_Protective-serv', 'Sex_Male'})\n",
      "id: 46 coverage: 2 Arg 1/1: frozenset({'Sex_Female', 'Occupation_Protective-serv'})\n",
      "id: 47 coverage: 2 Arg 1/1: frozenset({'Occupation_Craft-repair', 'Age_28.00 < Age <= 37.00'})\n",
      "id: 48 coverage: 0 Arg 1/0: None\n",
      "id: 49 coverage: 0 Arg 1/0: None\n",
      "id: 50 coverage: 0 Arg 1/0: None\n",
      "id: 51 coverage: 8 Arg 1/4: frozenset({'Occupation_Exec-managerial', 'Country_Mexico'})\n",
      "id: 52 coverage: 0 Arg 1/0: None\n",
      "id: 53 coverage: 3 Arg 1/1: frozenset({'Hours per week_Hours per week <= 40.00', 'Occupation_Prof-specialty', 'Workclass_Private'})\n",
      "id: 54 coverage: 0 Arg 1/0: None\n",
      "id: 55 coverage: 3 Arg 1/1: frozenset({'Occupation_Sales', 'Marital Status_Married-civ-spouse', 'Education_HS-grad'})\n",
      "id: 56 coverage: 7 Arg 1/4: frozenset({'Occupation_Exec-managerial', 'Relationship_Wife'})\n",
      "id: 57 coverage: 0 Arg 1/0: None\n",
      "id: 58 coverage: 0 Arg 1/0: None\n",
      "id: 59 coverage: 0 Arg 1/0: None\n",
      "id: 60 coverage: 0 Arg 1/0: None\n",
      "id: 61 coverage: 0 Arg 1/0: None\n",
      "id: 62 coverage: 2 Arg 1/1: frozenset({'Occupation_Craft-repair', 'Age_28.00 < Age <= 37.00'})\n",
      "id: 63 coverage: 7 Arg 1/4: frozenset({'Occupation_Exec-managerial', 'Workclass_Self-emp-not-inc'})\n",
      "id: 64 coverage: 0 Arg 1/0: None\n",
      "id: 65 coverage: 0 Arg 1/0: None\n",
      "id: 66 coverage: 1 Arg 1/1: frozenset({'Occupation_Prof-specialty', 'Age_Age <= 28.00', 'Workclass_Local-gov'})\n",
      "id: 67 coverage: 0 Arg 1/0: None\n",
      "id: 68 coverage: 0 Arg 1/0: None\n",
      "id: 69 coverage: 0 Arg 1/0: None\n",
      "id: 70 coverage: 7 Arg 1/3: frozenset({'Occupation_Exec-managerial', 'Relationship_Husband'})\n",
      "id: 71 coverage: 0 Arg 1/0: None\n",
      "id: 72 coverage: 8 Arg 1/4: frozenset({'Occupation_Exec-managerial', 'Relationship_Husband'})\n",
      "id: 73 coverage: 0 Arg 1/0: None\n",
      "id: 74 coverage: 0 Arg 1/0: None\n",
      "id: 75 coverage: 0 Arg 1/0: None\n",
      "id: 76 coverage: 2 Arg 1/2: frozenset({'Relationship_Not-in-family', 'Occupation_Exec-managerial'})\n",
      "id: 77 coverage: 1 Arg 1/1: frozenset({'Occupation_Craft-repair', 'Age_37.00 < Age <= 48.00'})\n",
      "id: 78 coverage: 4 Arg 1/1: frozenset({'Occupation_Protective-serv', 'Sex_Male'})\n",
      "id: 79 coverage: 0 Arg 1/0: None\n",
      "34 80\n"
     ]
    }
   ],
   "source": [
    "explainer.set_strategy('max_covi', 'universal')\n",
    "## Define strategy before calling explainer.explain()\n",
    "explainer.display_explanations()"
   ]
  },
  {
   "cell_type": "code",
   "execution_count": null,
   "metadata": {},
   "outputs": [
    {
     "name": "stdout",
     "output_type": "stream",
     "text": [
      "Anchor\n",
      "['Age > 48.00', 'Self-emp-not-inc', 'Some-college', 'Married-civ-spouse', 'Sales', 'Husband', 'White', 'Male', '2', '0', '40.00 < Hours per week <= 45.00', 'United-States']\n",
      "Prediction:  b'>50K'\n",
      "Anchor: Capital Gain = 2\n",
      "Precision: 1.00\n",
      "Coverage: 0.07\n",
      "Arg: 0\n",
      "id: 0 coverage: 10 Args5/5: {frozenset({'Occupation_Sales', 'Age_Age > 48.00'}), frozenset({'Workclass_Self-emp-not-inc', 'Age_Age > 48.00'}), frozenset({'Workclass_Self-emp-not-inc', 'Occupation_Sales'}), frozenset({'Education_Some-college', 'Workclass_Self-emp-not-inc'}), frozenset({'Education_Some-college', 'Occupation_Sales', 'Country_United-States'})}\n",
      "None\n"
     ]
    }
   ],
   "source": [
    "anchor_explainer = anchor_tabular.AnchorTabularExplainer(\n",
    "    dataset.class_names,\n",
    "    dataset.feature_names,\n",
    "    dataset.train,\n",
    "    dataset.categorical_names)\n",
    "idx = 0\n",
    "np.random.seed(1)\n",
    "instance = dataset.train[idx].reshape(1, -1)[0]\n",
    "print(\"Anchor\")\n",
    "print([dataset.categorical_names[i][int(r_)] for i, r_ in enumerate(instance)])\n",
    "\n",
    "print('Prediction: ', anchor_explainer.class_names[c.predict(dataset.train[0].reshape(1, -1))[0]])\n",
    "exp = anchor_explainer.explain_instance(dataset.train[idx], c.predict, threshold=0.95)\n",
    "print('Anchor: %s' % (' AND '.join(exp.names())))\n",
    "print('Precision: %.2f' % exp.precision())\n",
    "print('Coverage: %.2f' % exp.coverage())\n",
    "\n",
    "print(\"Arg:\", idx)\n",
    "print(explainer.explain_instance(idx))"
   ]
  }
 ],
 "metadata": {
  "kernelspec": {
   "display_name": "Python 3",
   "language": "python",
   "name": "python3"
  },
  "language_info": {
   "codemirror_mode": {
    "name": "ipython",
    "version": 3
   },
   "file_extension": ".py",
   "mimetype": "text/x-python",
   "name": "python",
   "nbconvert_exporter": "python",
   "pygments_lexer": "ipython3",
   "version": "3.9.12 (main, Apr  4 2022, 05:22:27) [MSC v.1916 64 bit (AMD64)]"
  },
  "vscode": {
   "interpreter": {
    "hash": "34f4a23e072925201d1edce259708610e2f98260d5449b97ac01b140140f4b0a"
   }
  }
 },
 "nbformat": 4,
 "nbformat_minor": 2
}
