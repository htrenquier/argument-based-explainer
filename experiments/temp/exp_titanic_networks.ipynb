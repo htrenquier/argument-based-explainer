{
 "cells": [
  {
   "cell_type": "code",
   "execution_count": 1,
   "metadata": {},
   "outputs": [],
   "source": [
    "from anchor import utils\n",
    "from anchor import anchor_tabular\n",
    "import pandas as pd\n",
    "import sklearn.ensemble\n",
    "import numpy as np\n",
    "from anchor import anchor_tabular\n",
    "import os"
   ]
  },
  {
   "cell_type": "code",
   "execution_count": 2,
   "metadata": {},
   "outputs": [],
   "source": [
    "feature_names = None\n",
    "features_to_use = [2, 4, 5, 6, 7, 9]\n",
    "categorical_features = [2, 4, 7]\n",
    "\n",
    "target_idx = 1\n",
    "dataset_folder = train_path = \"../../../datasets/titanic/\"\n",
    "discretize = True\n",
    "balance = True\n",
    "\n",
    "def filter_fn(data):\n",
    "  df = pd.DataFrame(data)\n",
    "\n",
    "  df.dropna(inplace=True)\n",
    "  ###\n",
    "  return df.values.astype('|S128')\n",
    "\n",
    "dataset = utils.load_csv_dataset(\n",
    "            os.path.join(dataset_folder, 'train.csv'), target_idx, ',',\n",
    "            feature_names=feature_names, features_to_use=features_to_use,\n",
    "            categorical_features=categorical_features, discretize=discretize,\n",
    "            balance=balance, filter_fn = filter_fn, skip_first=True)"
   ]
  },
  {
   "cell_type": "code",
   "execution_count": 3,
   "metadata": {},
   "outputs": [
    {
     "name": "stdout",
     "output_type": "stream",
     "text": [
      "Train 0.93\n",
      "Test 0.7391304347826086\n",
      "Space size = 2016\n",
      "titanic_100\n",
      "Generating arguments\n",
      "len  1 : 1 ,  0\n",
      "20 potential arg checked ( 0 not minimal)\n",
      "len  2 : 4 ,  30\n",
      "138 potential arg checked ( 5 not minimal)\n",
      "len  3 : 41 ,  34\n",
      "251 potential arg checked ( 172 not minimal)\n",
      "len  4 : 9 ,  2\n",
      "113 potential arg checked ( 418 not minimal)\n",
      "len  5 : 0 ,  0\n",
      "20 potential arg checked ( 268 not minimal)\n",
      "len  6 : 0 ,  0\n",
      "0 potential arg checked ( 58 not minimal)\n",
      "Total number of arguments:  121\n",
      "Saving to  ../../saves\\titanic_100_minimals.df\n"
     ]
    }
   ],
   "source": [
    "import sys\n",
    "sys.path.append(sys.path[0] + '/../..')\n",
    "\n",
    "import arg_explainer as ae\n",
    "import dataset_manager\n",
    "import testbench\n",
    "import utils\n",
    "from importlib import reload\n",
    "reload(ae)\n",
    "reload(dataset_manager)\n",
    "reload(testbench)\n",
    "reload(utils)\n",
    "import arg_explainer as ae\n",
    "import dataset_manager\n",
    "import testbench\n",
    "import utils\n",
    "\n",
    "nb_rows = 100\n",
    "experiment_name = 'titanic'\n",
    "dm = dataset_manager.DatasetManager(dataset, classifier=None, nb_rows=nb_rows)\n",
    "print('Space size =', dm.space_size())\n",
    "explainer = ae.ArgTabularExplainer(dm, experiment_name + '_' + str(nb_rows), compute=True, output_path='../../saves')\n",
    "tb = testbench.Testbench(dm, exp_name=experiment_name)\n",
    "\n",
    "# tb.explore_full_dataset(16)\n",
    "# tb.explore_neighborhoods(16)"
   ]
  },
  {
   "attachments": {},
   "cell_type": "markdown",
   "metadata": {},
   "source": [
    "## Network experiments"
   ]
  },
  {
   "cell_type": "code",
   "execution_count": 4,
   "metadata": {},
   "outputs": [
    {
     "name": "stdout",
     "output_type": "stream",
     "text": [
      "edges per node: 15.322314049586776\n",
      "nodes: 121 attacks: 927\n"
     ]
    }
   ],
   "source": [
    "G = explainer.build_attack_graph(compute=True, display_graph=False)\n",
    "print('edges per node:', np.mean([len(G.edges(n)) for n in G.nodes()]))\n",
    "print('nodes:', len(G.nodes()), 'attacks:', len(G.edges()))\n",
    "\n",
    "explainer.export_graph('asp', '../../saves')"
   ]
  },
  {
   "attachments": {},
   "cell_type": "markdown",
   "metadata": {},
   "source": [
    "### NetworkX\n",
    "<br />edges per node: 15.229508196721312\n",
    "<br />nodes: 122 attacks: 929\n",
    "<br />Nx graph size: 8026170\n",
    "<br />Time: 93.04187512397766"
   ]
  },
  {
   "cell_type": "code",
   "execution_count": 5,
   "metadata": {},
   "outputs": [
    {
     "ename": "KeyboardInterrupt",
     "evalue": "",
     "output_type": "error",
     "traceback": [
      "\u001b[1;31m---------------------------------------------------------------------------\u001b[0m",
      "\u001b[1;31mKeyboardInterrupt\u001b[0m                         Traceback (most recent call last)",
      "\u001b[1;32mc:\\Users\\henro\\ws\\argumentation\\argument-based-explainer\\experiments\\temp\\exp_titanic_networks.ipynb Cell 7\u001b[0m in \u001b[0;36m<cell line: 5>\u001b[1;34m()\u001b[0m\n\u001b[0;32m      <a href='vscode-notebook-cell:/c%3A/Users/henro/ws/argumentation/argument-based-explainer/experiments/temp/exp_titanic_networks.ipynb#X10sZmlsZQ%3D%3D?line=1'>2</a>\u001b[0m \u001b[39mfrom\u001b[39;00m \u001b[39mtime\u001b[39;00m \u001b[39mimport\u001b[39;00m time\n\u001b[0;32m      <a href='vscode-notebook-cell:/c%3A/Users/henro/ws/argumentation/argument-based-explainer/experiments/temp/exp_titanic_networks.ipynb#X10sZmlsZQ%3D%3D?line=3'>4</a>\u001b[0m start \u001b[39m=\u001b[39m time()\n\u001b[1;32m----> <a href='vscode-notebook-cell:/c%3A/Users/henro/ws/argumentation/argument-based-explainer/experiments/temp/exp_titanic_networks.ipynb#X10sZmlsZQ%3D%3D?line=4'>5</a>\u001b[0m \u001b[39mprint\u001b[39m(\u001b[39m'\u001b[39m\u001b[39mNx # cliques:\u001b[39m\u001b[39m'\u001b[39m, \u001b[39mlen\u001b[39m([n \u001b[39mfor\u001b[39;00m n \u001b[39min\u001b[39;00m nx\u001b[39m.\u001b[39mfind_cliques(nx\u001b[39m.\u001b[39mcomplement(G))]))\n\u001b[0;32m      <a href='vscode-notebook-cell:/c%3A/Users/henro/ws/argumentation/argument-based-explainer/experiments/temp/exp_titanic_networks.ipynb#X10sZmlsZQ%3D%3D?line=5'>6</a>\u001b[0m \u001b[39mprint\u001b[39m(\u001b[39m'\u001b[39m\u001b[39mTime:\u001b[39m\u001b[39m'\u001b[39m, time() \u001b[39m-\u001b[39m start)\n",
      "\u001b[1;32mc:\\Users\\henro\\ws\\argumentation\\argument-based-explainer\\experiments\\temp\\exp_titanic_networks.ipynb Cell 7\u001b[0m in \u001b[0;36m<listcomp>\u001b[1;34m(.0)\u001b[0m\n\u001b[0;32m      <a href='vscode-notebook-cell:/c%3A/Users/henro/ws/argumentation/argument-based-explainer/experiments/temp/exp_titanic_networks.ipynb#X10sZmlsZQ%3D%3D?line=1'>2</a>\u001b[0m \u001b[39mfrom\u001b[39;00m \u001b[39mtime\u001b[39;00m \u001b[39mimport\u001b[39;00m time\n\u001b[0;32m      <a href='vscode-notebook-cell:/c%3A/Users/henro/ws/argumentation/argument-based-explainer/experiments/temp/exp_titanic_networks.ipynb#X10sZmlsZQ%3D%3D?line=3'>4</a>\u001b[0m start \u001b[39m=\u001b[39m time()\n\u001b[1;32m----> <a href='vscode-notebook-cell:/c%3A/Users/henro/ws/argumentation/argument-based-explainer/experiments/temp/exp_titanic_networks.ipynb#X10sZmlsZQ%3D%3D?line=4'>5</a>\u001b[0m \u001b[39mprint\u001b[39m(\u001b[39m'\u001b[39m\u001b[39mNx # cliques:\u001b[39m\u001b[39m'\u001b[39m, \u001b[39mlen\u001b[39m([n \u001b[39mfor\u001b[39;00m n \u001b[39min\u001b[39;00m nx\u001b[39m.\u001b[39mfind_cliques(nx\u001b[39m.\u001b[39mcomplement(G))]))\n\u001b[0;32m      <a href='vscode-notebook-cell:/c%3A/Users/henro/ws/argumentation/argument-based-explainer/experiments/temp/exp_titanic_networks.ipynb#X10sZmlsZQ%3D%3D?line=5'>6</a>\u001b[0m \u001b[39mprint\u001b[39m(\u001b[39m'\u001b[39m\u001b[39mTime:\u001b[39m\u001b[39m'\u001b[39m, time() \u001b[39m-\u001b[39m start)\n",
      "File \u001b[1;32mc:\\Users\\henro\\anaconda3\\envs\\argenv\\lib\\site-packages\\networkx\\utils\\decorators.py:811\u001b[0m, in \u001b[0;36margmap.__call__.<locals>.func\u001b[1;34m(_argmap__wrapper, *args, **kwargs)\u001b[0m\n\u001b[0;32m    810\u001b[0m \u001b[39mdef\u001b[39;00m \u001b[39mfunc\u001b[39m(\u001b[39m*\u001b[39margs, __wrapper\u001b[39m=\u001b[39m\u001b[39mNone\u001b[39;00m, \u001b[39m*\u001b[39m\u001b[39m*\u001b[39mkwargs):\n\u001b[1;32m--> 811\u001b[0m     \u001b[39myield from\u001b[39;00m argmap\u001b[39m.\u001b[39m_lazy_compile(__wrapper)(\u001b[39m*\u001b[39margs, \u001b[39m*\u001b[39m\u001b[39m*\u001b[39mkwargs)\n",
      "File \u001b[1;32m<class 'networkx.utils.decorators.argmap'> compilation 4:4\u001b[0m, in \u001b[0;36margmap_find_cliques_1\u001b[1;34m(G, nodes)\u001b[0m\n\u001b[0;32m      2\u001b[0m \u001b[39mfrom\u001b[39;00m \u001b[39mos\u001b[39;00m\u001b[39m.\u001b[39;00m\u001b[39mpath\u001b[39;00m \u001b[39mimport\u001b[39;00m splitext\n\u001b[0;32m      3\u001b[0m \u001b[39mfrom\u001b[39;00m \u001b[39mcontextlib\u001b[39;00m \u001b[39mimport\u001b[39;00m contextmanager\n\u001b[1;32m----> 4\u001b[0m \u001b[39mfrom\u001b[39;00m \u001b[39mpathlib\u001b[39;00m \u001b[39mimport\u001b[39;00m Path\n\u001b[0;32m      6\u001b[0m \u001b[39mimport\u001b[39;00m \u001b[39mnetworkx\u001b[39;00m \u001b[39mas\u001b[39;00m \u001b[39mnx\u001b[39;00m\n\u001b[0;32m      7\u001b[0m \u001b[39mfrom\u001b[39;00m \u001b[39mnetworkx\u001b[39;00m\u001b[39m.\u001b[39;00m\u001b[39mutils\u001b[39;00m \u001b[39mimport\u001b[39;00m create_random_state, create_py_random_state\n",
      "File \u001b[1;32mc:\\Users\\henro\\anaconda3\\envs\\argenv\\lib\\site-packages\\networkx\\algorithms\\clique.py:229\u001b[0m, in \u001b[0;36mfind_cliques\u001b[1;34m(G, nodes)\u001b[0m\n\u001b[0;32m    227\u001b[0m             subg \u001b[39m=\u001b[39m subg_q\n\u001b[0;32m    228\u001b[0m             cand \u001b[39m=\u001b[39m cand_q\n\u001b[1;32m--> 229\u001b[0m             u \u001b[39m=\u001b[39m \u001b[39mmax\u001b[39;49m(subg, key\u001b[39m=\u001b[39;49m\u001b[39mlambda\u001b[39;49;00m u: \u001b[39mlen\u001b[39;49m(cand \u001b[39m&\u001b[39;49m adj[u]))\n\u001b[0;32m    230\u001b[0m             ext_u \u001b[39m=\u001b[39m cand \u001b[39m-\u001b[39m adj[u]\n\u001b[0;32m    231\u001b[0m \u001b[39melse\u001b[39;00m:\n",
      "File \u001b[1;32mc:\\Users\\henro\\anaconda3\\envs\\argenv\\lib\\site-packages\\networkx\\algorithms\\clique.py:229\u001b[0m, in \u001b[0;36mfind_cliques.<locals>.<lambda>\u001b[1;34m(u)\u001b[0m\n\u001b[0;32m    227\u001b[0m             subg \u001b[39m=\u001b[39m subg_q\n\u001b[0;32m    228\u001b[0m             cand \u001b[39m=\u001b[39m cand_q\n\u001b[1;32m--> 229\u001b[0m             u \u001b[39m=\u001b[39m \u001b[39mmax\u001b[39m(subg, key\u001b[39m=\u001b[39m\u001b[39mlambda\u001b[39;00m u: \u001b[39mlen\u001b[39;49m(cand \u001b[39m&\u001b[39;49m adj[u]))\n\u001b[0;32m    230\u001b[0m             ext_u \u001b[39m=\u001b[39m cand \u001b[39m-\u001b[39m adj[u]\n\u001b[0;32m    231\u001b[0m \u001b[39melse\u001b[39;00m:\n",
      "\u001b[1;31mKeyboardInterrupt\u001b[0m: "
     ]
    }
   ],
   "source": [
    "import networkx as nx\n",
    "from time import time\n",
    "\n",
    "start = time()\n",
    "print('Nx # cliques:', len([n for n in nx.find_cliques(nx.complement(G))]))\n",
    "print('Time:', time() - start)"
   ]
  },
  {
   "attachments": {},
   "cell_type": "markdown",
   "metadata": {},
   "source": [
    "### NetworKit"
   ]
  },
  {
   "cell_type": "code",
   "execution_count": null,
   "metadata": {},
   "outputs": [
    {
     "name": "stdout",
     "output_type": "stream",
     "text": [
      "Nk # cliques: 8026170\n",
      "Time: 43.98240399360657\n"
     ]
    }
   ],
   "source": [
    "import networkit as nk\n",
    "from time import time\n",
    "\n",
    "G_nk = nk.nxadapter.nx2nk(nx.complement(G))\n",
    "\n",
    "start = time()\n",
    "mc = nk.clique.MaximalCliques(G_nk)\n",
    "mc.run()\n",
    "print('Nk # cliques:', len([n for n in mc.getCliques()]))\n",
    "# print('Nk graph size:', len([n for n in mc.run()]))\n",
    "print('Time:', time() - start)\n"
   ]
  },
  {
   "attachments": {},
   "cell_type": "markdown",
   "metadata": {},
   "source": [
    "### Graph-tool"
   ]
  },
  {
   "cell_type": "code",
   "execution_count": 6,
   "metadata": {},
   "outputs": [
    {
     "ename": "ModuleNotFoundError",
     "evalue": "No module named 'graphtools'",
     "output_type": "error",
     "traceback": [
      "\u001b[1;31m---------------------------------------------------------------------------\u001b[0m",
      "\u001b[1;31mModuleNotFoundError\u001b[0m                       Traceback (most recent call last)",
      "\u001b[1;32mc:\\Users\\henro\\ws\\argumentation\\argument-based-explainer\\experiments\\temp\\exp_titanic_networks.ipynb Cell 11\u001b[0m in \u001b[0;36m<cell line: 1>\u001b[1;34m()\u001b[0m\n\u001b[1;32m----> <a href='vscode-notebook-cell:/c%3A/Users/henro/ws/argumentation/argument-based-explainer/experiments/temp/exp_titanic_networks.ipynb#X14sZmlsZQ%3D%3D?line=0'>1</a>\u001b[0m \u001b[39mimport\u001b[39;00m \u001b[39mgraphtools\u001b[39;00m \u001b[39mas\u001b[39;00m \u001b[39mgt\u001b[39;00m\n\u001b[0;32m      <a href='vscode-notebook-cell:/c%3A/Users/henro/ws/argumentation/argument-based-explainer/experiments/temp/exp_titanic_networks.ipynb#X14sZmlsZQ%3D%3D?line=1'>2</a>\u001b[0m \u001b[39mfrom\u001b[39;00m \u001b[39mtime\u001b[39;00m \u001b[39mimport\u001b[39;00m time\n\u001b[0;32m      <a href='vscode-notebook-cell:/c%3A/Users/henro/ws/argumentation/argument-based-explainer/experiments/temp/exp_titanic_networks.ipynb#X14sZmlsZQ%3D%3D?line=3'>4</a>\u001b[0m G_gt \u001b[39m=\u001b[39m gt\u001b[39m.\u001b[39mGraph(G)\n",
      "\u001b[1;31mModuleNotFoundError\u001b[0m: No module named 'graphtools'"
     ]
    }
   ],
   "source": [
    "import graphtools as gt\n",
    "from time import time\n",
    "\n",
    "G_gt = gt.Graph(G)\n",
    "start = time()\n",
    "print('Gt # cliques:', len([n for n in gt.max_cliques(G_gt)]))\n",
    "print('Time:', time() - start)"
   ]
  },
  {
   "attachments": {},
   "cell_type": "markdown",
   "metadata": {},
   "source": [
    "### Aspartix - Clingo\n",
    "<br />Models       : 8026170\n",
    "<br />Calls        : 1\n",
    "<br />Time         : 162.127s (Solving: 162.12s 1st Model: 0.00s Unsat: 0.00s)\n",
    "<br />CPU Time     : 132.630s"
   ]
  }
 ],
 "metadata": {
  "kernelspec": {
   "display_name": "Python 3",
   "language": "python",
   "name": "python3"
  },
  "language_info": {
   "codemirror_mode": {
    "name": "ipython",
    "version": 3
   },
   "file_extension": ".py",
   "mimetype": "text/x-python",
   "name": "python",
   "nbconvert_exporter": "python",
   "pygments_lexer": "ipython3",
   "version": "3.9.12"
  },
  "vscode": {
   "interpreter": {
    "hash": "34f4a23e072925201d1edce259708610e2f98260d5449b97ac01b140140f4b0a"
   }
  }
 },
 "nbformat": 4,
 "nbformat_minor": 2
}
