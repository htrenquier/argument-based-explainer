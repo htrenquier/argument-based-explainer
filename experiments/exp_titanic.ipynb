{
 "cells": [
  {
   "cell_type": "code",
   "execution_count": 33,
   "metadata": {},
   "outputs": [],
   "source": [
    "from anchor import utils\n",
    "from anchor import anchor_tabular\n",
    "import pandas as pd\n",
    "import sklearn.ensemble\n",
    "import numpy as np\n",
    "from anchor import anchor_tabular\n",
    "import os"
   ]
  },
  {
   "cell_type": "code",
   "execution_count": 34,
   "metadata": {},
   "outputs": [],
   "source": [
    "feature_names = None\n",
    "features_to_use = [2, 4, 5, 6, 7, 9]\n",
    "categorical_features = [2, 4, 7]\n",
    "\n",
    "target_idx = 1\n",
    "dataset_folder = train_path = \"../../datasets/titanic/\"\n",
    "discretize = True\n",
    "balance = True\n",
    "\n",
    "def filter_fn(data):\n",
    "  df = pd.DataFrame(data)\n",
    "\n",
    "  df.dropna(inplace=True)\n",
    "  ###\n",
    "  return df.values.astype('|S128')\n",
    "\n",
    "dataset = utils.load_csv_dataset(\n",
    "            os.path.join(dataset_folder, 'train.csv'), target_idx, ',',\n",
    "            feature_names=feature_names, features_to_use=features_to_use,\n",
    "            categorical_features=categorical_features, discretize=discretize,\n",
    "            balance=balance, filter_fn = filter_fn, skip_first=True)"
   ]
  },
  {
   "cell_type": "code",
   "execution_count": 35,
   "metadata": {},
   "outputs": [
    {
     "name": "stdout",
     "output_type": "stream",
     "text": [
      "[0. 0. 1. 2. 2. 3.]\n"
     ]
    }
   ],
   "source": [
    "print(dataset.train[0])"
   ]
  },
  {
   "cell_type": "code",
   "execution_count": 36,
   "metadata": {},
   "outputs": [
    {
     "name": "stdout",
     "output_type": "stream",
     "text": [
      "Train 0.8921389396709324\n",
      "Test 0.9420289855072463\n"
     ]
    }
   ],
   "source": [
    "c = sklearn.ensemble.RandomForestClassifier(n_estimators=50, n_jobs=5)\n",
    "c.fit(dataset.train, dataset.labels_train)\n",
    "#print(np.unique(dataset.labels_train))\n",
    "print('Train', sklearn.metrics.accuracy_score(dataset.labels_train, c.predict(dataset.train)))\n",
    "print('Test', sklearn.metrics.accuracy_score(dataset.labels_test, c.predict(dataset.test)))"
   ]
  },
  {
   "cell_type": "code",
   "execution_count": 37,
   "metadata": {},
   "outputs": [
    {
     "name": "stdout",
     "output_type": "stream",
     "text": [
      "['1', 'female', '6.00 < Age <= 24.00', 'SibSp > 1.00', '2', 'Fare > 31.00']\n",
      "(547, 6)\n",
      "[0. 0. 1. 2. 2. 3.]\n",
      "[[0. 0. 1. 2. 2. 3.]]\n"
     ]
    }
   ],
   "source": [
    "transformed_data = []\n",
    "\n",
    "for r in dataset.train:\n",
    "    transformed_data.append([dataset.categorical_names[i][int(r_)] for i, r_ in enumerate(r)])        \n",
    "\n",
    "print(transformed_data[0])\n",
    "\n",
    "train_data = pd.DataFrame(transformed_data, columns=dataset.feature_names)\n",
    "print(train_data.shape)\n",
    "nb_vals = 100\n",
    "\n",
    "print(dataset.train[0])\n",
    "print(dataset.train[0].reshape(1, -1))\n",
    "y=[]\n",
    "for k in range(0, nb_vals):\n",
    "    y.append(c.predict(dataset.train[k].reshape(1, -1))[0])\n"
   ]
  },
  {
   "cell_type": "code",
   "execution_count": 38,
   "metadata": {},
   "outputs": [
    {
     "name": "stdout",
     "output_type": "stream",
     "text": [
      "['Pclass', 'Sex', 'Age', 'SibSp', 'Parch', 'Fare']\n",
      "Generating arguments\n",
      "len  1 : 1 ,  0\n",
      "20 potential arg checked ( 0 not minimal)\n",
      "len  2 : 6 ,  27\n",
      "138 potential arg checked ( 5 not minimal)\n",
      "len  3 : 35 ,  34\n",
      "249 potential arg checked ( 174 not minimal)\n",
      "len  4 : 12 ,  3\n",
      "117 potential arg checked ( 414 not minimal)\n",
      "len  5 : 0 ,  0\n",
      "19 potential arg checked ( 269 not minimal)\n",
      "len  6 : 0 ,  0\n",
      "0 potential arg checked ( 58 not minimal)\n",
      "Saving to  ../saves\\titanic_100_minimals.df\n"
     ]
    }
   ],
   "source": [
    "import sys\n",
    "sys.path.append(sys.path[0] + '/..')\n",
    "\n",
    "import arg_explainer as ae\n",
    "from importlib import reload\n",
    "import MinimaliT\n",
    "reload(ae)\n",
    "reload(MinimaliT)\n",
    "import arg_explainer as ae\n",
    "\n",
    "print(dataset.feature_names)\n",
    "explainer = ae.ArgTabularExplainer(c, train_data.iloc[0:nb_vals], y, 'titanic_' + str(nb_vals), compute=True, output_path='../saves')"
   ]
  },
  {
   "cell_type": "code",
   "execution_count": 39,
   "metadata": {},
   "outputs": [
    {
     "name": "stdout",
     "output_type": "stream",
     "text": [
      "54 64  args total\n",
      "titanic_100\n",
      "edges per node: 40.33898305084746\n"
     ]
    }
   ],
   "source": [
    "G = explainer.build_attack_graph(compute=True, display_graph=False)\n",
    "print('edges per node:', np.mean([len(G.edges(n)) for n in G.nodes()]))\n",
    "\n",
    "explainer.export_graph('asp', '../saves')"
   ]
  },
  {
   "cell_type": "code",
   "execution_count": 40,
   "metadata": {},
   "outputs": [
    {
     "name": "stdout",
     "output_type": "stream",
     "text": [
      "['titanic_100_atk_graph.df'] ['titanic_100_R_atk.df']\n",
      "[2380]\n"
     ]
    },
    {
     "data": {
      "image/png": "[encoded data removed]",
      "text/plain": [
       "<Figure size 1000x700 with 1 Axes>"
      ]
     },
     "metadata": {},
     "output_type": "display_data"
    }
   ],
   "source": [
    "explainer.af_analysis()"
   ]
  },
  {
   "cell_type": "code",
   "execution_count": 20,
   "metadata": {},
   "outputs": [
    {
     "name": "stdout",
     "output_type": "stream",
     "text": [
      "Working with NetworkX to find naive extensions:\n",
      "Graph density =  0.3447776329132261\n",
      "Number of extensions:  2599\n",
      "Time for selection:  0.08099961280822754\n",
      "Len max_cov_exts:  1\n"
     ]
    }
   ],
   "source": [
    "ext_gen = explainer.extension_generator_from_graph()\n",
    "#ext_gen = explainer.extension_generator_from_sat(file='../saves/adult_1000_sat.txt')\n",
    "max_covi_ext = explainer.make_selection('max_covi', ext_gen)"
   ]
  },
  {
   "cell_type": "code",
   "execution_count": 21,
   "metadata": {},
   "outputs": [
    {
     "name": "stdout",
     "output_type": "stream",
     "text": [
      "id: 0 coverage: 3 Arg 1/1: frozenset({'Age_6.00 < Age <= 24.00', 'Sex_female', 'Fare_Fare > 31.00'})\n",
      "id: 1 coverage: 25 Arg 1/1: frozenset({'Sex_male', 'Fare_Fare <= 7.92'})\n",
      "id: 2 coverage: 15 Arg 1/2: frozenset({'Age_24.00 < Age <= 35.00', 'Sex_male', 'Fare_7.92 < Fare <= 14.45'})\n",
      "id: 3 coverage: 25 Arg 1/1: frozenset({'Sex_male', 'Fare_Fare <= 7.92'})\n",
      "id: 4 coverage: 15 Arg 1/1: frozenset({'Sex_male', 'Parch_0', 'Fare_7.92 < Fare <= 14.45'})\n",
      "id: 5 coverage: 1 Arg 1/1: frozenset({'Age_6.00 < Age <= 24.00', 'Fare_14.45 < Fare <= 31.00', 'SibSp_0.00 < SibSp <= 1.00', 'Sex_male'})\n",
      "id: 6 coverage: 25 Arg 1/1: frozenset({'Sex_male', 'Fare_Fare <= 7.92'})\n",
      "id: 7 coverage: 4 Arg 1/1: frozenset({'Age_24.00 < Age <= 35.00', 'Fare_Fare > 31.00', 'Parch_0'})\n",
      "id: 8 coverage: 4 Arg 1/1: frozenset({'SibSp_SibSp > 1.00', 'Age_Age <= 6.00', 'Fare_Fare > 31.00'})\n",
      "id: 9 coverage: 3 Arg 1/1: frozenset({'Sex_female', 'Fare_Fare > 31.00', 'SibSp_SibSp <= 0.00'})\n",
      "id: 10 coverage: 25 Arg 1/1: frozenset({'Sex_male', 'Fare_Fare <= 7.92'})\n",
      "id: 11 coverage: 15 Arg 1/1: frozenset({'Sex_male', 'Parch_0', 'Fare_7.92 < Fare <= 14.45'})\n",
      "id: 12 coverage: 25 Arg 1/1: frozenset({'Sex_male', 'Fare_Fare <= 7.92'})\n",
      "id: 13 coverage: 0 Arg 1/0: None\n",
      "id: 14 coverage: 3 Arg 1/1: frozenset({'Sex_female', 'Fare_Fare > 31.00', 'SibSp_SibSp <= 0.00'})\n",
      "id: 15 coverage: 25 Arg 1/1: frozenset({'Sex_male', 'Fare_Fare <= 7.92'})\n",
      "id: 16 coverage: 0 Arg 1/0: None\n",
      "id: 17 coverage: 25 Arg 1/1: frozenset({'Sex_male', 'Fare_Fare <= 7.92'})\n",
      "id: 18 coverage: 25 Arg 1/1: frozenset({'Sex_male', 'Fare_Fare <= 7.92'})\n",
      "id: 19 coverage: 1 Arg 1/2: frozenset({'Age_24.00 < Age <= 35.00', 'Fare_14.45 < Fare <= 31.00', 'SibSp_SibSp <= 0.00'})\n",
      "id: 20 coverage: 5 Arg 1/1: frozenset({'Sex_female', 'Fare_7.92 < Fare <= 14.45'})\n",
      "id: 21 coverage: 15 Arg 1/2: frozenset({'Age_6.00 < Age <= 24.00', 'Sex_male', 'Fare_7.92 < Fare <= 14.45'})\n",
      "id: 22 coverage: 25 Arg 1/1: frozenset({'Sex_male', 'Fare_Fare <= 7.92'})\n",
      "id: 23 coverage: 25 Arg 1/1: frozenset({'Sex_male', 'Fare_Fare <= 7.92'})\n",
      "id: 24 coverage: 15 Arg 1/2: frozenset({'Age_6.00 < Age <= 24.00', 'Sex_male', 'Fare_7.92 < Fare <= 14.45'})\n",
      "id: 25 coverage: 0 Arg 1/0: None\n",
      "id: 26 coverage: 4 Arg 1/1: frozenset({'SibSp_SibSp > 1.00', 'Age_Age <= 6.00', 'Fare_Fare > 31.00'})\n",
      "id: 27 coverage: 0 Arg 1/0: None\n",
      "id: 28 coverage: 0 Arg 1/0: None\n",
      "id: 29 coverage: 7 Arg 1/3: frozenset({'Age_6.00 < Age <= 24.00', 'Sex_female', 'Fare_Fare > 31.00'})\n",
      "id: 30 coverage: 0 Arg 1/0: None\n",
      "id: 31 coverage: 25 Arg 1/1: frozenset({'Sex_male', 'Fare_Fare <= 7.92'})\n",
      "id: 32 coverage: 0 Arg 1/0: None\n",
      "id: 33 coverage: 0 Arg 1/0: None\n",
      "id: 34 coverage: 5 Arg 1/1: frozenset({'Pclass_2', 'Fare_14.45 < Fare <= 31.00'})\n",
      "id: 35 coverage: 5 Arg 1/1: frozenset({'Sex_female', 'Fare_7.92 < Fare <= 14.45'})\n",
      "id: 36 coverage: 25 Arg 1/1: frozenset({'Sex_male', 'Fare_Fare <= 7.92'})\n",
      "id: 37 coverage: 15 Arg 1/2: frozenset({'Age_6.00 < Age <= 24.00', 'Sex_male', 'Fare_7.92 < Fare <= 14.45'})\n",
      "id: 38 coverage: 4 Arg 1/1: frozenset({'Age_24.00 < Age <= 35.00', 'Fare_Fare > 31.00', 'Parch_0'})\n",
      "id: 39 coverage: 25 Arg 1/1: frozenset({'Sex_male', 'Fare_Fare <= 7.92'})\n",
      "id: 40 coverage: 5 Arg 1/1: frozenset({'Sex_female', 'Fare_7.92 < Fare <= 14.45'})\n",
      "id: 41 coverage: 5 Arg 1/1: frozenset({'Sex_female', 'Fare_Fare <= 7.92'})\n",
      "id: 42 coverage: 15 Arg 1/2: frozenset({'Age_24.00 < Age <= 35.00', 'Sex_male', 'Fare_7.92 < Fare <= 14.45'})\n",
      "id: 43 coverage: 4 Arg 1/1: frozenset({'SibSp_SibSp > 1.00', 'Age_Age <= 6.00', 'Fare_Fare > 31.00'})\n",
      "id: 44 coverage: 3 Arg 1/1: frozenset({'Age_6.00 < Age <= 24.00', 'Sex_female', 'Fare_Fare > 31.00'})\n",
      "id: 45 coverage: 6 Arg 1/2: frozenset({'Sex_female', 'Fare_Fare <= 7.92'})\n",
      "id: 46 coverage: 0 Arg 1/0: None\n",
      "id: 47 coverage: 4 Arg 1/1: frozenset({'Sex_female', 'Fare_Fare > 31.00', 'SibSp_0.00 < SibSp <= 1.00'})\n",
      "id: 48 coverage: 6 Arg 1/2: frozenset({'Pclass_2', 'Fare_14.45 < Fare <= 31.00'})\n",
      "id: 49 coverage: 4 Arg 1/1: frozenset({'Age_24.00 < Age <= 35.00', 'Fare_Fare > 31.00', 'Parch_0'})\n",
      "id: 50 coverage: 15 Arg 1/1: frozenset({'Sex_male', 'Parch_0', 'Fare_7.92 < Fare <= 14.45'})\n",
      "id: 51 coverage: 25 Arg 1/1: frozenset({'Sex_male', 'Fare_Fare <= 7.92'})\n",
      "id: 52 coverage: 25 Arg 1/1: frozenset({'Sex_male', 'Fare_Fare <= 7.92'})\n",
      "id: 53 coverage: 0 Arg 1/0: None\n",
      "id: 54 coverage: 6 Arg 1/2: frozenset({'Fare_14.45 < Fare <= 31.00', 'Age_Age <= 6.00'})\n",
      "id: 55 coverage: 25 Arg 1/1: frozenset({'Sex_male', 'Fare_Fare <= 7.92'})\n",
      "id: 56 coverage: 25 Arg 1/1: frozenset({'Sex_male', 'Fare_Fare <= 7.92'})\n",
      "id: 57 coverage: 15 Arg 1/2: frozenset({'Age_24.00 < Age <= 35.00', 'Sex_male', 'Fare_7.92 < Fare <= 14.45'})\n",
      "id: 58 coverage: 0 Arg 1/0: None\n",
      "id: 59 coverage: 5 Arg 1/1: frozenset({'Fare_14.45 < Fare <= 31.00', 'Age_Age <= 6.00'})\n",
      "id: 60 coverage: 5 Arg 1/1: frozenset({'Sex_female', 'Fare_Fare <= 7.92'})\n",
      "id: 61 coverage: 25 Arg 1/1: frozenset({'Sex_male', 'Fare_Fare <= 7.92'})\n",
      "id: 62 coverage: 0 Arg 1/0: None\n",
      "id: 63 coverage: 0 Arg 1/0: None\n",
      "id: 64 coverage: 0 Arg 1/0: None\n",
      "id: 65 coverage: 15 Arg 1/1: frozenset({'Sex_male', 'Parch_0', 'Fare_7.92 < Fare <= 14.45'})\n",
      "id: 66 coverage: 5 Arg 1/2: frozenset({'Fare_14.45 < Fare <= 31.00', 'Age_Age <= 6.00'})\n",
      "id: 67 coverage: 0 Arg 1/0: None\n",
      "id: 68 coverage: 0 Arg 1/0: None\n",
      "id: 69 coverage: 0 Arg 1/0: None\n",
      "id: 70 coverage: 15 Arg 1/1: frozenset({'Sex_male', 'Parch_0', 'Fare_7.92 < Fare <= 14.45'})\n",
      "id: 71 coverage: 0 Arg 1/0: None\n",
      "id: 72 coverage: 7 Arg 1/2: frozenset({'Sex_female', 'Fare_Fare <= 7.92'})\n",
      "id: 73 coverage: 25 Arg 1/1: frozenset({'Sex_male', 'Fare_Fare <= 7.92'})\n",
      "id: 74 coverage: 6 Arg 1/2: frozenset({'Sex_female', 'Fare_7.92 < Fare <= 14.45'})\n",
      "id: 75 coverage: 15 Arg 1/1: frozenset({'Sex_male', 'Parch_0', 'Fare_7.92 < Fare <= 14.45'})\n",
      "id: 76 coverage: 0 Arg 1/0: None\n",
      "id: 77 coverage: 4 Arg 1/1: frozenset({'Sex_female', 'Fare_Fare > 31.00', 'SibSp_0.00 < SibSp <= 1.00'})\n",
      "id: 78 coverage: 0 Arg 1/0: None\n",
      "id: 79 coverage: 4 Arg 1/1: frozenset({'SibSp_SibSp > 1.00', 'Age_Age <= 6.00', 'Fare_Fare > 31.00'})\n",
      "id: 80 coverage: 25 Arg 1/1: frozenset({'Sex_male', 'Fare_Fare <= 7.92'})\n",
      "id: 81 coverage: 5 Arg 1/1: frozenset({'Sex_female', 'Fare_Fare <= 7.92'})\n",
      "id: 82 coverage: 7 Arg 1/3: frozenset({'Age_24.00 < Age <= 35.00', 'Fare_Fare > 31.00', 'Parch_0'})\n",
      "id: 83 coverage: 5 Arg 1/1: frozenset({'Pclass_2', 'Fare_14.45 < Fare <= 31.00'})\n",
      "id: 84 coverage: 15 Arg 1/1: frozenset({'Sex_male', 'Parch_0', 'Fare_7.92 < Fare <= 14.45'})\n",
      "id: 85 coverage: 15 Arg 1/2: frozenset({'Age_6.00 < Age <= 24.00', 'Sex_male', 'Fare_7.92 < Fare <= 14.45'})\n",
      "id: 86 coverage: 25 Arg 1/1: frozenset({'Sex_male', 'Fare_Fare <= 7.92'})\n",
      "id: 87 coverage: 25 Arg 1/1: frozenset({'Sex_male', 'Fare_Fare <= 7.92'})\n",
      "id: 88 coverage: 7 Arg 1/2: frozenset({'Sex_female', 'Fare_7.92 < Fare <= 14.45'})\n",
      "id: 89 coverage: 25 Arg 1/1: frozenset({'Sex_male', 'Fare_Fare <= 7.92'})\n",
      "id: 90 coverage: 25 Arg 1/1: frozenset({'Sex_male', 'Fare_Fare <= 7.92'})\n",
      "id: 91 coverage: 15 Arg 1/2: frozenset({'Age_24.00 < Age <= 35.00', 'Sex_male', 'Fare_7.92 < Fare <= 14.45'})\n",
      "id: 92 coverage: 5 Arg 1/1: frozenset({'Pclass_2', 'Fare_14.45 < Fare <= 31.00'})\n",
      "id: 93 coverage: 4 Arg 1/1: frozenset({'Sex_female', 'Fare_Fare > 31.00', 'SibSp_0.00 < SibSp <= 1.00'})\n",
      "id: 94 coverage: 5 Arg 1/1: frozenset({'Fare_14.45 < Fare <= 31.00', 'Age_Age <= 6.00'})\n",
      "id: 95 coverage: 0 Arg 1/0: None\n",
      "id: 96 coverage: 25 Arg 1/1: frozenset({'Sex_male', 'Fare_Fare <= 7.92'})\n",
      "id: 97 coverage: 5 Arg 1/1: frozenset({'Fare_14.45 < Fare <= 31.00', 'Age_Age <= 6.00'})\n",
      "id: 98 coverage: 5 Arg 1/1: frozenset({'Pclass_2', 'Fare_14.45 < Fare <= 31.00'})\n",
      "id: 99 coverage: 0 Arg 1/0: None\n",
      "22 100\n"
     ]
    }
   ],
   "source": [
    "#sel = explainer.make_selection(max_covi_ext, 'max_covc')\n",
    "res = explainer.apply_inference(max_covi_ext, 'universal')\n",
    "#print(res)\n",
    "\n",
    "explainer.display_explanations()\n"
   ]
  },
  {
   "cell_type": "markdown",
   "metadata": {},
   "source": [
    "## Sat solver: ASPARTIX"
   ]
  },
  {
   "cell_type": "code",
   "execution_count": null,
   "metadata": {},
   "outputs": [],
   "source": [
    "ext_gen = explainer.extension_generator(file='asp_test.txt')\n",
    "max_covi_ext = explainer.make_selection(ext_gen, 'max_covi')"
   ]
  },
  {
   "cell_type": "code",
   "execution_count": null,
   "metadata": {},
   "outputs": [
    {
     "name": "stdout",
     "output_type": "stream",
     "text": [
      "0.4019384124647283\n",
      "Number of extensions: 1326480\n",
      "Time spent on naive extensions: 55.99906277656555 s ( 86.23851943016052 )\n",
      "len(max_cov_exts)= 1326478 / 1326480\n",
      "Covc strategy's coverage: 2\n",
      "Top 5 covs: [2, 2, 2, 2, 2]\n",
      "id: 0 coverage: 1 Arg 1/12: frozenset({'Relationship_Husband', 'Country_United-States', 'Education_Some-college'})\n",
      "id: 1 coverage: 1 Arg 1/10: frozenset({'Marital Status_Never-married', 'Age_37.00 < Age <= 48.00'})\n",
      "id: 2 coverage: 1 Arg 1/22: frozenset({'Age_Age > 48.00', 'Occupation_Exec-managerial', 'Capital Gain_0', 'Workclass_Private'})\n",
      "id: 3 coverage: 1 Arg 1/18: frozenset({'Hours per week_Hours per week <= 40.00', 'Occupation_Machine-op-inspct'})\n",
      "id: 4 coverage: 1 Arg 1/17: frozenset({'Capital Loss_0', 'Capital Gain_0', 'Occupation_Sales', 'Hours per week_Hours per week <= 40.00', 'Relationship_Husband'})\n",
      "id: 5 coverage: 1 Arg 1/8: frozenset({'Occupation_Farming-fishing', 'Hours per week_Hours per week <= 40.00'})\n",
      "id: 6 coverage: 1 Arg 1/24: frozenset({'Education_Bachelors', 'Age_37.00 < Age <= 48.00', 'Occupation_Protective-serv'})\n",
      "id: 7 coverage: 1 Arg 1/10: frozenset({'Sex_Female', 'Education_Bachelors', 'Marital Status_Married-civ-spouse'})\n",
      "id: 8 coverage: 1 Arg 1/14: frozenset({'Marital Status_Divorced', 'Workclass_?'})\n",
      "id: 9 coverage: 1 Arg 1/7: frozenset({'Relationship_Husband', 'Education_Bachelors', 'Age_28.00 < Age <= 37.00'})\n",
      "id: 10 coverage: 1 Arg 1/13: frozenset({'Race_Black', 'Sex_Male'})\n",
      "id: 11 coverage: 1 Arg 1/5: frozenset({'Education_HS-grad', 'Occupation_Transport-moving'})\n",
      "id: 12 coverage: 1 Arg 1/12: frozenset({'Sex_Female', 'Occupation_?', 'Education_HS-grad'})\n",
      "id: 13 coverage: 1 Arg 1/9: frozenset({'Marital Status_Never-married', 'Workclass_Private'})\n",
      "id: 14 coverage: 1 Arg 1/15: frozenset({'Age_Age > 48.00', 'Sex_Female', 'Marital Status_Married-civ-spouse'})\n",
      "id: 15 coverage: 1 Arg 1/9: frozenset({'Relationship_Husband', 'Education_Bachelors', 'Age_28.00 < Age <= 37.00'})\n",
      "id: 16 coverage: 1 Arg 1/10: frozenset({'Country_United-States', 'Age_28.00 < Age <= 37.00', 'Workclass_Self-emp-not-inc'})\n",
      "id: 17 coverage: 1 Arg 1/8: frozenset({'Workclass_Local-gov', 'Occupation_Handlers-cleaners'})\n",
      "id: 18 coverage: 1 Arg 1/12: frozenset({'Age_Age > 48.00', 'Hours per week_Hours per week > 45.00', 'Sex_Male'})\n",
      "id: 19 coverage: 1 Arg 1/9: frozenset({'Marital Status_Never-married', 'Workclass_Private'})\n",
      "id: 20 coverage: 1 Arg 1/6: frozenset({'Occupation_?', 'Sex_Male'})\n",
      "id: 21 coverage: 1 Arg 1/17: frozenset({'Age_Age > 48.00', 'Marital Status_Married-civ-spouse', 'Education_Bachelors'})\n",
      "id: 22 coverage: 1 Arg 1/22: frozenset({'Occupation_Tech-support', 'Age_28.00 < Age <= 37.00'})\n",
      "id: 23 coverage: 1 Arg 1/17: frozenset({'Education_Some-college', 'Race_Black'})\n",
      "id: 24 coverage: 1 Arg 1/5: frozenset({'Hours per week_Hours per week <= 40.00', 'Occupation_Machine-op-inspct'})\n",
      "id: 25 coverage: 1 Arg 1/10: frozenset({'Relationship_Husband', 'Country_United-States', 'Education_Some-college'})\n",
      "id: 26 coverage: 1 Arg 1/11: frozenset({'Marital Status_Married-civ-spouse', 'Education_Masters'})\n",
      "id: 27 coverage: 1 Arg 1/16: frozenset({'Relationship_Husband', 'Country_United-States', 'Education_Some-college'})\n",
      "id: 28 coverage: 1 Arg 1/27: frozenset({'Age_37.00 < Age <= 48.00', 'Education_Masters'})\n",
      "id: 29 coverage: 1 Arg 1/4: frozenset({'Capital Gain_0', 'Occupation_Machine-op-inspct'})\n",
      "id: 30 coverage: 1 Arg 1/6: frozenset({'Marital Status_Married-civ-spouse', 'Education_Masters'})\n",
      "id: 31 coverage: 1 Arg 1/11: frozenset({'Marital Status_Never-married', 'Workclass_Private'})\n",
      "id: 32 coverage: 1 Arg 1/10: frozenset({'Sex_Female', 'Marital Status_Married-civ-spouse', 'Age_28.00 < Age <= 37.00'})\n",
      "id: 33 coverage: 1 Arg 1/10: frozenset({'Sex_Female', 'Relationship_Not-in-family', 'Country_United-States', 'Hours per week_Hours per week <= 40.00'})\n",
      "id: 34 coverage: 1 Arg 1/8: frozenset({'Occupation_Farming-fishing', 'Education_HS-grad'})\n",
      "id: 35 coverage: 1 Arg 1/11: frozenset({'Hours per week_Hours per week <= 40.00', 'Occupation_Machine-op-inspct'})\n",
      "id: 36 coverage: 1 Arg 1/5: frozenset({'Country_Germany'})\n",
      "id: 37 coverage: 1 Arg 1/21: frozenset({'Education_Some-college', 'Marital Status_Married-civ-spouse', 'Country_United-States'})\n",
      "id: 38 coverage: 1 Arg 1/8: frozenset({'Marital Status_Married-civ-spouse', 'Education_Bachelors', 'Age_28.00 < Age <= 37.00'})\n",
      "id: 39 coverage: 1 Arg 1/12: frozenset({'Age_Age > 48.00', 'Occupation_Prof-specialty', 'Sex_Male'})\n",
      "id: 40 coverage: 1 Arg 1/12: frozenset({'Education_Bachelors', 'Hours per week_Hours per week > 45.00'})\n",
      "id: 41 coverage: 1 Arg 1/15: frozenset({'Occupation_Priv-house-serv'})\n",
      "id: 42 coverage: 1 Arg 1/12: frozenset({'Relationship_Husband', 'Education_Bachelors', 'Age_28.00 < Age <= 37.00'})\n",
      "id: 43 coverage: 1 Arg 1/13: frozenset({'Sex_Female', 'Occupation_?', 'Education_HS-grad'})\n",
      "id: 44 coverage: 1 Arg 1/25: frozenset({'Relationship_Not-in-family', 'Education_HS-grad', 'Workclass_Private'})\n",
      "id: 45 coverage: 1 Arg 1/13: frozenset({'Relationship_Not-in-family', 'Age_37.00 < Age <= 48.00', 'Occupation_Protective-serv'})\n",
      "id: 46 coverage: 1 Arg 1/22: frozenset({'Relationship_Not-in-family', 'Age_Age <= 28.00'})\n",
      "id: 47 coverage: 1 Arg 1/7: frozenset({'Education_HS-grad', 'Age_28.00 < Age <= 37.00', 'Workclass_Private', 'Sex_Male'})\n",
      "id: 48 coverage: 1 Arg 1/22: frozenset({'Education_Some-college', 'Marital Status_Married-civ-spouse', 'Country_United-States'})\n",
      "id: 49 coverage: 1 Arg 1/8: frozenset({'Hours per week_Hours per week <= 40.00', 'Age_Age <= 28.00', 'Sex_Male'})\n",
      "id: 50 coverage: 1 Arg 1/9: frozenset({'Marital Status_Married-civ-spouse', 'Occupation_Tech-support'})\n",
      "id: 51 coverage: 1 Arg 1/13: frozenset({'Age_Age > 48.00', 'Race_White', 'Education_Bachelors'})\n",
      "id: 52 coverage: 1 Arg 1/11: frozenset({'Marital Status_Never-married', 'Workclass_Private'})\n",
      "id: 53 coverage: 1 Arg 1/10: frozenset({'Race_Black', 'Sex_Male'})\n",
      "id: 54 coverage: 1 Arg 1/10: frozenset({'Relationship_Husband', 'Country_United-States', 'Education_Some-college'})\n",
      "id: 55 coverage: 1 Arg 1/5: frozenset({'Occupation_Sales', 'Marital Status_Married-civ-spouse', 'Education_HS-grad'})\n",
      "id: 56 coverage: 1 Arg 1/19: frozenset({'Marital Status_Married-civ-spouse', 'Workclass_State-gov'})\n",
      "id: 57 coverage: 1 Arg 1/7: frozenset({'Age_37.00 < Age <= 48.00', 'Workclass_Self-emp-not-inc'})\n",
      "id: 58 coverage: 1 Arg 1/16: frozenset({'Age_Age <= 28.00', 'Workclass_State-gov'})\n",
      "id: 59 coverage: 1 Arg 1/15: frozenset({'Marital Status_Married-civ-spouse', 'Occupation_Tech-support'})\n",
      "id: 60 coverage: 1 Arg 1/7: frozenset({'Hours per week_Hours per week > 45.00', 'Age_28.00 < Age <= 37.00', 'Occupation_Prof-specialty'})\n",
      "id: 61 coverage: 1 Arg 1/20: frozenset({'Relationship_Not-in-family', 'Education_HS-grad', 'Workclass_Private'})\n",
      "id: 62 coverage: 1 Arg 1/10: frozenset({'Education_HS-grad', 'Age_28.00 < Age <= 37.00', 'Workclass_Private', 'Sex_Male'})\n",
      "id: 63 coverage: 1 Arg 1/7: frozenset({'Occupation_Exec-managerial', 'Workclass_Self-emp-not-inc'})\n",
      "id: 64 coverage: 1 Arg 1/11: frozenset({'Marital Status_Never-married', 'Workclass_Private'})\n",
      "id: 65 coverage: 1 Arg 1/8: frozenset({'Relationship_Wife', 'Occupation_Adm-clerical'})\n",
      "id: 66 coverage: 1 Arg 1/18: frozenset({'Capital Loss_0', 'Hours per week_Hours per week <= 40.00', 'Workclass_Local-gov', 'Capital Gain_0'})\n",
      "id: 67 coverage: 1 Arg 1/12: frozenset({'Marital Status_Married-civ-spouse', 'Occupation_Tech-support'})\n",
      "id: 68 coverage: 1 Arg 1/14: frozenset({'Relationship_Not-in-family', 'Age_Age <= 28.00'})\n",
      "id: 69 coverage: 1 Arg 1/16: frozenset({'Age_Age > 48.00', 'Occupation_Machine-op-inspct'})\n",
      "id: 70 coverage: 1 Arg 1/8: frozenset({'Age_Age > 48.00', 'Marital Status_Married-civ-spouse', 'Workclass_Private'})\n",
      "id: 71 coverage: 1 Arg 1/16: frozenset({'Relationship_Unmarried'})\n",
      "id: 72 coverage: 1 Arg 1/13: frozenset({'Age_Age > 48.00', 'Race_White', 'Education_Bachelors'})\n",
      "id: 73 coverage: 1 Arg 1/26: frozenset({'Education_Bachelors', 'Workclass_Local-gov', 'Marital Status_Divorced'})\n",
      "id: 74 coverage: 1 Arg 1/13: frozenset({'Occupation_Handlers-cleaners', 'Workclass_Private'})\n",
      "id: 75 coverage: 1 Arg 1/11: frozenset({'Relationship_Husband', 'Country_United-States', 'Education_Some-college'})\n",
      "id: 76 coverage: 1 Arg 1/7: frozenset({'Occupation_Exec-managerial', 'Relationship_Not-in-family'})\n",
      "id: 77 coverage: 1 Arg 1/3: frozenset({'Age_37.00 < Age <= 48.00', 'Education_HS-grad'})\n",
      "id: 78 coverage: 1 Arg 1/17: frozenset({'Race_Black', 'Sex_Male'})\n",
      "id: 79 coverage: 1 Arg 1/16: frozenset({'Sex_Female', 'Relationship_Not-in-family', 'Country_United-States', 'Hours per week_Hours per week <= 40.00'})\n",
      "0 80\n"
     ]
    }
   ],
   "source": [
    "explainer.set_strategy('max_covc', 'existence')\n",
    "## Define strategy before calling explainer.explain()\n",
    "explainer.display_explanations()"
   ]
  },
  {
   "cell_type": "code",
   "execution_count": null,
   "metadata": {},
   "outputs": [
    {
     "name": "stdout",
     "output_type": "stream",
     "text": [
      "0.40616693248272195\n",
      "Number of extensions: 521076\n",
      "len(max_cov_exts)= 521074 / 521076\n",
      "Covc strategy's coverage: 2\n",
      "Top 5 covs: [2, 2, 2, 2, 2]\n",
      "id: 0 coverage: 0 Arg 1/0: None\n",
      "id: 1 coverage: 0 Arg 1/0: None\n",
      "id: 2 coverage: 0 Arg 1/0: None\n",
      "id: 3 coverage: 0 Arg 1/0: None\n",
      "id: 4 coverage: 0 Arg 1/0: None\n",
      "id: 5 coverage: 0 Arg 1/0: None\n",
      "id: 6 coverage: 0 Arg 1/0: None\n",
      "id: 7 coverage: 0 Arg 1/0: None\n",
      "id: 8 coverage: 0 Arg 1/0: None\n",
      "id: 9 coverage: 0 Arg 1/0: None\n",
      "id: 10 coverage: 0 Arg 1/0: None\n",
      "id: 11 coverage: 0 Arg 1/0: None\n",
      "id: 12 coverage: 0 Arg 1/0: None\n",
      "id: 13 coverage: 0 Arg 1/0: None\n",
      "id: 14 coverage: 0 Arg 1/0: None\n",
      "id: 15 coverage: 0 Arg 1/0: None\n",
      "id: 16 coverage: 0 Arg 1/0: None\n",
      "id: 17 coverage: 0 Arg 1/0: None\n",
      "id: 18 coverage: 0 Arg 1/0: None\n",
      "id: 19 coverage: 0 Arg 1/0: None\n",
      "id: 20 coverage: 0 Arg 1/0: None\n",
      "id: 21 coverage: 0 Arg 1/0: None\n",
      "id: 22 coverage: 0 Arg 1/0: None\n",
      "id: 23 coverage: 0 Arg 1/0: None\n",
      "id: 24 coverage: 0 Arg 1/0: None\n",
      "id: 25 coverage: 0 Arg 1/0: None\n",
      "id: 26 coverage: 0 Arg 1/0: None\n",
      "id: 27 coverage: 0 Arg 1/0: None\n",
      "id: 28 coverage: 0 Arg 1/0: None\n",
      "id: 29 coverage: 0 Arg 1/0: None\n",
      "id: 30 coverage: 0 Arg 1/0: None\n",
      "id: 31 coverage: 0 Arg 1/0: None\n",
      "id: 32 coverage: 0 Arg 1/0: None\n",
      "id: 33 coverage: 0 Arg 1/0: None\n",
      "id: 34 coverage: 0 Arg 1/0: None\n",
      "id: 35 coverage: 0 Arg 1/0: None\n",
      "id: 36 coverage: 0 Arg 1/0: None\n",
      "id: 37 coverage: 0 Arg 1/0: None\n",
      "id: 38 coverage: 0 Arg 1/0: None\n",
      "id: 39 coverage: 0 Arg 1/0: None\n",
      "id: 40 coverage: 0 Arg 1/0: None\n",
      "id: 41 coverage: 0 Arg 1/0: None\n",
      "id: 42 coverage: 0 Arg 1/0: None\n",
      "id: 43 coverage: 0 Arg 1/0: None\n",
      "id: 44 coverage: 0 Arg 1/0: None\n",
      "id: 45 coverage: 0 Arg 1/0: None\n",
      "id: 46 coverage: 0 Arg 1/0: None\n",
      "id: 47 coverage: 0 Arg 1/0: None\n",
      "id: 48 coverage: 0 Arg 1/0: None\n",
      "id: 49 coverage: 0 Arg 1/0: None\n",
      "id: 50 coverage: 0 Arg 1/0: None\n",
      "id: 51 coverage: 0 Arg 1/0: None\n",
      "id: 52 coverage: 0 Arg 1/0: None\n",
      "id: 53 coverage: 0 Arg 1/0: None\n",
      "id: 54 coverage: 0 Arg 1/0: None\n",
      "id: 55 coverage: 0 Arg 1/0: None\n",
      "id: 56 coverage: 0 Arg 1/0: None\n",
      "id: 57 coverage: 0 Arg 1/0: None\n",
      "id: 58 coverage: 0 Arg 1/0: None\n",
      "id: 59 coverage: 0 Arg 1/0: None\n",
      "id: 60 coverage: 0 Arg 1/0: None\n",
      "id: 61 coverage: 0 Arg 1/0: None\n",
      "id: 62 coverage: 0 Arg 1/0: None\n",
      "id: 63 coverage: 0 Arg 1/0: None\n",
      "id: 64 coverage: 0 Arg 1/0: None\n",
      "id: 65 coverage: 0 Arg 1/0: None\n",
      "id: 66 coverage: 0 Arg 1/0: None\n",
      "id: 67 coverage: 0 Arg 1/0: None\n",
      "id: 68 coverage: 0 Arg 1/0: None\n",
      "id: 69 coverage: 0 Arg 1/0: None\n",
      "id: 70 coverage: 0 Arg 1/0: None\n",
      "id: 71 coverage: 0 Arg 1/0: None\n",
      "id: 72 coverage: 0 Arg 1/0: None\n",
      "id: 73 coverage: 0 Arg 1/0: None\n",
      "id: 74 coverage: 0 Arg 1/0: None\n",
      "id: 75 coverage: 0 Arg 1/0: None\n",
      "id: 76 coverage: 0 Arg 1/0: None\n",
      "id: 77 coverage: 0 Arg 1/0: None\n",
      "id: 78 coverage: 0 Arg 1/0: None\n",
      "id: 79 coverage: 0 Arg 1/0: None\n",
      "80 80\n"
     ]
    }
   ],
   "source": [
    "explainer.set_strategy('max_covc', 'universal')\n",
    "## Define strategy before calling explainer.explain()\n",
    "explainer.display_explanations()"
   ]
  },
  {
   "cell_type": "code",
   "execution_count": null,
   "metadata": {},
   "outputs": [
    {
     "name": "stdout",
     "output_type": "stream",
     "text": [
      "0.40616693248272195\n",
      "Number of extensions: 521076\n",
      "len(max_cov_exts)= 12 / 521076\n",
      "Covi strategy's coverage: 60\n",
      "Top 5 covs: [58, 58, 58, 58, 58]\n",
      "id: 0 coverage: 0 Arg 1/0: None\n",
      "id: 1 coverage: 5 Arg 1/4: frozenset({'Relationship_Not-in-family', 'Occupation_Exec-managerial'})\n",
      "id: 2 coverage: 0 Arg 1/0: None\n",
      "id: 3 coverage: 3 Arg 1/1: frozenset({'Occupation_Machine-op-inspct', 'Age_28.00 < Age <= 37.00'})\n",
      "id: 4 coverage: 0 Arg 1/0: None\n",
      "id: 5 coverage: 2 Arg 1/1: frozenset({'Occupation_Farming-fishing', 'Age_28.00 < Age <= 37.00'})\n",
      "id: 6 coverage: 2 Arg 1/1: frozenset({'Sex_Female', 'Occupation_Protective-serv'})\n",
      "id: 7 coverage: 3 Arg 1/1: frozenset({'Occupation_Sales', 'Education_Bachelors'})\n",
      "id: 8 coverage: 2 Arg 1/1: frozenset({'Occupation_?', 'Sex_Male'})\n",
      "id: 9 coverage: 3 Arg 1/2: frozenset({'Occupation_Prof-specialty', 'Education_Bachelors', 'Workclass_Private'})\n",
      "id: 10 coverage: 4 Arg 1/1: frozenset({'Occupation_Protective-serv', 'Sex_Male'})\n",
      "id: 11 coverage: 1 Arg 1/1: frozenset({'Age_28.00 < Age <= 37.00', 'Occupation_Transport-moving'})\n",
      "id: 12 coverage: 2 Arg 1/1: frozenset({'Sex_Female', 'Marital Status_Married-civ-spouse', 'Occupation_?'})\n",
      "id: 13 coverage: 1 Arg 1/1: frozenset({'Occupation_Craft-repair', 'Age_Age <= 28.00'})\n",
      "id: 14 coverage: 4 Arg 1/1: frozenset({'Age_Age > 48.00', 'Occupation_Prof-specialty', 'Marital Status_Married-civ-spouse'})\n",
      "id: 15 coverage: 3 Arg 1/1: frozenset({'Occupation_Sales', 'Education_Bachelors'})\n",
      "id: 16 coverage: 2 Arg 1/1: frozenset({'Occupation_Farming-fishing', 'Age_28.00 < Age <= 37.00'})\n",
      "id: 17 coverage: 0 Arg 1/0: None\n",
      "id: 18 coverage: 3 Arg 1/1: frozenset({'Occupation_Sales', 'Marital Status_Married-civ-spouse', 'Education_HS-grad'})\n",
      "id: 19 coverage: 0 Arg 1/0: None\n",
      "id: 20 coverage: 2 Arg 1/1: frozenset({'Occupation_?', 'Sex_Male'})\n",
      "id: 21 coverage: 6 Arg 1/4: frozenset({'Age_Age > 48.00', 'Occupation_Prof-specialty', 'Workclass_Private'})\n",
      "id: 22 coverage: 0 Arg 1/0: None\n",
      "id: 23 coverage: 0 Arg 1/0: None\n",
      "id: 24 coverage: 3 Arg 1/1: frozenset({'Occupation_Machine-op-inspct', 'Age_28.00 < Age <= 37.00'})\n",
      "id: 25 coverage: 9 Arg 1/3: frozenset({'Occupation_Exec-managerial', 'Relationship_Husband'})\n",
      "id: 26 coverage: 4 Arg 1/1: frozenset({'Age_Age > 48.00', 'Occupation_Prof-specialty', 'Marital Status_Married-civ-spouse'})\n",
      "id: 27 coverage: 4 Arg 1/1: frozenset({'Occupation_Protective-serv', 'Sex_Male'})\n",
      "id: 28 coverage: 1 Arg 1/1: frozenset({'Occupation_Prof-specialty', 'Age_37.00 < Age <= 48.00', 'Workclass_Local-gov'})\n",
      "id: 29 coverage: 3 Arg 1/1: frozenset({'Occupation_Machine-op-inspct', 'Age_28.00 < Age <= 37.00'})\n",
      "id: 30 coverage: 1 Arg 1/1: frozenset({'Occupation_Prof-specialty', 'Age_Age <= 28.00', 'Workclass_Private'})\n",
      "id: 31 coverage: 0 Arg 1/0: None\n",
      "id: 32 coverage: 3 Arg 1/1: frozenset({'Occupation_Sales', 'Marital Status_Married-civ-spouse', 'Education_HS-grad'})\n",
      "id: 33 coverage: 0 Arg 1/0: None\n",
      "id: 34 coverage: 1 Arg 1/1: frozenset({'Occupation_Farming-fishing', 'Age_Age > 48.00'})\n",
      "id: 35 coverage: 0 Arg 1/0: None\n",
      "id: 36 coverage: 0 Arg 1/0: None\n",
      "id: 37 coverage: 0 Arg 1/0: None\n",
      "id: 38 coverage: 3 Arg 1/1: frozenset({'Occupation_Sales', 'Education_Bachelors'})\n",
      "id: 39 coverage: 4 Arg 1/1: frozenset({'Age_Age > 48.00', 'Occupation_Prof-specialty', 'Marital Status_Married-civ-spouse'})\n",
      "id: 40 coverage: 9 Arg 1/5: frozenset({'Occupation_Exec-managerial', 'Relationship_Husband'})\n",
      "id: 41 coverage: 0 Arg 1/0: None\n",
      "id: 42 coverage: 8 Arg 1/5: frozenset({'Occupation_Exec-managerial', 'Relationship_Husband'})\n",
      "id: 43 coverage: 2 Arg 1/1: frozenset({'Sex_Female', 'Marital Status_Married-civ-spouse', 'Occupation_?'})\n",
      "id: 44 coverage: 0 Arg 1/0: None\n",
      "id: 45 coverage: 4 Arg 1/1: frozenset({'Occupation_Protective-serv', 'Sex_Male'})\n",
      "id: 46 coverage: 2 Arg 1/1: frozenset({'Sex_Female', 'Occupation_Protective-serv'})\n",
      "id: 47 coverage: 2 Arg 1/1: frozenset({'Occupation_Craft-repair', 'Age_28.00 < Age <= 37.00'})\n",
      "id: 48 coverage: 0 Arg 1/0: None\n",
      "id: 49 coverage: 0 Arg 1/0: None\n",
      "id: 50 coverage: 0 Arg 1/0: None\n",
      "id: 51 coverage: 8 Arg 1/4: frozenset({'Occupation_Exec-managerial', 'Country_Mexico'})\n",
      "id: 52 coverage: 0 Arg 1/0: None\n",
      "id: 53 coverage: 3 Arg 1/1: frozenset({'Hours per week_Hours per week <= 40.00', 'Occupation_Prof-specialty', 'Workclass_Private'})\n",
      "id: 54 coverage: 0 Arg 1/0: None\n",
      "id: 55 coverage: 3 Arg 1/1: frozenset({'Occupation_Sales', 'Marital Status_Married-civ-spouse', 'Education_HS-grad'})\n",
      "id: 56 coverage: 7 Arg 1/4: frozenset({'Occupation_Exec-managerial', 'Relationship_Wife'})\n",
      "id: 57 coverage: 0 Arg 1/0: None\n",
      "id: 58 coverage: 0 Arg 1/0: None\n",
      "id: 59 coverage: 0 Arg 1/0: None\n",
      "id: 60 coverage: 0 Arg 1/0: None\n",
      "id: 61 coverage: 0 Arg 1/0: None\n",
      "id: 62 coverage: 2 Arg 1/1: frozenset({'Occupation_Craft-repair', 'Age_28.00 < Age <= 37.00'})\n",
      "id: 63 coverage: 7 Arg 1/4: frozenset({'Occupation_Exec-managerial', 'Workclass_Self-emp-not-inc'})\n",
      "id: 64 coverage: 0 Arg 1/0: None\n",
      "id: 65 coverage: 0 Arg 1/0: None\n",
      "id: 66 coverage: 1 Arg 1/1: frozenset({'Occupation_Prof-specialty', 'Age_Age <= 28.00', 'Workclass_Local-gov'})\n",
      "id: 67 coverage: 0 Arg 1/0: None\n",
      "id: 68 coverage: 0 Arg 1/0: None\n",
      "id: 69 coverage: 0 Arg 1/0: None\n",
      "id: 70 coverage: 7 Arg 1/3: frozenset({'Occupation_Exec-managerial', 'Relationship_Husband'})\n",
      "id: 71 coverage: 0 Arg 1/0: None\n",
      "id: 72 coverage: 8 Arg 1/4: frozenset({'Occupation_Exec-managerial', 'Relationship_Husband'})\n",
      "id: 73 coverage: 0 Arg 1/0: None\n",
      "id: 74 coverage: 0 Arg 1/0: None\n",
      "id: 75 coverage: 0 Arg 1/0: None\n",
      "id: 76 coverage: 2 Arg 1/2: frozenset({'Relationship_Not-in-family', 'Occupation_Exec-managerial'})\n",
      "id: 77 coverage: 1 Arg 1/1: frozenset({'Occupation_Craft-repair', 'Age_37.00 < Age <= 48.00'})\n",
      "id: 78 coverage: 4 Arg 1/1: frozenset({'Occupation_Protective-serv', 'Sex_Male'})\n",
      "id: 79 coverage: 0 Arg 1/0: None\n",
      "34 80\n"
     ]
    }
   ],
   "source": [
    "explainer.set_strategy('max_covi', 'universal')\n",
    "## Define strategy before calling explainer.explain()\n",
    "explainer.display_explanations()"
   ]
  },
  {
   "cell_type": "code",
   "execution_count": null,
   "metadata": {},
   "outputs": [
    {
     "name": "stdout",
     "output_type": "stream",
     "text": [
      "Anchor\n",
      "['Age > 48.00', 'Self-emp-not-inc', 'Some-college', 'Married-civ-spouse', 'Sales', 'Husband', 'White', 'Male', '2', '0', '40.00 < Hours per week <= 45.00', 'United-States']\n",
      "Prediction:  b'>50K'\n",
      "Anchor: Capital Gain = 2\n",
      "Precision: 1.00\n",
      "Coverage: 0.07\n",
      "Arg: 0\n",
      "id: 0 coverage: 10 Args5/5: {frozenset({'Occupation_Sales', 'Age_Age > 48.00'}), frozenset({'Workclass_Self-emp-not-inc', 'Age_Age > 48.00'}), frozenset({'Workclass_Self-emp-not-inc', 'Occupation_Sales'}), frozenset({'Education_Some-college', 'Workclass_Self-emp-not-inc'}), frozenset({'Education_Some-college', 'Occupation_Sales', 'Country_United-States'})}\n",
      "None\n"
     ]
    }
   ],
   "source": [
    "anchor_explainer = anchor_tabular.AnchorTabularExplainer(\n",
    "    dataset.class_names,\n",
    "    dataset.feature_names,\n",
    "    dataset.train,\n",
    "    dataset.categorical_names)\n",
    "idx = 0\n",
    "np.random.seed(1)\n",
    "instance = dataset.train[idx].reshape(1, -1)[0]\n",
    "print(\"Anchor\")\n",
    "print([dataset.categorical_names[i][int(r_)] for i, r_ in enumerate(instance)])\n",
    "\n",
    "print('Prediction: ', anchor_explainer.class_names[c.predict(dataset.train[0].reshape(1, -1))[0]])\n",
    "exp = anchor_explainer.explain_instance(dataset.train[idx], c.predict, threshold=0.95)\n",
    "print('Anchor: %s' % (' AND '.join(exp.names())))\n",
    "print('Precision: %.2f' % exp.precision())\n",
    "print('Coverage: %.2f' % exp.coverage())\n",
    "\n",
    "print(\"Arg:\", idx)\n",
    "print(explainer.explain_instance(idx))"
   ]
  }
 ],
 "metadata": {
  "kernelspec": {
   "display_name": "Python 3",
   "language": "python",
   "name": "python3"
  },
  "language_info": {
   "codemirror_mode": {
    "name": "ipython",
    "version": 3
   },
   "file_extension": ".py",
   "mimetype": "text/x-python",
   "name": "python",
   "nbconvert_exporter": "python",
   "pygments_lexer": "ipython3",
   "version": "3.9.12"
  },
  "vscode": {
   "interpreter": {
    "hash": "34f4a23e072925201d1edce259708610e2f98260d5449b97ac01b140140f4b0a"
   }
  }
 },
 "nbformat": 4,
 "nbformat_minor": 2
}
