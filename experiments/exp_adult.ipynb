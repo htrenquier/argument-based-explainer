{
 "cells": [
  {
   "cell_type": "code",
   "execution_count": 1,
   "metadata": {},
   "outputs": [],
   "source": [
    "from anchor import utils\n",
    "from anchor import anchor_tabular\n",
    "import pandas as pd\n",
    "import sklearn.ensemble\n",
    "import numpy as np\n",
    "from anchor import anchor_tabular\n",
    "import os"
   ]
  },
  {
   "cell_type": "code",
   "execution_count": 3,
   "metadata": {},
   "outputs": [
    {
     "name": "stdout",
     "output_type": "stream",
     "text": [
      "[ 3.  6. 15.  2. 12.  0.  4.  1.  2.  0.  1. 39.]\n"
     ]
    }
   ],
   "source": [
    "dataset_folder = '../../datasets/'\n",
    "dataset = utils.load_dataset('adult', balance=True, dataset_folder=dataset_folder, discretize=True)\n",
    "print(dataset.train[0])"
   ]
  },
  {
   "cell_type": "code",
   "execution_count": 6,
   "metadata": {},
   "outputs": [
    {
     "name": "stdout",
     "output_type": "stream",
     "text": [
      "Train 0.9348744519728975\n",
      "Test 0.8495857233906947\n"
     ]
    }
   ],
   "source": [
    "c = sklearn.ensemble.RandomForestClassifier(n_estimators=50, n_jobs=5)\n",
    "c.fit(dataset.train, dataset.labels_train)\n",
    "#print(np.unique(dataset.labels_train))\n",
    "print('Train', sklearn.metrics.accuracy_score(dataset.labels_train, c.predict(dataset.train)))\n",
    "print('Test', sklearn.metrics.accuracy_score(dataset.labels_test, c.predict(dataset.test)))"
   ]
  },
  {
   "cell_type": "code",
   "execution_count": 7,
   "metadata": {},
   "outputs": [
    {
     "name": "stdout",
     "output_type": "stream",
     "text": [
      "['Age > 48.00', 'Self-emp-not-inc', 'Some-college', 'Married-civ-spouse', 'Sales', 'Husband', 'White', 'Male', '2', '0', '40.00 < Hours per week <= 45.00', 'United-States']\n",
      "(12545, 12)\n",
      "[ 3.  6. 15.  2. 12.  0.  4.  1.  2.  0.  1. 39.]\n",
      "[[ 3.  6. 15.  2. 12.  0.  4.  1.  2.  0.  1. 39.]]\n"
     ]
    }
   ],
   "source": [
    "transformed_data = []\n",
    "\n",
    "for r in dataset.train:\n",
    "    transformed_data.append([dataset.categorical_names[i][int(r_)] for i, r_ in enumerate(r)])        \n",
    "\n",
    "print(transformed_data[0])\n",
    "\n",
    "train_data = pd.DataFrame(transformed_data, columns=dataset.feature_names)\n",
    "print(train_data.shape)\n",
    "nb_vals = 1000\n",
    "\n",
    "print(dataset.train[0])\n",
    "print(dataset.train[0].reshape(1, -1))\n",
    "y=[]\n",
    "for k in range(0, nb_vals):\n",
    "    y.append(c.predict(dataset.train[k].reshape(1, -1))[0])\n"
   ]
  },
  {
   "cell_type": "code",
   "execution_count": 8,
   "metadata": {},
   "outputs": [
    {
     "name": "stdout",
     "output_type": "stream",
     "text": [
      "['Age', 'Workclass', 'Education', 'Marital Status', 'Occupation', 'Relationship', 'Race', 'Sex', 'Capital Gain', 'Capital Loss', 'Hours per week', 'Country']\n"
     ]
    }
   ],
   "source": [
    "import sys\n",
    "sys.path.append(sys.path[0] + '/..')\n",
    "\n",
    "import arg_explainer as ae\n",
    "from importlib import reload\n",
    "reload(ae)\n",
    "import arg_explainer as ae\n",
    "\n",
    "print(dataset.feature_names)\n",
    "explainer = ae.ArgTabularExplainer(c, train_data.iloc[0:nb_vals], y, 'adult_' + str(nb_vals), compute=False, output_path='../saves')"
   ]
  },
  {
   "cell_type": "code",
   "execution_count": 9,
   "metadata": {},
   "outputs": [
    {
     "name": "stdout",
     "output_type": "stream",
     "text": [
      "2602 2506  args total\n",
      "adult_1000\n",
      "len(R_atk) =  4843405\n",
      "5 highest degrees: [(frozenset({87}), 2529) (frozenset({86}), 2529) (frozenset({90}), 2529)\n",
      " (frozenset({73}), 2529) (frozenset({63}), 2591)]\n",
      "5 lowest degrees: [(frozenset({2, 22, 39}), 1193) (frozenset({2, 13, 45}), 1206)\n",
      " (frozenset({2, 22, 47}), 1211) (frozenset({2, 18, 45}), 1212)\n",
      " (frozenset({2, 20, 34}), 1219)]\n",
      "edges per node: 1896.3997650743931\n"
     ]
    }
   ],
   "source": [
    "G = explainer.build_attack_graph(compute=True, display_graph=False)\n",
    "print('edges per node:', np.mean([len(G.edges(n)) for n in G.nodes()]))\n",
    "\n",
    "explainer.export_graph('asp', '../saves')"
   ]
  },
  {
   "cell_type": "code",
   "execution_count": 30,
   "metadata": {},
   "outputs": [
    {
     "name": "stdout",
     "output_type": "stream",
     "text": [
      "Using pre-processed file...\n",
      "Reading asp_test_preprocessed.txt\n",
      "Time for selection:  411.7170205116272\n"
     ]
    }
   ],
   "source": [
    "ext_gen = explainer.extension_generator(file='asp_test.txt')\n",
    "max_covi_ext = explainer.make_selection(ext_gen, 'max_covi')"
   ]
  },
  {
   "cell_type": "code",
   "execution_count": 31,
   "metadata": {},
   "outputs": [
    {
     "name": "stdout",
     "output_type": "stream",
     "text": [
      "{frozenset({37, 4, 45}), frozenset({2, 18, 21}), frozenset({1, 9, 22}), frozenset({30, 15}), frozenset({24, 9, 4, 39}), frozenset({26, 13}), frozenset({24, 20, 4, 37}), frozenset({24, 41, 46, 39}), frozenset({29, 35, 45}), frozenset({43, 20, 36}), frozenset({9, 44, 37}), frozenset({32, 40, 36, 5}), frozenset({43, 15}), frozenset({2, 11, 36}), frozenset({11, 22, 39}), frozenset({33, 13, 22}), frozenset({13, 45}), frozenset({0, 13}), frozenset({41, 34, 11}), frozenset({0, 20, 46, 39}), frozenset({28, 45, 31}), frozenset({2, 43, 29}), frozenset({4, 22, 39}), frozenset({2, 44, 21}), frozenset({32, 33, 22}), frozenset({28, 30, 44}), frozenset({3, 11}), frozenset({0, 41, 20, 46}), frozenset({34, 3, 44}), frozenset({33, 10}), frozenset({33, 44, 38}), frozenset({18, 20}), frozenset({5, 36, 37, 30}), frozenset({11, 43, 20}), frozenset({0, 10}), frozenset({1, 29, 46}), frozenset({40, 44, 30}), frozenset({13, 46}), frozenset({1, 31, 33}), frozenset({33, 45, 30}), frozenset({43, 4, 30}), frozenset({4, 45, 31}), frozenset({10, 5}), frozenset({24, 29, 38}), frozenset({16, 1}), frozenset({32, 9, 44}), frozenset({32, 41, 20, 36}), frozenset({21, 29, 46}), frozenset({24, 36, 37, 30}), frozenset({11, 20, 29}), frozenset({2, 10}), frozenset({32, 34, 5}), frozenset({16, 33}), frozenset({18, 29}), frozenset({33, 4, 21}), frozenset({24, 20, 4, 29}), frozenset({24, 35, 20, 29}), frozenset({0, 5, 37, 46}), frozenset({34, 21}), frozenset({4, 45, 36}), frozenset({4, 29, 44, 39}), frozenset({3, 28, 44}), frozenset({18, 44}), frozenset({33, 21, 46}), frozenset({1, 11, 36, 5}), frozenset({24, 36, 5, 44}), frozenset({32, 4, 36}), frozenset({24, 45, 38}), frozenset({33, 28}), frozenset({2, 11, 37}), frozenset({1, 28, 29}), frozenset({0, 4, 44}), frozenset({41, 28, 45}), frozenset({2, 44, 29}), frozenset({0, 42, 45}), frozenset({35, 28}), frozenset({34, 4, 31}), frozenset({34, 44, 31}), frozenset({33, 31, 39}), frozenset({0, 34, 46}), frozenset({32, 33, 46}), frozenset({44, 13}), frozenset({0, 41, 40}), frozenset({35, 46, 30}), frozenset({16, 22}), frozenset({5, 23}), frozenset({24, 1, 5, 31}), frozenset({24, 11, 36}), frozenset({1, 43, 28}), frozenset({11, 38}), frozenset({24, 36, 22, 39}), frozenset({35, 44, 29}), frozenset({40, 34, 5}), frozenset({11, 44, 5}), frozenset({2, 36, 29}), frozenset({1, 42}), frozenset({9, 34, 43}), frozenset({9, 35, 31}), frozenset({2, 21, 46}), frozenset({37, 5, 43, 29}), frozenset({24, 36, 46, 30}), frozenset({2, 20, 36, 39}), frozenset({15, 31}), frozenset({2, 28, 46}), frozenset({10, 36}), frozenset({36, 38, 44}), frozenset({0, 9, 34}), frozenset({1, 20, 13}), frozenset({41, 29, 36, 45}), frozenset({15, 22, 39}), frozenset({31, 46, 22}), frozenset({0, 9, 24, 41}), frozenset({32, 2}), frozenset({24, 31, 22, 39}), frozenset({0, 9, 4, 39}), frozenset({24, 36, 22, 31}), frozenset({33, 4, 39}), frozenset({0, 42, 22}), frozenset({2, 37, 45}), frozenset({0, 45, 38}), frozenset({4, 15}), frozenset({2, 11, 29}), frozenset({35, 12}), frozenset({10, 42}), frozenset({0, 41, 20, 5}), frozenset({40, 11}), frozenset({42, 31}), frozenset({40, 33, 46}), frozenset({41, 3, 38}), frozenset({34, 29, 37, 22}), frozenset({28, 44, 39}), frozenset({34, 45}), frozenset({2, 43, 22}), frozenset({0, 9, 5, 37}), frozenset({5, 11, 21}), frozenset({32, 41, 40, 5}), frozenset({32, 36, 38}), frozenset({24, 42, 45}), frozenset({9, 34, 22}), frozenset({42, 46, 22}), frozenset({5, 37, 29, 22}), frozenset({32, 9, 22}), frozenset({36, 5, 46, 30}), frozenset({20, 4, 29, 36}), frozenset({1, 35, 30}), frozenset({32, 20, 44}), frozenset({0, 45, 30}), frozenset({9, 35, 4, 39}), frozenset({33, 20, 29}), frozenset({1, 44, 22}), frozenset({2, 21, 29}), frozenset({2, 13}), frozenset({13, 21}), frozenset({17, 41}), frozenset({17, 31}), frozenset({0, 9, 24, 30}), frozenset({2, 46, 39}), frozenset({24, 2, 36, 37}), frozenset({11, 20, 39}), frozenset({21, 11, 45}), frozenset({12, 29}), frozenset({0, 40, 4}), frozenset({24, 42, 22}), frozenset({0, 33, 44, 22}), frozenset({0, 9, 31}), frozenset({17, 39}), frozenset({11, 44, 22}), frozenset({12, 37}), frozenset({0, 44, 29}), frozenset({0, 9, 20, 41}), frozenset({26, 30}), frozenset({1, 43, 31}), frozenset({29, 44, 37, 22}), frozenset({1, 18}), frozenset({1, 17}), frozenset({26, 20, 5}), frozenset({44, 5, 30}), frozenset({0, 33, 22, 39}), frozenset({1, 37, 31}), frozenset({32, 9, 34}), frozenset({0, 11, 20}), frozenset({0, 9, 33}), frozenset({11, 37, 22}), frozenset({0, 34, 31}), frozenset({4, 12, 30}), frozenset({34, 4, 39}), frozenset({34, 44, 39}), frozenset({33, 4, 44}), frozenset({40, 9, 22}), frozenset({1, 5, 29, 33}), frozenset({34, 44, 30}), frozenset({35, 20, 5, 39}), frozenset({28, 4, 29}), frozenset({1, 28, 22}), frozenset({0, 31, 39}), frozenset({0, 9, 32, 41}), frozenset({10, 38}), frozenset({24, 11, 4}), frozenset({24, 11, 44}), frozenset({0, 5, 35, 29}), frozenset({4, 30, 39}), frozenset({24, 4, 30, 36}), frozenset({2, 35, 22}), frozenset({17, 33}), frozenset({37, 45, 31}), frozenset({34, 44, 15}), frozenset({9, 34, 39}), frozenset({16, 29}), frozenset({41, 36, 38}), frozenset({11, 4, 20}), frozenset({0, 9, 35}), frozenset({0, 9, 44}), frozenset({35, 13, 22}), frozenset({2, 29, 39}), frozenset({21, 29, 39}), frozenset({9, 38}), frozenset({0, 44, 22, 39}), frozenset({5, 36, 37, 22}), frozenset({0, 45, 22}), frozenset({0, 20, 30}), frozenset({42, 44}), frozenset({34, 37, 31}), frozenset({16, 4}), frozenset({33, 20, 46}), frozenset({2, 46, 30}), frozenset({33, 20, 13}), frozenset({32, 44, 38}), frozenset({9, 34, 5, 30}), frozenset({16, 42}), frozenset({1, 20, 4, 29}), frozenset({40, 33, 20}), frozenset({9, 34, 44}), frozenset({13, 31}), frozenset({5, 28, 21}), frozenset({1, 46, 33}), frozenset({3, 28, 39}), frozenset({43, 38}), frozenset({42, 11}), frozenset({44, 29, 38}), frozenset({0, 4, 20, 36}), frozenset({43, 36, 37, 30}), frozenset({24, 35, 13}), frozenset({33, 44, 30}), frozenset({0, 44, 30}), frozenset({9, 35, 20, 39}), frozenset({0, 24, 45}), frozenset({11, 36, 30}), frozenset({40, 34, 44}), frozenset({11, 28}), frozenset({33, 29, 46}), frozenset({0, 41, 32, 20}), frozenset({1, 34, 28}), frozenset({9, 46, 22}), frozenset({33, 43, 4}), frozenset({28, 45, 39}), frozenset({34, 43, 20, 37}), frozenset({40, 9, 34}), frozenset({42, 20, 45}), frozenset({33, 20, 44}), frozenset({24, 45, 22, 31}), frozenset({2, 44, 39}), frozenset({43, 28, 29}), frozenset({28, 21, 44}), frozenset({0, 20, 44}), frozenset({0, 24, 35, 20}), frozenset({0, 9, 5, 30}), frozenset({1, 34, 5, 9}), frozenset({35, 29, 46}), frozenset({40, 4, 36}), frozenset({32, 3, 44}), frozenset({24, 2, 11}), frozenset({2, 28, 29}), frozenset({43, 4, 28}), frozenset({3, 31, 39}), frozenset({0, 20, 37}), frozenset({24, 36, 5, 31}), frozenset({40, 4, 44}), frozenset({3, 20, 44}), frozenset({16, 43}), frozenset({9, 2, 35}), frozenset({33, 4, 46})}\n"
     ]
    }
   ],
   "source": [
    "#sel = explainer.make_selection(max_covi_ext, 'max_covc')\n",
    "res = explainer.apply_inference(max_covi_ext, 'universal')\n",
    "\n",
    "print(res)\n"
   ]
  },
  {
   "cell_type": "markdown",
   "metadata": {},
   "source": [
    "## Sat solver: ASPARTIX"
   ]
  },
  {
   "cell_type": "code",
   "execution_count": null,
   "metadata": {},
   "outputs": [],
   "source": [
    "ext_gen = explainer.extension_generator(file='asp_test.txt')\n",
    "max_covi_ext = explainer.make_selection(ext_gen, 'max_covi')"
   ]
  },
  {
   "cell_type": "code",
   "execution_count": null,
   "metadata": {},
   "outputs": [
    {
     "name": "stdout",
     "output_type": "stream",
     "text": [
      "0.4019384124647283\n",
      "Number of extensions: 1326480\n",
      "Time spent on naive extensions: 55.99906277656555 s ( 86.23851943016052 )\n",
      "len(max_cov_exts)= 1326478 / 1326480\n",
      "Covc strategy's coverage: 2\n",
      "Top 5 covs: [2, 2, 2, 2, 2]\n",
      "id: 0 coverage: 1 Arg 1/12: frozenset({'Relationship_Husband', 'Country_United-States', 'Education_Some-college'})\n",
      "id: 1 coverage: 1 Arg 1/10: frozenset({'Marital Status_Never-married', 'Age_37.00 < Age <= 48.00'})\n",
      "id: 2 coverage: 1 Arg 1/22: frozenset({'Age_Age > 48.00', 'Occupation_Exec-managerial', 'Capital Gain_0', 'Workclass_Private'})\n",
      "id: 3 coverage: 1 Arg 1/18: frozenset({'Hours per week_Hours per week <= 40.00', 'Occupation_Machine-op-inspct'})\n",
      "id: 4 coverage: 1 Arg 1/17: frozenset({'Capital Loss_0', 'Capital Gain_0', 'Occupation_Sales', 'Hours per week_Hours per week <= 40.00', 'Relationship_Husband'})\n",
      "id: 5 coverage: 1 Arg 1/8: frozenset({'Occupation_Farming-fishing', 'Hours per week_Hours per week <= 40.00'})\n",
      "id: 6 coverage: 1 Arg 1/24: frozenset({'Education_Bachelors', 'Age_37.00 < Age <= 48.00', 'Occupation_Protective-serv'})\n",
      "id: 7 coverage: 1 Arg 1/10: frozenset({'Sex_Female', 'Education_Bachelors', 'Marital Status_Married-civ-spouse'})\n",
      "id: 8 coverage: 1 Arg 1/14: frozenset({'Marital Status_Divorced', 'Workclass_?'})\n",
      "id: 9 coverage: 1 Arg 1/7: frozenset({'Relationship_Husband', 'Education_Bachelors', 'Age_28.00 < Age <= 37.00'})\n",
      "id: 10 coverage: 1 Arg 1/13: frozenset({'Race_Black', 'Sex_Male'})\n",
      "id: 11 coverage: 1 Arg 1/5: frozenset({'Education_HS-grad', 'Occupation_Transport-moving'})\n",
      "id: 12 coverage: 1 Arg 1/12: frozenset({'Sex_Female', 'Occupation_?', 'Education_HS-grad'})\n",
      "id: 13 coverage: 1 Arg 1/9: frozenset({'Marital Status_Never-married', 'Workclass_Private'})\n",
      "id: 14 coverage: 1 Arg 1/15: frozenset({'Age_Age > 48.00', 'Sex_Female', 'Marital Status_Married-civ-spouse'})\n",
      "id: 15 coverage: 1 Arg 1/9: frozenset({'Relationship_Husband', 'Education_Bachelors', 'Age_28.00 < Age <= 37.00'})\n",
      "id: 16 coverage: 1 Arg 1/10: frozenset({'Country_United-States', 'Age_28.00 < Age <= 37.00', 'Workclass_Self-emp-not-inc'})\n",
      "id: 17 coverage: 1 Arg 1/8: frozenset({'Workclass_Local-gov', 'Occupation_Handlers-cleaners'})\n",
      "id: 18 coverage: 1 Arg 1/12: frozenset({'Age_Age > 48.00', 'Hours per week_Hours per week > 45.00', 'Sex_Male'})\n",
      "id: 19 coverage: 1 Arg 1/9: frozenset({'Marital Status_Never-married', 'Workclass_Private'})\n",
      "id: 20 coverage: 1 Arg 1/6: frozenset({'Occupation_?', 'Sex_Male'})\n",
      "id: 21 coverage: 1 Arg 1/17: frozenset({'Age_Age > 48.00', 'Marital Status_Married-civ-spouse', 'Education_Bachelors'})\n",
      "id: 22 coverage: 1 Arg 1/22: frozenset({'Occupation_Tech-support', 'Age_28.00 < Age <= 37.00'})\n",
      "id: 23 coverage: 1 Arg 1/17: frozenset({'Education_Some-college', 'Race_Black'})\n",
      "id: 24 coverage: 1 Arg 1/5: frozenset({'Hours per week_Hours per week <= 40.00', 'Occupation_Machine-op-inspct'})\n",
      "id: 25 coverage: 1 Arg 1/10: frozenset({'Relationship_Husband', 'Country_United-States', 'Education_Some-college'})\n",
      "id: 26 coverage: 1 Arg 1/11: frozenset({'Marital Status_Married-civ-spouse', 'Education_Masters'})\n",
      "id: 27 coverage: 1 Arg 1/16: frozenset({'Relationship_Husband', 'Country_United-States', 'Education_Some-college'})\n",
      "id: 28 coverage: 1 Arg 1/27: frozenset({'Age_37.00 < Age <= 48.00', 'Education_Masters'})\n",
      "id: 29 coverage: 1 Arg 1/4: frozenset({'Capital Gain_0', 'Occupation_Machine-op-inspct'})\n",
      "id: 30 coverage: 1 Arg 1/6: frozenset({'Marital Status_Married-civ-spouse', 'Education_Masters'})\n",
      "id: 31 coverage: 1 Arg 1/11: frozenset({'Marital Status_Never-married', 'Workclass_Private'})\n",
      "id: 32 coverage: 1 Arg 1/10: frozenset({'Sex_Female', 'Marital Status_Married-civ-spouse', 'Age_28.00 < Age <= 37.00'})\n",
      "id: 33 coverage: 1 Arg 1/10: frozenset({'Sex_Female', 'Relationship_Not-in-family', 'Country_United-States', 'Hours per week_Hours per week <= 40.00'})\n",
      "id: 34 coverage: 1 Arg 1/8: frozenset({'Occupation_Farming-fishing', 'Education_HS-grad'})\n",
      "id: 35 coverage: 1 Arg 1/11: frozenset({'Hours per week_Hours per week <= 40.00', 'Occupation_Machine-op-inspct'})\n",
      "id: 36 coverage: 1 Arg 1/5: frozenset({'Country_Germany'})\n",
      "id: 37 coverage: 1 Arg 1/21: frozenset({'Education_Some-college', 'Marital Status_Married-civ-spouse', 'Country_United-States'})\n",
      "id: 38 coverage: 1 Arg 1/8: frozenset({'Marital Status_Married-civ-spouse', 'Education_Bachelors', 'Age_28.00 < Age <= 37.00'})\n",
      "id: 39 coverage: 1 Arg 1/12: frozenset({'Age_Age > 48.00', 'Occupation_Prof-specialty', 'Sex_Male'})\n",
      "id: 40 coverage: 1 Arg 1/12: frozenset({'Education_Bachelors', 'Hours per week_Hours per week > 45.00'})\n",
      "id: 41 coverage: 1 Arg 1/15: frozenset({'Occupation_Priv-house-serv'})\n",
      "id: 42 coverage: 1 Arg 1/12: frozenset({'Relationship_Husband', 'Education_Bachelors', 'Age_28.00 < Age <= 37.00'})\n",
      "id: 43 coverage: 1 Arg 1/13: frozenset({'Sex_Female', 'Occupation_?', 'Education_HS-grad'})\n",
      "id: 44 coverage: 1 Arg 1/25: frozenset({'Relationship_Not-in-family', 'Education_HS-grad', 'Workclass_Private'})\n",
      "id: 45 coverage: 1 Arg 1/13: frozenset({'Relationship_Not-in-family', 'Age_37.00 < Age <= 48.00', 'Occupation_Protective-serv'})\n",
      "id: 46 coverage: 1 Arg 1/22: frozenset({'Relationship_Not-in-family', 'Age_Age <= 28.00'})\n",
      "id: 47 coverage: 1 Arg 1/7: frozenset({'Education_HS-grad', 'Age_28.00 < Age <= 37.00', 'Workclass_Private', 'Sex_Male'})\n",
      "id: 48 coverage: 1 Arg 1/22: frozenset({'Education_Some-college', 'Marital Status_Married-civ-spouse', 'Country_United-States'})\n",
      "id: 49 coverage: 1 Arg 1/8: frozenset({'Hours per week_Hours per week <= 40.00', 'Age_Age <= 28.00', 'Sex_Male'})\n",
      "id: 50 coverage: 1 Arg 1/9: frozenset({'Marital Status_Married-civ-spouse', 'Occupation_Tech-support'})\n",
      "id: 51 coverage: 1 Arg 1/13: frozenset({'Age_Age > 48.00', 'Race_White', 'Education_Bachelors'})\n",
      "id: 52 coverage: 1 Arg 1/11: frozenset({'Marital Status_Never-married', 'Workclass_Private'})\n",
      "id: 53 coverage: 1 Arg 1/10: frozenset({'Race_Black', 'Sex_Male'})\n",
      "id: 54 coverage: 1 Arg 1/10: frozenset({'Relationship_Husband', 'Country_United-States', 'Education_Some-college'})\n",
      "id: 55 coverage: 1 Arg 1/5: frozenset({'Occupation_Sales', 'Marital Status_Married-civ-spouse', 'Education_HS-grad'})\n",
      "id: 56 coverage: 1 Arg 1/19: frozenset({'Marital Status_Married-civ-spouse', 'Workclass_State-gov'})\n",
      "id: 57 coverage: 1 Arg 1/7: frozenset({'Age_37.00 < Age <= 48.00', 'Workclass_Self-emp-not-inc'})\n",
      "id: 58 coverage: 1 Arg 1/16: frozenset({'Age_Age <= 28.00', 'Workclass_State-gov'})\n",
      "id: 59 coverage: 1 Arg 1/15: frozenset({'Marital Status_Married-civ-spouse', 'Occupation_Tech-support'})\n",
      "id: 60 coverage: 1 Arg 1/7: frozenset({'Hours per week_Hours per week > 45.00', 'Age_28.00 < Age <= 37.00', 'Occupation_Prof-specialty'})\n",
      "id: 61 coverage: 1 Arg 1/20: frozenset({'Relationship_Not-in-family', 'Education_HS-grad', 'Workclass_Private'})\n",
      "id: 62 coverage: 1 Arg 1/10: frozenset({'Education_HS-grad', 'Age_28.00 < Age <= 37.00', 'Workclass_Private', 'Sex_Male'})\n",
      "id: 63 coverage: 1 Arg 1/7: frozenset({'Occupation_Exec-managerial', 'Workclass_Self-emp-not-inc'})\n",
      "id: 64 coverage: 1 Arg 1/11: frozenset({'Marital Status_Never-married', 'Workclass_Private'})\n",
      "id: 65 coverage: 1 Arg 1/8: frozenset({'Relationship_Wife', 'Occupation_Adm-clerical'})\n",
      "id: 66 coverage: 1 Arg 1/18: frozenset({'Capital Loss_0', 'Hours per week_Hours per week <= 40.00', 'Workclass_Local-gov', 'Capital Gain_0'})\n",
      "id: 67 coverage: 1 Arg 1/12: frozenset({'Marital Status_Married-civ-spouse', 'Occupation_Tech-support'})\n",
      "id: 68 coverage: 1 Arg 1/14: frozenset({'Relationship_Not-in-family', 'Age_Age <= 28.00'})\n",
      "id: 69 coverage: 1 Arg 1/16: frozenset({'Age_Age > 48.00', 'Occupation_Machine-op-inspct'})\n",
      "id: 70 coverage: 1 Arg 1/8: frozenset({'Age_Age > 48.00', 'Marital Status_Married-civ-spouse', 'Workclass_Private'})\n",
      "id: 71 coverage: 1 Arg 1/16: frozenset({'Relationship_Unmarried'})\n",
      "id: 72 coverage: 1 Arg 1/13: frozenset({'Age_Age > 48.00', 'Race_White', 'Education_Bachelors'})\n",
      "id: 73 coverage: 1 Arg 1/26: frozenset({'Education_Bachelors', 'Workclass_Local-gov', 'Marital Status_Divorced'})\n",
      "id: 74 coverage: 1 Arg 1/13: frozenset({'Occupation_Handlers-cleaners', 'Workclass_Private'})\n",
      "id: 75 coverage: 1 Arg 1/11: frozenset({'Relationship_Husband', 'Country_United-States', 'Education_Some-college'})\n",
      "id: 76 coverage: 1 Arg 1/7: frozenset({'Occupation_Exec-managerial', 'Relationship_Not-in-family'})\n",
      "id: 77 coverage: 1 Arg 1/3: frozenset({'Age_37.00 < Age <= 48.00', 'Education_HS-grad'})\n",
      "id: 78 coverage: 1 Arg 1/17: frozenset({'Race_Black', 'Sex_Male'})\n",
      "id: 79 coverage: 1 Arg 1/16: frozenset({'Sex_Female', 'Relationship_Not-in-family', 'Country_United-States', 'Hours per week_Hours per week <= 40.00'})\n",
      "0 80\n"
     ]
    }
   ],
   "source": [
    "explainer.set_strategy('max_covc', 'existence')\n",
    "## Define strategy before calling explainer.explain()\n",
    "explainer.display_explanations()"
   ]
  },
  {
   "cell_type": "code",
   "execution_count": null,
   "metadata": {},
   "outputs": [
    {
     "name": "stdout",
     "output_type": "stream",
     "text": [
      "0.40616693248272195\n",
      "Number of extensions: 521076\n",
      "len(max_cov_exts)= 521074 / 521076\n",
      "Covc strategy's coverage: 2\n",
      "Top 5 covs: [2, 2, 2, 2, 2]\n",
      "id: 0 coverage: 0 Arg 1/0: None\n",
      "id: 1 coverage: 0 Arg 1/0: None\n",
      "id: 2 coverage: 0 Arg 1/0: None\n",
      "id: 3 coverage: 0 Arg 1/0: None\n",
      "id: 4 coverage: 0 Arg 1/0: None\n",
      "id: 5 coverage: 0 Arg 1/0: None\n",
      "id: 6 coverage: 0 Arg 1/0: None\n",
      "id: 7 coverage: 0 Arg 1/0: None\n",
      "id: 8 coverage: 0 Arg 1/0: None\n",
      "id: 9 coverage: 0 Arg 1/0: None\n",
      "id: 10 coverage: 0 Arg 1/0: None\n",
      "id: 11 coverage: 0 Arg 1/0: None\n",
      "id: 12 coverage: 0 Arg 1/0: None\n",
      "id: 13 coverage: 0 Arg 1/0: None\n",
      "id: 14 coverage: 0 Arg 1/0: None\n",
      "id: 15 coverage: 0 Arg 1/0: None\n",
      "id: 16 coverage: 0 Arg 1/0: None\n",
      "id: 17 coverage: 0 Arg 1/0: None\n",
      "id: 18 coverage: 0 Arg 1/0: None\n",
      "id: 19 coverage: 0 Arg 1/0: None\n",
      "id: 20 coverage: 0 Arg 1/0: None\n",
      "id: 21 coverage: 0 Arg 1/0: None\n",
      "id: 22 coverage: 0 Arg 1/0: None\n",
      "id: 23 coverage: 0 Arg 1/0: None\n",
      "id: 24 coverage: 0 Arg 1/0: None\n",
      "id: 25 coverage: 0 Arg 1/0: None\n",
      "id: 26 coverage: 0 Arg 1/0: None\n",
      "id: 27 coverage: 0 Arg 1/0: None\n",
      "id: 28 coverage: 0 Arg 1/0: None\n",
      "id: 29 coverage: 0 Arg 1/0: None\n",
      "id: 30 coverage: 0 Arg 1/0: None\n",
      "id: 31 coverage: 0 Arg 1/0: None\n",
      "id: 32 coverage: 0 Arg 1/0: None\n",
      "id: 33 coverage: 0 Arg 1/0: None\n",
      "id: 34 coverage: 0 Arg 1/0: None\n",
      "id: 35 coverage: 0 Arg 1/0: None\n",
      "id: 36 coverage: 0 Arg 1/0: None\n",
      "id: 37 coverage: 0 Arg 1/0: None\n",
      "id: 38 coverage: 0 Arg 1/0: None\n",
      "id: 39 coverage: 0 Arg 1/0: None\n",
      "id: 40 coverage: 0 Arg 1/0: None\n",
      "id: 41 coverage: 0 Arg 1/0: None\n",
      "id: 42 coverage: 0 Arg 1/0: None\n",
      "id: 43 coverage: 0 Arg 1/0: None\n",
      "id: 44 coverage: 0 Arg 1/0: None\n",
      "id: 45 coverage: 0 Arg 1/0: None\n",
      "id: 46 coverage: 0 Arg 1/0: None\n",
      "id: 47 coverage: 0 Arg 1/0: None\n",
      "id: 48 coverage: 0 Arg 1/0: None\n",
      "id: 49 coverage: 0 Arg 1/0: None\n",
      "id: 50 coverage: 0 Arg 1/0: None\n",
      "id: 51 coverage: 0 Arg 1/0: None\n",
      "id: 52 coverage: 0 Arg 1/0: None\n",
      "id: 53 coverage: 0 Arg 1/0: None\n",
      "id: 54 coverage: 0 Arg 1/0: None\n",
      "id: 55 coverage: 0 Arg 1/0: None\n",
      "id: 56 coverage: 0 Arg 1/0: None\n",
      "id: 57 coverage: 0 Arg 1/0: None\n",
      "id: 58 coverage: 0 Arg 1/0: None\n",
      "id: 59 coverage: 0 Arg 1/0: None\n",
      "id: 60 coverage: 0 Arg 1/0: None\n",
      "id: 61 coverage: 0 Arg 1/0: None\n",
      "id: 62 coverage: 0 Arg 1/0: None\n",
      "id: 63 coverage: 0 Arg 1/0: None\n",
      "id: 64 coverage: 0 Arg 1/0: None\n",
      "id: 65 coverage: 0 Arg 1/0: None\n",
      "id: 66 coverage: 0 Arg 1/0: None\n",
      "id: 67 coverage: 0 Arg 1/0: None\n",
      "id: 68 coverage: 0 Arg 1/0: None\n",
      "id: 69 coverage: 0 Arg 1/0: None\n",
      "id: 70 coverage: 0 Arg 1/0: None\n",
      "id: 71 coverage: 0 Arg 1/0: None\n",
      "id: 72 coverage: 0 Arg 1/0: None\n",
      "id: 73 coverage: 0 Arg 1/0: None\n",
      "id: 74 coverage: 0 Arg 1/0: None\n",
      "id: 75 coverage: 0 Arg 1/0: None\n",
      "id: 76 coverage: 0 Arg 1/0: None\n",
      "id: 77 coverage: 0 Arg 1/0: None\n",
      "id: 78 coverage: 0 Arg 1/0: None\n",
      "id: 79 coverage: 0 Arg 1/0: None\n",
      "80 80\n"
     ]
    }
   ],
   "source": [
    "explainer.set_strategy('max_covc', 'universal')\n",
    "## Define strategy before calling explainer.explain()\n",
    "explainer.display_explanations()"
   ]
  },
  {
   "cell_type": "code",
   "execution_count": null,
   "metadata": {},
   "outputs": [
    {
     "name": "stdout",
     "output_type": "stream",
     "text": [
      "0.40616693248272195\n",
      "Number of extensions: 521076\n",
      "len(max_cov_exts)= 12 / 521076\n",
      "Covi strategy's coverage: 60\n",
      "Top 5 covs: [58, 58, 58, 58, 58]\n",
      "id: 0 coverage: 0 Arg 1/0: None\n",
      "id: 1 coverage: 5 Arg 1/4: frozenset({'Relationship_Not-in-family', 'Occupation_Exec-managerial'})\n",
      "id: 2 coverage: 0 Arg 1/0: None\n",
      "id: 3 coverage: 3 Arg 1/1: frozenset({'Occupation_Machine-op-inspct', 'Age_28.00 < Age <= 37.00'})\n",
      "id: 4 coverage: 0 Arg 1/0: None\n",
      "id: 5 coverage: 2 Arg 1/1: frozenset({'Occupation_Farming-fishing', 'Age_28.00 < Age <= 37.00'})\n",
      "id: 6 coverage: 2 Arg 1/1: frozenset({'Sex_Female', 'Occupation_Protective-serv'})\n",
      "id: 7 coverage: 3 Arg 1/1: frozenset({'Occupation_Sales', 'Education_Bachelors'})\n",
      "id: 8 coverage: 2 Arg 1/1: frozenset({'Occupation_?', 'Sex_Male'})\n",
      "id: 9 coverage: 3 Arg 1/2: frozenset({'Occupation_Prof-specialty', 'Education_Bachelors', 'Workclass_Private'})\n",
      "id: 10 coverage: 4 Arg 1/1: frozenset({'Occupation_Protective-serv', 'Sex_Male'})\n",
      "id: 11 coverage: 1 Arg 1/1: frozenset({'Age_28.00 < Age <= 37.00', 'Occupation_Transport-moving'})\n",
      "id: 12 coverage: 2 Arg 1/1: frozenset({'Sex_Female', 'Marital Status_Married-civ-spouse', 'Occupation_?'})\n",
      "id: 13 coverage: 1 Arg 1/1: frozenset({'Occupation_Craft-repair', 'Age_Age <= 28.00'})\n",
      "id: 14 coverage: 4 Arg 1/1: frozenset({'Age_Age > 48.00', 'Occupation_Prof-specialty', 'Marital Status_Married-civ-spouse'})\n",
      "id: 15 coverage: 3 Arg 1/1: frozenset({'Occupation_Sales', 'Education_Bachelors'})\n",
      "id: 16 coverage: 2 Arg 1/1: frozenset({'Occupation_Farming-fishing', 'Age_28.00 < Age <= 37.00'})\n",
      "id: 17 coverage: 0 Arg 1/0: None\n",
      "id: 18 coverage: 3 Arg 1/1: frozenset({'Occupation_Sales', 'Marital Status_Married-civ-spouse', 'Education_HS-grad'})\n",
      "id: 19 coverage: 0 Arg 1/0: None\n",
      "id: 20 coverage: 2 Arg 1/1: frozenset({'Occupation_?', 'Sex_Male'})\n",
      "id: 21 coverage: 6 Arg 1/4: frozenset({'Age_Age > 48.00', 'Occupation_Prof-specialty', 'Workclass_Private'})\n",
      "id: 22 coverage: 0 Arg 1/0: None\n",
      "id: 23 coverage: 0 Arg 1/0: None\n",
      "id: 24 coverage: 3 Arg 1/1: frozenset({'Occupation_Machine-op-inspct', 'Age_28.00 < Age <= 37.00'})\n",
      "id: 25 coverage: 9 Arg 1/3: frozenset({'Occupation_Exec-managerial', 'Relationship_Husband'})\n",
      "id: 26 coverage: 4 Arg 1/1: frozenset({'Age_Age > 48.00', 'Occupation_Prof-specialty', 'Marital Status_Married-civ-spouse'})\n",
      "id: 27 coverage: 4 Arg 1/1: frozenset({'Occupation_Protective-serv', 'Sex_Male'})\n",
      "id: 28 coverage: 1 Arg 1/1: frozenset({'Occupation_Prof-specialty', 'Age_37.00 < Age <= 48.00', 'Workclass_Local-gov'})\n",
      "id: 29 coverage: 3 Arg 1/1: frozenset({'Occupation_Machine-op-inspct', 'Age_28.00 < Age <= 37.00'})\n",
      "id: 30 coverage: 1 Arg 1/1: frozenset({'Occupation_Prof-specialty', 'Age_Age <= 28.00', 'Workclass_Private'})\n",
      "id: 31 coverage: 0 Arg 1/0: None\n",
      "id: 32 coverage: 3 Arg 1/1: frozenset({'Occupation_Sales', 'Marital Status_Married-civ-spouse', 'Education_HS-grad'})\n",
      "id: 33 coverage: 0 Arg 1/0: None\n",
      "id: 34 coverage: 1 Arg 1/1: frozenset({'Occupation_Farming-fishing', 'Age_Age > 48.00'})\n",
      "id: 35 coverage: 0 Arg 1/0: None\n",
      "id: 36 coverage: 0 Arg 1/0: None\n",
      "id: 37 coverage: 0 Arg 1/0: None\n",
      "id: 38 coverage: 3 Arg 1/1: frozenset({'Occupation_Sales', 'Education_Bachelors'})\n",
      "id: 39 coverage: 4 Arg 1/1: frozenset({'Age_Age > 48.00', 'Occupation_Prof-specialty', 'Marital Status_Married-civ-spouse'})\n",
      "id: 40 coverage: 9 Arg 1/5: frozenset({'Occupation_Exec-managerial', 'Relationship_Husband'})\n",
      "id: 41 coverage: 0 Arg 1/0: None\n",
      "id: 42 coverage: 8 Arg 1/5: frozenset({'Occupation_Exec-managerial', 'Relationship_Husband'})\n",
      "id: 43 coverage: 2 Arg 1/1: frozenset({'Sex_Female', 'Marital Status_Married-civ-spouse', 'Occupation_?'})\n",
      "id: 44 coverage: 0 Arg 1/0: None\n",
      "id: 45 coverage: 4 Arg 1/1: frozenset({'Occupation_Protective-serv', 'Sex_Male'})\n",
      "id: 46 coverage: 2 Arg 1/1: frozenset({'Sex_Female', 'Occupation_Protective-serv'})\n",
      "id: 47 coverage: 2 Arg 1/1: frozenset({'Occupation_Craft-repair', 'Age_28.00 < Age <= 37.00'})\n",
      "id: 48 coverage: 0 Arg 1/0: None\n",
      "id: 49 coverage: 0 Arg 1/0: None\n",
      "id: 50 coverage: 0 Arg 1/0: None\n",
      "id: 51 coverage: 8 Arg 1/4: frozenset({'Occupation_Exec-managerial', 'Country_Mexico'})\n",
      "id: 52 coverage: 0 Arg 1/0: None\n",
      "id: 53 coverage: 3 Arg 1/1: frozenset({'Hours per week_Hours per week <= 40.00', 'Occupation_Prof-specialty', 'Workclass_Private'})\n",
      "id: 54 coverage: 0 Arg 1/0: None\n",
      "id: 55 coverage: 3 Arg 1/1: frozenset({'Occupation_Sales', 'Marital Status_Married-civ-spouse', 'Education_HS-grad'})\n",
      "id: 56 coverage: 7 Arg 1/4: frozenset({'Occupation_Exec-managerial', 'Relationship_Wife'})\n",
      "id: 57 coverage: 0 Arg 1/0: None\n",
      "id: 58 coverage: 0 Arg 1/0: None\n",
      "id: 59 coverage: 0 Arg 1/0: None\n",
      "id: 60 coverage: 0 Arg 1/0: None\n",
      "id: 61 coverage: 0 Arg 1/0: None\n",
      "id: 62 coverage: 2 Arg 1/1: frozenset({'Occupation_Craft-repair', 'Age_28.00 < Age <= 37.00'})\n",
      "id: 63 coverage: 7 Arg 1/4: frozenset({'Occupation_Exec-managerial', 'Workclass_Self-emp-not-inc'})\n",
      "id: 64 coverage: 0 Arg 1/0: None\n",
      "id: 65 coverage: 0 Arg 1/0: None\n",
      "id: 66 coverage: 1 Arg 1/1: frozenset({'Occupation_Prof-specialty', 'Age_Age <= 28.00', 'Workclass_Local-gov'})\n",
      "id: 67 coverage: 0 Arg 1/0: None\n",
      "id: 68 coverage: 0 Arg 1/0: None\n",
      "id: 69 coverage: 0 Arg 1/0: None\n",
      "id: 70 coverage: 7 Arg 1/3: frozenset({'Occupation_Exec-managerial', 'Relationship_Husband'})\n",
      "id: 71 coverage: 0 Arg 1/0: None\n",
      "id: 72 coverage: 8 Arg 1/4: frozenset({'Occupation_Exec-managerial', 'Relationship_Husband'})\n",
      "id: 73 coverage: 0 Arg 1/0: None\n",
      "id: 74 coverage: 0 Arg 1/0: None\n",
      "id: 75 coverage: 0 Arg 1/0: None\n",
      "id: 76 coverage: 2 Arg 1/2: frozenset({'Relationship_Not-in-family', 'Occupation_Exec-managerial'})\n",
      "id: 77 coverage: 1 Arg 1/1: frozenset({'Occupation_Craft-repair', 'Age_37.00 < Age <= 48.00'})\n",
      "id: 78 coverage: 4 Arg 1/1: frozenset({'Occupation_Protective-serv', 'Sex_Male'})\n",
      "id: 79 coverage: 0 Arg 1/0: None\n",
      "34 80\n"
     ]
    }
   ],
   "source": [
    "explainer.set_strategy('max_covi', 'universal')\n",
    "## Define strategy before calling explainer.explain()\n",
    "explainer.display_explanations()"
   ]
  },
  {
   "cell_type": "code",
   "execution_count": null,
   "metadata": {},
   "outputs": [
    {
     "name": "stdout",
     "output_type": "stream",
     "text": [
      "Anchor\n",
      "['Age > 48.00', 'Self-emp-not-inc', 'Some-college', 'Married-civ-spouse', 'Sales', 'Husband', 'White', 'Male', '2', '0', '40.00 < Hours per week <= 45.00', 'United-States']\n",
      "Prediction:  b'>50K'\n",
      "Anchor: Capital Gain = 2\n",
      "Precision: 1.00\n",
      "Coverage: 0.07\n",
      "Arg: 0\n",
      "id: 0 coverage: 10 Args5/5: {frozenset({'Occupation_Sales', 'Age_Age > 48.00'}), frozenset({'Workclass_Self-emp-not-inc', 'Age_Age > 48.00'}), frozenset({'Workclass_Self-emp-not-inc', 'Occupation_Sales'}), frozenset({'Education_Some-college', 'Workclass_Self-emp-not-inc'}), frozenset({'Education_Some-college', 'Occupation_Sales', 'Country_United-States'})}\n",
      "None\n"
     ]
    }
   ],
   "source": [
    "anchor_explainer = anchor_tabular.AnchorTabularExplainer(\n",
    "    dataset.class_names,\n",
    "    dataset.feature_names,\n",
    "    dataset.train,\n",
    "    dataset.categorical_names)\n",
    "idx = 0\n",
    "np.random.seed(1)\n",
    "instance = dataset.train[idx].reshape(1, -1)[0]\n",
    "print(\"Anchor\")\n",
    "print([dataset.categorical_names[i][int(r_)] for i, r_ in enumerate(instance)])\n",
    "\n",
    "print('Prediction: ', anchor_explainer.class_names[c.predict(dataset.train[0].reshape(1, -1))[0]])\n",
    "exp = anchor_explainer.explain_instance(dataset.train[idx], c.predict, threshold=0.95)\n",
    "print('Anchor: %s' % (' AND '.join(exp.names())))\n",
    "print('Precision: %.2f' % exp.precision())\n",
    "print('Coverage: %.2f' % exp.coverage())\n",
    "\n",
    "print(\"Arg:\", idx)\n",
    "print(explainer.explain_instance(idx))"
   ]
  }
 ],
 "metadata": {
  "kernelspec": {
   "display_name": "Python 3",
   "language": "python",
   "name": "python3"
  },
  "language_info": {
   "codemirror_mode": {
    "name": "ipython",
    "version": 3
   },
   "file_extension": ".py",
   "mimetype": "text/x-python",
   "name": "python",
   "nbconvert_exporter": "python",
   "pygments_lexer": "ipython3",
   "version": "3.8.5"
  },
  "vscode": {
   "interpreter": {
    "hash": "34f4a23e072925201d1edce259708610e2f98260d5449b97ac01b140140f4b0a"
   }
  }
 },
 "nbformat": 4,
 "nbformat_minor": 2
}
