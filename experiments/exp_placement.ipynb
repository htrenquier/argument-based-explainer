{
 "cells": [
  {
   "cell_type": "code",
   "execution_count": 1,
   "metadata": {},
   "outputs": [],
   "source": [
    "from anchor import utils\n",
    "from anchor import anchor_tabular\n",
    "import pandas as pd\n",
    "import sklearn.ensemble\n",
    "import numpy as np\n",
    "from anchor import anchor_tabular\n",
    "import os"
   ]
  },
  {
   "cell_type": "code",
   "execution_count": 23,
   "metadata": {},
   "outputs": [
    {
     "name": "stdout",
     "output_type": "stream",
     "text": [
      "[0. 2. 0. 2. 0. 1. 1. 0. 0. 0. 0.]\n",
      "(19, 11)\n",
      "(19,)\n"
     ]
    }
   ],
   "source": [
    "dataset_folder = '../../datasets/placement/'\n",
    "target_idx = 12\n",
    "balance = True\n",
    "features_to_use = [1, 2, 3, 4, 5, 6, 7, 8, 9, 10, 11]\n",
    "categorical_features = [1, 3, 5, 6, 8, 9, 11]\n",
    "feature_names = ['sl_no', 'gender','ssc_p','ssc_b','hsc_p','hsc_b','hsc_s','degree_p','degree_t','workex','etest_p','specialisation','mba_p','status','salary']\n",
    "dataset = utils.load_csv_dataset(\n",
    "            os.path.join(dataset_folder, 'Placement_Data_Full_Class.csv'), target_idx, ',',\n",
    "            feature_names=feature_names, features_to_use=features_to_use, \n",
    "            discretize=True, balance=balance, skip_first=True)\n",
    "            \n",
    "print(dataset.train[2])\n",
    "print(dataset.test.shape)\n",
    "print(dataset.labels_test.shape)"
   ]
  },
  {
   "cell_type": "code",
   "execution_count": 24,
   "metadata": {},
   "outputs": [
    {
     "name": "stdout",
     "output_type": "stream",
     "text": [
      "[1 0 1 1 0 1 1 0 0 0 0 0 1 0 1 0 0 1 1]\n",
      "[1 0 1 1 0 1 1 0 0 0 0 0 1 0 1 0 0 1 1]\n",
      "Train 1.0\n",
      "Test 1.0\n"
     ]
    }
   ],
   "source": [
    "c = sklearn.ensemble.RandomForestClassifier(n_estimators=50, n_jobs=5)\n",
    "c.fit(dataset.train, dataset.labels_train)\n",
    "#print(np.unique(dataset.labels_train))\n",
    "print(c.predict(dataset.test))\n",
    "print(dataset.labels_test)\n",
    "print('Train', sklearn.metrics.accuracy_score(dataset.labels_train, c.predict(dataset.train)))\n",
    "print('Test', sklearn.metrics.accuracy_score(dataset.labels_test, c.predict(dataset.test)))"
   ]
  },
  {
   "cell_type": "code",
   "execution_count": 31,
   "metadata": {},
   "outputs": [
    {
     "name": "stdout",
     "output_type": "stream",
     "text": [
      "['1', '99.00 < Glucose <= 117.00', 'BloodPressure <= 62.00', '0.00 < SkinThickness <= 23.00', '30.50 < Insulin <= 127.25', 'BMI <= 27.30', '0.37 < DiabetesPedigreeFunction <= 0.63', '24.00 < Age <= 29.00']\n",
      "(428, 8)\n",
      "[1. 1. 0. 1. 2. 0. 2. 1.]\n",
      "[[1. 1. 0. 1. 2. 0. 2. 1.]]\n"
     ]
    }
   ],
   "source": [
    "transformed_data = []\n",
    "\n",
    "for r in dataset.train:\n",
    "    transformed_data.append([dataset.categorical_names[i][int(r_)] for i, r_ in enumerate(r)])        \n",
    "\n",
    "print(transformed_data[0])\n",
    "\n",
    "train_data = pd.DataFrame(transformed_data, columns=dataset.feature_names)\n",
    "print(train_data.shape)\n",
    "nb_vals = 100\n",
    "\n",
    "print(dataset.train[0])\n",
    "print(dataset.train[0].reshape(1, -1))\n",
    "y=[]\n",
    "for k in range(0, nb_vals):\n",
    "    y.append(c.predict(dataset.train[k].reshape(1, -1))[0])\n"
   ]
  },
  {
   "cell_type": "code",
   "execution_count": 32,
   "metadata": {},
   "outputs": [
    {
     "name": "stdout",
     "output_type": "stream",
     "text": [
      "['Pregnancies', 'Glucose', 'BloodPressure', 'SkinThickness', 'Insulin', 'BMI', 'DiabetesPedigreeFunction', 'Age']\n",
      "Generating arguments\n",
      "800  potential arg checked.\n",
      "len  1 : 3 ,  4\n",
      "2800  potential arg checked.\n",
      "len  2 : 97 ,  56\n",
      "5600  potential arg checked.\n",
      "len  3 : 291 ,  414\n",
      "7000  potential arg checked.\n",
      "len  4 : 35 ,  29\n",
      "5600  potential arg checked.\n",
      "len  5 : 0 ,  0\n",
      "2800  potential arg checked.\n",
      "len  6 : 0 ,  0\n",
      "800  potential arg checked.\n",
      "len  7 : 0 ,  0\n",
      "100  potential arg checked.\n",
      "len  8 : 0 ,  0\n",
      "Saving to  ../saves\\diabetes_100_minimals.df\n"
     ]
    }
   ],
   "source": [
    "import sys\n",
    "sys.path.append(sys.path[0] + '/..')\n",
    "\n",
    "import arg_explainer as ae\n",
    "from importlib import reload\n",
    "reload(ae)\n",
    "import arg_explainer as ae\n",
    "\n",
    "print(dataset.feature_names)\n",
    "explainer = ae.ArgTabularExplainer(c, train_data.iloc[0:nb_vals], y, 'diabetes_' + str(nb_vals), compute=True, output_path='../saves')"
   ]
  },
  {
   "cell_type": "code",
   "execution_count": 6,
   "metadata": {},
   "outputs": [
    {
     "name": "stdout",
     "output_type": "stream",
     "text": [
      "426 503  args total\n",
      "diabetes_100\n",
      "len(R_atk) =  160946\n",
      "5 highest degrees: [(frozenset({33, 6}), 457) (frozenset({27, 14}), 461)\n",
      " (frozenset({33, 22}), 463) (frozenset({28, 22}), 464)\n",
      " (frozenset({26}), 473)]\n",
      "5 lowest degrees: [(frozenset({1, 18, 17}), 217) (frozenset({1, 34, 17}), 230)\n",
      " (frozenset({1, 21, 25}), 240) (frozenset({8, 19, 14}), 240)\n",
      " (frozenset({10, 19, 15}), 243)]\n",
      "edges per node: 346.49300322927877\n"
     ]
    }
   ],
   "source": [
    "G = explainer.build_attack_graph(compute=True, display_graph=False)\n",
    "print('edges per node:', np.mean([len(G.edges(n)) for n in G.nodes()]))\n",
    "\n",
    "explainer.export_graph('asp', '../saves')"
   ]
  },
  {
   "cell_type": "code",
   "execution_count": 33,
   "metadata": {},
   "outputs": [
    {
     "name": "stdout",
     "output_type": "stream",
     "text": [
      "Working with NetworkX to find naive extensions:\n",
      "Graph density =  0.3733760810660332\n"
     ]
    },
    {
     "ename": "KeyboardInterrupt",
     "evalue": "",
     "output_type": "error",
     "traceback": [
      "\u001b[1;31m---------------------------------------------------------------------------\u001b[0m",
      "\u001b[1;31mKeyboardInterrupt\u001b[0m                         Traceback (most recent call last)",
      "\u001b[1;32mc:\\Users\\henro\\ws\\argumentation\\argument-based-explainer\\experiments\\exp_diabetes.ipynb Cellule 7\u001b[0m in \u001b[0;36m<cell line: 1>\u001b[1;34m()\u001b[0m\n\u001b[1;32m----> <a href='vscode-notebook-cell:/c%3A/Users/henro/ws/argumentation/argument-based-explainer/experiments/exp_diabetes.ipynb#W6sZmlsZQ%3D%3D?line=0'>1</a>\u001b[0m ext_gen \u001b[39m=\u001b[39m explainer\u001b[39m.\u001b[39;49mextension_generator_from_graph()\n\u001b[0;32m      <a href='vscode-notebook-cell:/c%3A/Users/henro/ws/argumentation/argument-based-explainer/experiments/exp_diabetes.ipynb#W6sZmlsZQ%3D%3D?line=1'>2</a>\u001b[0m \u001b[39m#ext_gen = explainer.extension_generator_from_sat(file='../saves/lending_100_sat.txt')\u001b[39;00m\n\u001b[0;32m      <a href='vscode-notebook-cell:/c%3A/Users/henro/ws/argumentation/argument-based-explainer/experiments/exp_diabetes.ipynb#W6sZmlsZQ%3D%3D?line=2'>3</a>\u001b[0m max_covi_ext \u001b[39m=\u001b[39m explainer\u001b[39m.\u001b[39mmake_selection(\u001b[39m'\u001b[39m\u001b[39mmax_covi\u001b[39m\u001b[39m'\u001b[39m, ext_gen)\n",
      "File \u001b[1;32mc:\\Users\\henro\\ws\\argumentation\\argument-based-explainer\\experiments/..\\arg_explainer.py:314\u001b[0m, in \u001b[0;36mArgTabularExplainer.extension_generator_from_graph\u001b[1;34m(self)\u001b[0m\n\u001b[0;32m    312\u001b[0m \u001b[39mprint\u001b[39m(\u001b[39m\"\u001b[39m\u001b[39mWorking with NetworkX to find naive extensions:\u001b[39m\u001b[39m\"\u001b[39m)\n\u001b[0;32m    313\u001b[0m \u001b[39mprint\u001b[39m(\u001b[39m\"\u001b[39m\u001b[39mGraph density = \u001b[39m\u001b[39m\"\u001b[39m, nx\u001b[39m.\u001b[39mdensity(\u001b[39mself\u001b[39m\u001b[39m.\u001b[39mG))\n\u001b[1;32m--> 314\u001b[0m \u001b[39mprint\u001b[39m(\u001b[39m'\u001b[39m\u001b[39mNumber of extensions: \u001b[39m\u001b[39m'\u001b[39m, nx\u001b[39m.\u001b[39;49mgraph_number_of_cliques(nx\u001b[39m.\u001b[39;49mcomplement(\u001b[39mself\u001b[39;49m\u001b[39m.\u001b[39;49mG)))\n\u001b[0;32m    315\u001b[0m \u001b[39mreturn\u001b[39;00m nx\u001b[39m.\u001b[39mfind_cliques(nx\u001b[39m.\u001b[39mcomplement(\u001b[39mself\u001b[39m\u001b[39m.\u001b[39mG))\n",
      "File \u001b[1;32mc:\\Users\\henro\\anaconda3\\envs\\argenv\\lib\\site-packages\\networkx\\algorithms\\clique.py:511\u001b[0m, in \u001b[0;36mgraph_number_of_cliques\u001b[1;34m(G, cliques)\u001b[0m\n\u001b[0;32m    486\u001b[0m \u001b[39m\"\"\"Returns the number of maximal cliques in the graph.\u001b[39;00m\n\u001b[0;32m    487\u001b[0m \n\u001b[0;32m    488\u001b[0m \u001b[39mParameters\u001b[39;00m\n\u001b[1;32m   (...)\u001b[0m\n\u001b[0;32m    508\u001b[0m \n\u001b[0;32m    509\u001b[0m \u001b[39m\"\"\"\u001b[39;00m\n\u001b[0;32m    510\u001b[0m \u001b[39mif\u001b[39;00m cliques \u001b[39mis\u001b[39;00m \u001b[39mNone\u001b[39;00m:\n\u001b[1;32m--> 511\u001b[0m     cliques \u001b[39m=\u001b[39m \u001b[39mlist\u001b[39;49m(find_cliques(G))\n\u001b[0;32m    512\u001b[0m \u001b[39mreturn\u001b[39;00m \u001b[39mlen\u001b[39m(cliques)\n",
      "File \u001b[1;32mc:\\Users\\henro\\anaconda3\\envs\\argenv\\lib\\site-packages\\networkx\\utils\\decorators.py:811\u001b[0m, in \u001b[0;36margmap.__call__.<locals>.func\u001b[1;34m(_argmap__wrapper, *args, **kwargs)\u001b[0m\n\u001b[0;32m    810\u001b[0m \u001b[39mdef\u001b[39;00m \u001b[39mfunc\u001b[39m(\u001b[39m*\u001b[39margs, __wrapper\u001b[39m=\u001b[39m\u001b[39mNone\u001b[39;00m, \u001b[39m*\u001b[39m\u001b[39m*\u001b[39mkwargs):\n\u001b[1;32m--> 811\u001b[0m     \u001b[39myield from\u001b[39;00m argmap\u001b[39m.\u001b[39m_lazy_compile(__wrapper)(\u001b[39m*\u001b[39margs, \u001b[39m*\u001b[39m\u001b[39m*\u001b[39mkwargs)\n",
      "File \u001b[1;32m<class 'networkx.utils.decorators.argmap'> compilation 4:4\u001b[0m, in \u001b[0;36margmap_find_cliques_1\u001b[1;34m(G, nodes)\u001b[0m\n\u001b[0;32m      2\u001b[0m \u001b[39mfrom\u001b[39;00m \u001b[39mos\u001b[39;00m\u001b[39m.\u001b[39;00m\u001b[39mpath\u001b[39;00m \u001b[39mimport\u001b[39;00m splitext\n\u001b[0;32m      3\u001b[0m \u001b[39mfrom\u001b[39;00m \u001b[39mcontextlib\u001b[39;00m \u001b[39mimport\u001b[39;00m contextmanager\n\u001b[1;32m----> 4\u001b[0m \u001b[39mfrom\u001b[39;00m \u001b[39mpathlib\u001b[39;00m \u001b[39mimport\u001b[39;00m Path\n\u001b[0;32m      6\u001b[0m \u001b[39mimport\u001b[39;00m \u001b[39mnetworkx\u001b[39;00m \u001b[39mas\u001b[39;00m \u001b[39mnx\u001b[39;00m\n\u001b[0;32m      7\u001b[0m \u001b[39mfrom\u001b[39;00m \u001b[39mnetworkx\u001b[39;00m\u001b[39m.\u001b[39;00m\u001b[39mutils\u001b[39;00m \u001b[39mimport\u001b[39;00m create_random_state, create_py_random_state\n",
      "File \u001b[1;32mc:\\Users\\henro\\anaconda3\\envs\\argenv\\lib\\site-packages\\networkx\\algorithms\\clique.py:229\u001b[0m, in \u001b[0;36mfind_cliques\u001b[1;34m(G, nodes)\u001b[0m\n\u001b[0;32m    227\u001b[0m             subg \u001b[39m=\u001b[39m subg_q\n\u001b[0;32m    228\u001b[0m             cand \u001b[39m=\u001b[39m cand_q\n\u001b[1;32m--> 229\u001b[0m             u \u001b[39m=\u001b[39m \u001b[39mmax\u001b[39;49m(subg, key\u001b[39m=\u001b[39;49m\u001b[39mlambda\u001b[39;49;00m u: \u001b[39mlen\u001b[39;49m(cand \u001b[39m&\u001b[39;49m adj[u]))\n\u001b[0;32m    230\u001b[0m             ext_u \u001b[39m=\u001b[39m cand \u001b[39m-\u001b[39m adj[u]\n\u001b[0;32m    231\u001b[0m \u001b[39melse\u001b[39;00m:\n",
      "File \u001b[1;32mc:\\Users\\henro\\anaconda3\\envs\\argenv\\lib\\site-packages\\networkx\\algorithms\\clique.py:229\u001b[0m, in \u001b[0;36mfind_cliques.<locals>.<lambda>\u001b[1;34m(u)\u001b[0m\n\u001b[0;32m    227\u001b[0m             subg \u001b[39m=\u001b[39m subg_q\n\u001b[0;32m    228\u001b[0m             cand \u001b[39m=\u001b[39m cand_q\n\u001b[1;32m--> 229\u001b[0m             u \u001b[39m=\u001b[39m \u001b[39mmax\u001b[39m(subg, key\u001b[39m=\u001b[39m\u001b[39mlambda\u001b[39;00m u: \u001b[39mlen\u001b[39;49m(cand \u001b[39m&\u001b[39;49m adj[u]))\n\u001b[0;32m    230\u001b[0m             ext_u \u001b[39m=\u001b[39m cand \u001b[39m-\u001b[39m adj[u]\n\u001b[0;32m    231\u001b[0m \u001b[39melse\u001b[39;00m:\n",
      "\u001b[1;31mKeyboardInterrupt\u001b[0m: "
     ]
    }
   ],
   "source": [
    "ext_gen = explainer.extension_generator_from_graph()\n",
    "#ext_gen = explainer.extension_generator_from_sat(file='../saves/diabetes_100_sat.txt')\n",
    "max_covi_ext = explainer.make_selection('max_covi', ext_gen)"
   ]
  },
  {
   "cell_type": "code",
   "execution_count": 56,
   "metadata": {},
   "outputs": [
    {
     "name": "stdout",
     "output_type": "stream",
     "text": [
      "{frozenset({33}), frozenset({23}), frozenset({32, 43}), frozenset({34}), frozenset({27}), frozenset({32, 3}), frozenset({32, 6}), frozenset({24}), frozenset({26}), frozenset({32, 14}), frozenset({28}), frozenset({29}), frozenset({30}), frozenset({32, 18}), frozenset({32, 1}), frozenset({32, 52})}\n",
      "id: 0 coverage: 2 Arg 1/2: frozenset({'Education_Some-college', 'Occupation_Sales'})\n",
      "id: 1 coverage: 0 Arg 1/0: None\n",
      "id: 2 coverage: 0 Arg 1/0: None\n",
      "id: 3 coverage: 2 Arg 1/1: frozenset({'Occupation_Machine-op-inspct'})\n",
      "id: 4 coverage: 0 Arg 1/0: None\n",
      "id: 5 coverage: 2 Arg 1/1: frozenset({'Occupation_Farming-fishing'})\n",
      "id: 6 coverage: 0 Arg 1/0: None\n",
      "id: 7 coverage: 2 Arg 1/3: frozenset({'Occupation_Sales', 'Sex_Female'})\n",
      "id: 8 coverage: 0 Arg 1/0: None\n",
      "id: 9 coverage: 3 Arg 1/1: frozenset({'Occupation_Prof-specialty'})\n",
      "id: 10 coverage: 0 Arg 1/0: None\n",
      "id: 11 coverage: 1 Arg 1/1: frozenset({'Occupation_Transport-moving'})\n",
      "id: 12 coverage: 0 Arg 1/0: None\n",
      "id: 13 coverage: 1 Arg 1/1: frozenset({'Occupation_Craft-repair'})\n",
      "id: 14 coverage: 3 Arg 1/1: frozenset({'Occupation_Prof-specialty'})\n",
      "id: 15 coverage: 2 Arg 1/2: frozenset({'Education_Bachelors', 'Occupation_Sales'})\n",
      "id: 16 coverage: 2 Arg 1/1: frozenset({'Occupation_Farming-fishing'})\n",
      "id: 17 coverage: 1 Arg 1/1: frozenset({'Occupation_Handlers-cleaners'})\n",
      "id: 18 coverage: 2 Arg 1/2: frozenset({'Hours per week_Hours per week > 45.00', 'Occupation_Sales'})\n",
      "id: 19 coverage: 1 Arg 1/1: frozenset({'Occupation_Other-service'})\n",
      "id: 20 coverage: 0 Arg 1/0: None\n",
      "id: 21 coverage: 3 Arg 1/1: frozenset({'Occupation_Prof-specialty'})\n",
      "id: 22 coverage: 1 Arg 1/1: frozenset({'Occupation_Tech-support'})\n",
      "id: 23 coverage: 1 Arg 1/1: frozenset({'Occupation_Adm-clerical'})\n",
      "id: 24 coverage: 2 Arg 1/1: frozenset({'Occupation_Machine-op-inspct'})\n",
      "8 25\n"
     ]
    }
   ],
   "source": [
    "#sel = explainer.make_selection(max_covi_ext, 'max_covc')\n",
    "res = explainer.apply_inference(max_covi_ext, 'universal')\n",
    "#print(res)\n",
    "\n",
    "explainer.display_explanations()\n"
   ]
  },
  {
   "cell_type": "markdown",
   "metadata": {},
   "source": [
    "## Sat solver: ASPARTIX"
   ]
  },
  {
   "cell_type": "code",
   "execution_count": null,
   "metadata": {},
   "outputs": [],
   "source": [
    "ext_gen = explainer.extension_generator(file='asp_test.txt')\n",
    "max_covi_ext = explainer.make_selection(ext_gen, 'max_covi')"
   ]
  },
  {
   "cell_type": "code",
   "execution_count": null,
   "metadata": {},
   "outputs": [
    {
     "name": "stdout",
     "output_type": "stream",
     "text": [
      "0.4019384124647283\n",
      "Number of extensions: 1326480\n",
      "Time spent on naive extensions: 55.99906277656555 s ( 86.23851943016052 )\n",
      "len(max_cov_exts)= 1326478 / 1326480\n",
      "Covc strategy's coverage: 2\n",
      "Top 5 covs: [2, 2, 2, 2, 2]\n",
      "id: 0 coverage: 1 Arg 1/12: frozenset({'Relationship_Husband', 'Country_United-States', 'Education_Some-college'})\n",
      "id: 1 coverage: 1 Arg 1/10: frozenset({'Marital Status_Never-married', 'Age_37.00 < Age <= 48.00'})\n",
      "id: 2 coverage: 1 Arg 1/22: frozenset({'Age_Age > 48.00', 'Occupation_Exec-managerial', 'Capital Gain_0', 'Workclass_Private'})\n",
      "id: 3 coverage: 1 Arg 1/18: frozenset({'Hours per week_Hours per week <= 40.00', 'Occupation_Machine-op-inspct'})\n",
      "id: 4 coverage: 1 Arg 1/17: frozenset({'Capital Loss_0', 'Capital Gain_0', 'Occupation_Sales', 'Hours per week_Hours per week <= 40.00', 'Relationship_Husband'})\n",
      "id: 5 coverage: 1 Arg 1/8: frozenset({'Occupation_Farming-fishing', 'Hours per week_Hours per week <= 40.00'})\n",
      "id: 6 coverage: 1 Arg 1/24: frozenset({'Education_Bachelors', 'Age_37.00 < Age <= 48.00', 'Occupation_Protective-serv'})\n",
      "id: 7 coverage: 1 Arg 1/10: frozenset({'Sex_Female', 'Education_Bachelors', 'Marital Status_Married-civ-spouse'})\n",
      "id: 8 coverage: 1 Arg 1/14: frozenset({'Marital Status_Divorced', 'Workclass_?'})\n",
      "id: 9 coverage: 1 Arg 1/7: frozenset({'Relationship_Husband', 'Education_Bachelors', 'Age_28.00 < Age <= 37.00'})\n",
      "id: 10 coverage: 1 Arg 1/13: frozenset({'Race_Black', 'Sex_Male'})\n",
      "id: 11 coverage: 1 Arg 1/5: frozenset({'Education_HS-grad', 'Occupation_Transport-moving'})\n",
      "id: 12 coverage: 1 Arg 1/12: frozenset({'Sex_Female', 'Occupation_?', 'Education_HS-grad'})\n",
      "id: 13 coverage: 1 Arg 1/9: frozenset({'Marital Status_Never-married', 'Workclass_Private'})\n",
      "id: 14 coverage: 1 Arg 1/15: frozenset({'Age_Age > 48.00', 'Sex_Female', 'Marital Status_Married-civ-spouse'})\n",
      "id: 15 coverage: 1 Arg 1/9: frozenset({'Relationship_Husband', 'Education_Bachelors', 'Age_28.00 < Age <= 37.00'})\n",
      "id: 16 coverage: 1 Arg 1/10: frozenset({'Country_United-States', 'Age_28.00 < Age <= 37.00', 'Workclass_Self-emp-not-inc'})\n",
      "id: 17 coverage: 1 Arg 1/8: frozenset({'Workclass_Local-gov', 'Occupation_Handlers-cleaners'})\n",
      "id: 18 coverage: 1 Arg 1/12: frozenset({'Age_Age > 48.00', 'Hours per week_Hours per week > 45.00', 'Sex_Male'})\n",
      "id: 19 coverage: 1 Arg 1/9: frozenset({'Marital Status_Never-married', 'Workclass_Private'})\n",
      "id: 20 coverage: 1 Arg 1/6: frozenset({'Occupation_?', 'Sex_Male'})\n",
      "id: 21 coverage: 1 Arg 1/17: frozenset({'Age_Age > 48.00', 'Marital Status_Married-civ-spouse', 'Education_Bachelors'})\n",
      "id: 22 coverage: 1 Arg 1/22: frozenset({'Occupation_Tech-support', 'Age_28.00 < Age <= 37.00'})\n",
      "id: 23 coverage: 1 Arg 1/17: frozenset({'Education_Some-college', 'Race_Black'})\n",
      "id: 24 coverage: 1 Arg 1/5: frozenset({'Hours per week_Hours per week <= 40.00', 'Occupation_Machine-op-inspct'})\n",
      "id: 25 coverage: 1 Arg 1/10: frozenset({'Relationship_Husband', 'Country_United-States', 'Education_Some-college'})\n",
      "id: 26 coverage: 1 Arg 1/11: frozenset({'Marital Status_Married-civ-spouse', 'Education_Masters'})\n",
      "id: 27 coverage: 1 Arg 1/16: frozenset({'Relationship_Husband', 'Country_United-States', 'Education_Some-college'})\n",
      "id: 28 coverage: 1 Arg 1/27: frozenset({'Age_37.00 < Age <= 48.00', 'Education_Masters'})\n",
      "id: 29 coverage: 1 Arg 1/4: frozenset({'Capital Gain_0', 'Occupation_Machine-op-inspct'})\n",
      "id: 30 coverage: 1 Arg 1/6: frozenset({'Marital Status_Married-civ-spouse', 'Education_Masters'})\n",
      "id: 31 coverage: 1 Arg 1/11: frozenset({'Marital Status_Never-married', 'Workclass_Private'})\n",
      "id: 32 coverage: 1 Arg 1/10: frozenset({'Sex_Female', 'Marital Status_Married-civ-spouse', 'Age_28.00 < Age <= 37.00'})\n",
      "id: 33 coverage: 1 Arg 1/10: frozenset({'Sex_Female', 'Relationship_Not-in-family', 'Country_United-States', 'Hours per week_Hours per week <= 40.00'})\n",
      "id: 34 coverage: 1 Arg 1/8: frozenset({'Occupation_Farming-fishing', 'Education_HS-grad'})\n",
      "id: 35 coverage: 1 Arg 1/11: frozenset({'Hours per week_Hours per week <= 40.00', 'Occupation_Machine-op-inspct'})\n",
      "id: 36 coverage: 1 Arg 1/5: frozenset({'Country_Germany'})\n",
      "id: 37 coverage: 1 Arg 1/21: frozenset({'Education_Some-college', 'Marital Status_Married-civ-spouse', 'Country_United-States'})\n",
      "id: 38 coverage: 1 Arg 1/8: frozenset({'Marital Status_Married-civ-spouse', 'Education_Bachelors', 'Age_28.00 < Age <= 37.00'})\n",
      "id: 39 coverage: 1 Arg 1/12: frozenset({'Age_Age > 48.00', 'Occupation_Prof-specialty', 'Sex_Male'})\n",
      "id: 40 coverage: 1 Arg 1/12: frozenset({'Education_Bachelors', 'Hours per week_Hours per week > 45.00'})\n",
      "id: 41 coverage: 1 Arg 1/15: frozenset({'Occupation_Priv-house-serv'})\n",
      "id: 42 coverage: 1 Arg 1/12: frozenset({'Relationship_Husband', 'Education_Bachelors', 'Age_28.00 < Age <= 37.00'})\n",
      "id: 43 coverage: 1 Arg 1/13: frozenset({'Sex_Female', 'Occupation_?', 'Education_HS-grad'})\n",
      "id: 44 coverage: 1 Arg 1/25: frozenset({'Relationship_Not-in-family', 'Education_HS-grad', 'Workclass_Private'})\n",
      "id: 45 coverage: 1 Arg 1/13: frozenset({'Relationship_Not-in-family', 'Age_37.00 < Age <= 48.00', 'Occupation_Protective-serv'})\n",
      "id: 46 coverage: 1 Arg 1/22: frozenset({'Relationship_Not-in-family', 'Age_Age <= 28.00'})\n",
      "id: 47 coverage: 1 Arg 1/7: frozenset({'Education_HS-grad', 'Age_28.00 < Age <= 37.00', 'Workclass_Private', 'Sex_Male'})\n",
      "id: 48 coverage: 1 Arg 1/22: frozenset({'Education_Some-college', 'Marital Status_Married-civ-spouse', 'Country_United-States'})\n",
      "id: 49 coverage: 1 Arg 1/8: frozenset({'Hours per week_Hours per week <= 40.00', 'Age_Age <= 28.00', 'Sex_Male'})\n",
      "id: 50 coverage: 1 Arg 1/9: frozenset({'Marital Status_Married-civ-spouse', 'Occupation_Tech-support'})\n",
      "id: 51 coverage: 1 Arg 1/13: frozenset({'Age_Age > 48.00', 'Race_White', 'Education_Bachelors'})\n",
      "id: 52 coverage: 1 Arg 1/11: frozenset({'Marital Status_Never-married', 'Workclass_Private'})\n",
      "id: 53 coverage: 1 Arg 1/10: frozenset({'Race_Black', 'Sex_Male'})\n",
      "id: 54 coverage: 1 Arg 1/10: frozenset({'Relationship_Husband', 'Country_United-States', 'Education_Some-college'})\n",
      "id: 55 coverage: 1 Arg 1/5: frozenset({'Occupation_Sales', 'Marital Status_Married-civ-spouse', 'Education_HS-grad'})\n",
      "id: 56 coverage: 1 Arg 1/19: frozenset({'Marital Status_Married-civ-spouse', 'Workclass_State-gov'})\n",
      "id: 57 coverage: 1 Arg 1/7: frozenset({'Age_37.00 < Age <= 48.00', 'Workclass_Self-emp-not-inc'})\n",
      "id: 58 coverage: 1 Arg 1/16: frozenset({'Age_Age <= 28.00', 'Workclass_State-gov'})\n",
      "id: 59 coverage: 1 Arg 1/15: frozenset({'Marital Status_Married-civ-spouse', 'Occupation_Tech-support'})\n",
      "id: 60 coverage: 1 Arg 1/7: frozenset({'Hours per week_Hours per week > 45.00', 'Age_28.00 < Age <= 37.00', 'Occupation_Prof-specialty'})\n",
      "id: 61 coverage: 1 Arg 1/20: frozenset({'Relationship_Not-in-family', 'Education_HS-grad', 'Workclass_Private'})\n",
      "id: 62 coverage: 1 Arg 1/10: frozenset({'Education_HS-grad', 'Age_28.00 < Age <= 37.00', 'Workclass_Private', 'Sex_Male'})\n",
      "id: 63 coverage: 1 Arg 1/7: frozenset({'Occupation_Exec-managerial', 'Workclass_Self-emp-not-inc'})\n",
      "id: 64 coverage: 1 Arg 1/11: frozenset({'Marital Status_Never-married', 'Workclass_Private'})\n",
      "id: 65 coverage: 1 Arg 1/8: frozenset({'Relationship_Wife', 'Occupation_Adm-clerical'})\n",
      "id: 66 coverage: 1 Arg 1/18: frozenset({'Capital Loss_0', 'Hours per week_Hours per week <= 40.00', 'Workclass_Local-gov', 'Capital Gain_0'})\n",
      "id: 67 coverage: 1 Arg 1/12: frozenset({'Marital Status_Married-civ-spouse', 'Occupation_Tech-support'})\n",
      "id: 68 coverage: 1 Arg 1/14: frozenset({'Relationship_Not-in-family', 'Age_Age <= 28.00'})\n",
      "id: 69 coverage: 1 Arg 1/16: frozenset({'Age_Age > 48.00', 'Occupation_Machine-op-inspct'})\n",
      "id: 70 coverage: 1 Arg 1/8: frozenset({'Age_Age > 48.00', 'Marital Status_Married-civ-spouse', 'Workclass_Private'})\n",
      "id: 71 coverage: 1 Arg 1/16: frozenset({'Relationship_Unmarried'})\n",
      "id: 72 coverage: 1 Arg 1/13: frozenset({'Age_Age > 48.00', 'Race_White', 'Education_Bachelors'})\n",
      "id: 73 coverage: 1 Arg 1/26: frozenset({'Education_Bachelors', 'Workclass_Local-gov', 'Marital Status_Divorced'})\n",
      "id: 74 coverage: 1 Arg 1/13: frozenset({'Occupation_Handlers-cleaners', 'Workclass_Private'})\n",
      "id: 75 coverage: 1 Arg 1/11: frozenset({'Relationship_Husband', 'Country_United-States', 'Education_Some-college'})\n",
      "id: 76 coverage: 1 Arg 1/7: frozenset({'Occupation_Exec-managerial', 'Relationship_Not-in-family'})\n",
      "id: 77 coverage: 1 Arg 1/3: frozenset({'Age_37.00 < Age <= 48.00', 'Education_HS-grad'})\n",
      "id: 78 coverage: 1 Arg 1/17: frozenset({'Race_Black', 'Sex_Male'})\n",
      "id: 79 coverage: 1 Arg 1/16: frozenset({'Sex_Female', 'Relationship_Not-in-family', 'Country_United-States', 'Hours per week_Hours per week <= 40.00'})\n",
      "0 80\n"
     ]
    }
   ],
   "source": [
    "explainer.set_strategy('max_covc', 'existence')\n",
    "## Define strategy before calling explainer.explain()\n",
    "explainer.display_explanations()"
   ]
  },
  {
   "cell_type": "code",
   "execution_count": null,
   "metadata": {},
   "outputs": [
    {
     "name": "stdout",
     "output_type": "stream",
     "text": [
      "0.40616693248272195\n",
      "Number of extensions: 521076\n",
      "len(max_cov_exts)= 521074 / 521076\n",
      "Covc strategy's coverage: 2\n",
      "Top 5 covs: [2, 2, 2, 2, 2]\n",
      "id: 0 coverage: 0 Arg 1/0: None\n",
      "id: 1 coverage: 0 Arg 1/0: None\n",
      "id: 2 coverage: 0 Arg 1/0: None\n",
      "id: 3 coverage: 0 Arg 1/0: None\n",
      "id: 4 coverage: 0 Arg 1/0: None\n",
      "id: 5 coverage: 0 Arg 1/0: None\n",
      "id: 6 coverage: 0 Arg 1/0: None\n",
      "id: 7 coverage: 0 Arg 1/0: None\n",
      "id: 8 coverage: 0 Arg 1/0: None\n",
      "id: 9 coverage: 0 Arg 1/0: None\n",
      "id: 10 coverage: 0 Arg 1/0: None\n",
      "id: 11 coverage: 0 Arg 1/0: None\n",
      "id: 12 coverage: 0 Arg 1/0: None\n",
      "id: 13 coverage: 0 Arg 1/0: None\n",
      "id: 14 coverage: 0 Arg 1/0: None\n",
      "id: 15 coverage: 0 Arg 1/0: None\n",
      "id: 16 coverage: 0 Arg 1/0: None\n",
      "id: 17 coverage: 0 Arg 1/0: None\n",
      "id: 18 coverage: 0 Arg 1/0: None\n",
      "id: 19 coverage: 0 Arg 1/0: None\n",
      "id: 20 coverage: 0 Arg 1/0: None\n",
      "id: 21 coverage: 0 Arg 1/0: None\n",
      "id: 22 coverage: 0 Arg 1/0: None\n",
      "id: 23 coverage: 0 Arg 1/0: None\n",
      "id: 24 coverage: 0 Arg 1/0: None\n",
      "id: 25 coverage: 0 Arg 1/0: None\n",
      "id: 26 coverage: 0 Arg 1/0: None\n",
      "id: 27 coverage: 0 Arg 1/0: None\n",
      "id: 28 coverage: 0 Arg 1/0: None\n",
      "id: 29 coverage: 0 Arg 1/0: None\n",
      "id: 30 coverage: 0 Arg 1/0: None\n",
      "id: 31 coverage: 0 Arg 1/0: None\n",
      "id: 32 coverage: 0 Arg 1/0: None\n",
      "id: 33 coverage: 0 Arg 1/0: None\n",
      "id: 34 coverage: 0 Arg 1/0: None\n",
      "id: 35 coverage: 0 Arg 1/0: None\n",
      "id: 36 coverage: 0 Arg 1/0: None\n",
      "id: 37 coverage: 0 Arg 1/0: None\n",
      "id: 38 coverage: 0 Arg 1/0: None\n",
      "id: 39 coverage: 0 Arg 1/0: None\n",
      "id: 40 coverage: 0 Arg 1/0: None\n",
      "id: 41 coverage: 0 Arg 1/0: None\n",
      "id: 42 coverage: 0 Arg 1/0: None\n",
      "id: 43 coverage: 0 Arg 1/0: None\n",
      "id: 44 coverage: 0 Arg 1/0: None\n",
      "id: 45 coverage: 0 Arg 1/0: None\n",
      "id: 46 coverage: 0 Arg 1/0: None\n",
      "id: 47 coverage: 0 Arg 1/0: None\n",
      "id: 48 coverage: 0 Arg 1/0: None\n",
      "id: 49 coverage: 0 Arg 1/0: None\n",
      "id: 50 coverage: 0 Arg 1/0: None\n",
      "id: 51 coverage: 0 Arg 1/0: None\n",
      "id: 52 coverage: 0 Arg 1/0: None\n",
      "id: 53 coverage: 0 Arg 1/0: None\n",
      "id: 54 coverage: 0 Arg 1/0: None\n",
      "id: 55 coverage: 0 Arg 1/0: None\n",
      "id: 56 coverage: 0 Arg 1/0: None\n",
      "id: 57 coverage: 0 Arg 1/0: None\n",
      "id: 58 coverage: 0 Arg 1/0: None\n",
      "id: 59 coverage: 0 Arg 1/0: None\n",
      "id: 60 coverage: 0 Arg 1/0: None\n",
      "id: 61 coverage: 0 Arg 1/0: None\n",
      "id: 62 coverage: 0 Arg 1/0: None\n",
      "id: 63 coverage: 0 Arg 1/0: None\n",
      "id: 64 coverage: 0 Arg 1/0: None\n",
      "id: 65 coverage: 0 Arg 1/0: None\n",
      "id: 66 coverage: 0 Arg 1/0: None\n",
      "id: 67 coverage: 0 Arg 1/0: None\n",
      "id: 68 coverage: 0 Arg 1/0: None\n",
      "id: 69 coverage: 0 Arg 1/0: None\n",
      "id: 70 coverage: 0 Arg 1/0: None\n",
      "id: 71 coverage: 0 Arg 1/0: None\n",
      "id: 72 coverage: 0 Arg 1/0: None\n",
      "id: 73 coverage: 0 Arg 1/0: None\n",
      "id: 74 coverage: 0 Arg 1/0: None\n",
      "id: 75 coverage: 0 Arg 1/0: None\n",
      "id: 76 coverage: 0 Arg 1/0: None\n",
      "id: 77 coverage: 0 Arg 1/0: None\n",
      "id: 78 coverage: 0 Arg 1/0: None\n",
      "id: 79 coverage: 0 Arg 1/0: None\n",
      "80 80\n"
     ]
    }
   ],
   "source": [
    "explainer.set_strategy('max_covc', 'universal')\n",
    "## Define strategy before calling explainer.explain()\n",
    "explainer.display_explanations()"
   ]
  },
  {
   "cell_type": "code",
   "execution_count": null,
   "metadata": {},
   "outputs": [
    {
     "name": "stdout",
     "output_type": "stream",
     "text": [
      "0.40616693248272195\n",
      "Number of extensions: 521076\n",
      "len(max_cov_exts)= 12 / 521076\n",
      "Covi strategy's coverage: 60\n",
      "Top 5 covs: [58, 58, 58, 58, 58]\n",
      "id: 0 coverage: 0 Arg 1/0: None\n",
      "id: 1 coverage: 5 Arg 1/4: frozenset({'Relationship_Not-in-family', 'Occupation_Exec-managerial'})\n",
      "id: 2 coverage: 0 Arg 1/0: None\n",
      "id: 3 coverage: 3 Arg 1/1: frozenset({'Occupation_Machine-op-inspct', 'Age_28.00 < Age <= 37.00'})\n",
      "id: 4 coverage: 0 Arg 1/0: None\n",
      "id: 5 coverage: 2 Arg 1/1: frozenset({'Occupation_Farming-fishing', 'Age_28.00 < Age <= 37.00'})\n",
      "id: 6 coverage: 2 Arg 1/1: frozenset({'Sex_Female', 'Occupation_Protective-serv'})\n",
      "id: 7 coverage: 3 Arg 1/1: frozenset({'Occupation_Sales', 'Education_Bachelors'})\n",
      "id: 8 coverage: 2 Arg 1/1: frozenset({'Occupation_?', 'Sex_Male'})\n",
      "id: 9 coverage: 3 Arg 1/2: frozenset({'Occupation_Prof-specialty', 'Education_Bachelors', 'Workclass_Private'})\n",
      "id: 10 coverage: 4 Arg 1/1: frozenset({'Occupation_Protective-serv', 'Sex_Male'})\n",
      "id: 11 coverage: 1 Arg 1/1: frozenset({'Age_28.00 < Age <= 37.00', 'Occupation_Transport-moving'})\n",
      "id: 12 coverage: 2 Arg 1/1: frozenset({'Sex_Female', 'Marital Status_Married-civ-spouse', 'Occupation_?'})\n",
      "id: 13 coverage: 1 Arg 1/1: frozenset({'Occupation_Craft-repair', 'Age_Age <= 28.00'})\n",
      "id: 14 coverage: 4 Arg 1/1: frozenset({'Age_Age > 48.00', 'Occupation_Prof-specialty', 'Marital Status_Married-civ-spouse'})\n",
      "id: 15 coverage: 3 Arg 1/1: frozenset({'Occupation_Sales', 'Education_Bachelors'})\n",
      "id: 16 coverage: 2 Arg 1/1: frozenset({'Occupation_Farming-fishing', 'Age_28.00 < Age <= 37.00'})\n",
      "id: 17 coverage: 0 Arg 1/0: None\n",
      "id: 18 coverage: 3 Arg 1/1: frozenset({'Occupation_Sales', 'Marital Status_Married-civ-spouse', 'Education_HS-grad'})\n",
      "id: 19 coverage: 0 Arg 1/0: None\n",
      "id: 20 coverage: 2 Arg 1/1: frozenset({'Occupation_?', 'Sex_Male'})\n",
      "id: 21 coverage: 6 Arg 1/4: frozenset({'Age_Age > 48.00', 'Occupation_Prof-specialty', 'Workclass_Private'})\n",
      "id: 22 coverage: 0 Arg 1/0: None\n",
      "id: 23 coverage: 0 Arg 1/0: None\n",
      "id: 24 coverage: 3 Arg 1/1: frozenset({'Occupation_Machine-op-inspct', 'Age_28.00 < Age <= 37.00'})\n",
      "id: 25 coverage: 9 Arg 1/3: frozenset({'Occupation_Exec-managerial', 'Relationship_Husband'})\n",
      "id: 26 coverage: 4 Arg 1/1: frozenset({'Age_Age > 48.00', 'Occupation_Prof-specialty', 'Marital Status_Married-civ-spouse'})\n",
      "id: 27 coverage: 4 Arg 1/1: frozenset({'Occupation_Protective-serv', 'Sex_Male'})\n",
      "id: 28 coverage: 1 Arg 1/1: frozenset({'Occupation_Prof-specialty', 'Age_37.00 < Age <= 48.00', 'Workclass_Local-gov'})\n",
      "id: 29 coverage: 3 Arg 1/1: frozenset({'Occupation_Machine-op-inspct', 'Age_28.00 < Age <= 37.00'})\n",
      "id: 30 coverage: 1 Arg 1/1: frozenset({'Occupation_Prof-specialty', 'Age_Age <= 28.00', 'Workclass_Private'})\n",
      "id: 31 coverage: 0 Arg 1/0: None\n",
      "id: 32 coverage: 3 Arg 1/1: frozenset({'Occupation_Sales', 'Marital Status_Married-civ-spouse', 'Education_HS-grad'})\n",
      "id: 33 coverage: 0 Arg 1/0: None\n",
      "id: 34 coverage: 1 Arg 1/1: frozenset({'Occupation_Farming-fishing', 'Age_Age > 48.00'})\n",
      "id: 35 coverage: 0 Arg 1/0: None\n",
      "id: 36 coverage: 0 Arg 1/0: None\n",
      "id: 37 coverage: 0 Arg 1/0: None\n",
      "id: 38 coverage: 3 Arg 1/1: frozenset({'Occupation_Sales', 'Education_Bachelors'})\n",
      "id: 39 coverage: 4 Arg 1/1: frozenset({'Age_Age > 48.00', 'Occupation_Prof-specialty', 'Marital Status_Married-civ-spouse'})\n",
      "id: 40 coverage: 9 Arg 1/5: frozenset({'Occupation_Exec-managerial', 'Relationship_Husband'})\n",
      "id: 41 coverage: 0 Arg 1/0: None\n",
      "id: 42 coverage: 8 Arg 1/5: frozenset({'Occupation_Exec-managerial', 'Relationship_Husband'})\n",
      "id: 43 coverage: 2 Arg 1/1: frozenset({'Sex_Female', 'Marital Status_Married-civ-spouse', 'Occupation_?'})\n",
      "id: 44 coverage: 0 Arg 1/0: None\n",
      "id: 45 coverage: 4 Arg 1/1: frozenset({'Occupation_Protective-serv', 'Sex_Male'})\n",
      "id: 46 coverage: 2 Arg 1/1: frozenset({'Sex_Female', 'Occupation_Protective-serv'})\n",
      "id: 47 coverage: 2 Arg 1/1: frozenset({'Occupation_Craft-repair', 'Age_28.00 < Age <= 37.00'})\n",
      "id: 48 coverage: 0 Arg 1/0: None\n",
      "id: 49 coverage: 0 Arg 1/0: None\n",
      "id: 50 coverage: 0 Arg 1/0: None\n",
      "id: 51 coverage: 8 Arg 1/4: frozenset({'Occupation_Exec-managerial', 'Country_Mexico'})\n",
      "id: 52 coverage: 0 Arg 1/0: None\n",
      "id: 53 coverage: 3 Arg 1/1: frozenset({'Hours per week_Hours per week <= 40.00', 'Occupation_Prof-specialty', 'Workclass_Private'})\n",
      "id: 54 coverage: 0 Arg 1/0: None\n",
      "id: 55 coverage: 3 Arg 1/1: frozenset({'Occupation_Sales', 'Marital Status_Married-civ-spouse', 'Education_HS-grad'})\n",
      "id: 56 coverage: 7 Arg 1/4: frozenset({'Occupation_Exec-managerial', 'Relationship_Wife'})\n",
      "id: 57 coverage: 0 Arg 1/0: None\n",
      "id: 58 coverage: 0 Arg 1/0: None\n",
      "id: 59 coverage: 0 Arg 1/0: None\n",
      "id: 60 coverage: 0 Arg 1/0: None\n",
      "id: 61 coverage: 0 Arg 1/0: None\n",
      "id: 62 coverage: 2 Arg 1/1: frozenset({'Occupation_Craft-repair', 'Age_28.00 < Age <= 37.00'})\n",
      "id: 63 coverage: 7 Arg 1/4: frozenset({'Occupation_Exec-managerial', 'Workclass_Self-emp-not-inc'})\n",
      "id: 64 coverage: 0 Arg 1/0: None\n",
      "id: 65 coverage: 0 Arg 1/0: None\n",
      "id: 66 coverage: 1 Arg 1/1: frozenset({'Occupation_Prof-specialty', 'Age_Age <= 28.00', 'Workclass_Local-gov'})\n",
      "id: 67 coverage: 0 Arg 1/0: None\n",
      "id: 68 coverage: 0 Arg 1/0: None\n",
      "id: 69 coverage: 0 Arg 1/0: None\n",
      "id: 70 coverage: 7 Arg 1/3: frozenset({'Occupation_Exec-managerial', 'Relationship_Husband'})\n",
      "id: 71 coverage: 0 Arg 1/0: None\n",
      "id: 72 coverage: 8 Arg 1/4: frozenset({'Occupation_Exec-managerial', 'Relationship_Husband'})\n",
      "id: 73 coverage: 0 Arg 1/0: None\n",
      "id: 74 coverage: 0 Arg 1/0: None\n",
      "id: 75 coverage: 0 Arg 1/0: None\n",
      "id: 76 coverage: 2 Arg 1/2: frozenset({'Relationship_Not-in-family', 'Occupation_Exec-managerial'})\n",
      "id: 77 coverage: 1 Arg 1/1: frozenset({'Occupation_Craft-repair', 'Age_37.00 < Age <= 48.00'})\n",
      "id: 78 coverage: 4 Arg 1/1: frozenset({'Occupation_Protective-serv', 'Sex_Male'})\n",
      "id: 79 coverage: 0 Arg 1/0: None\n",
      "34 80\n"
     ]
    }
   ],
   "source": [
    "explainer.set_strategy('max_covi', 'universal')\n",
    "## Define strategy before calling explainer.explain()\n",
    "explainer.display_explanations()"
   ]
  },
  {
   "cell_type": "code",
   "execution_count": null,
   "metadata": {},
   "outputs": [
    {
     "name": "stdout",
     "output_type": "stream",
     "text": [
      "Anchor\n",
      "['Age > 48.00', 'Self-emp-not-inc', 'Some-college', 'Married-civ-spouse', 'Sales', 'Husband', 'White', 'Male', '2', '0', '40.00 < Hours per week <= 45.00', 'United-States']\n",
      "Prediction:  b'>50K'\n",
      "Anchor: Capital Gain = 2\n",
      "Precision: 1.00\n",
      "Coverage: 0.07\n",
      "Arg: 0\n",
      "id: 0 coverage: 10 Args5/5: {frozenset({'Occupation_Sales', 'Age_Age > 48.00'}), frozenset({'Workclass_Self-emp-not-inc', 'Age_Age > 48.00'}), frozenset({'Workclass_Self-emp-not-inc', 'Occupation_Sales'}), frozenset({'Education_Some-college', 'Workclass_Self-emp-not-inc'}), frozenset({'Education_Some-college', 'Occupation_Sales', 'Country_United-States'})}\n",
      "None\n"
     ]
    }
   ],
   "source": [
    "anchor_explainer = anchor_tabular.AnchorTabularExplainer(\n",
    "    dataset.class_names,\n",
    "    dataset.feature_names,\n",
    "    dataset.train,\n",
    "    dataset.categorical_names)\n",
    "idx = 0\n",
    "np.random.seed(1)\n",
    "instance = dataset.train[idx].reshape(1, -1)[0]\n",
    "print(\"Anchor\")\n",
    "print([dataset.categorical_names[i][int(r_)] for i, r_ in enumerate(instance)])\n",
    "\n",
    "print('Prediction: ', anchor_explainer.class_names[c.predict(dataset.train[0].reshape(1, -1))[0]])\n",
    "exp = anchor_explainer.explain_instance(dataset.train[idx], c.predict, threshold=0.95)\n",
    "print('Anchor: %s' % (' AND '.join(exp.names())))\n",
    "print('Precision: %.2f' % exp.precision())\n",
    "print('Coverage: %.2f' % exp.coverage())\n",
    "\n",
    "print(\"Arg:\", idx)\n",
    "print(explainer.explain_instance(idx))"
   ]
  }
 ],
 "metadata": {
  "kernelspec": {
   "display_name": "Python 3.9.12 ('argenv')",
   "language": "python",
   "name": "python3"
  },
  "language_info": {
   "codemirror_mode": {
    "name": "ipython",
    "version": 3
   },
   "file_extension": ".py",
   "mimetype": "text/x-python",
   "name": "python",
   "nbconvert_exporter": "python",
   "pygments_lexer": "ipython3",
   "version": "3.9.12"
  },
  "vscode": {
   "interpreter": {
    "hash": "34f4a23e072925201d1edce259708610e2f98260d5449b97ac01b140140f4b0a"
   }
  }
 },
 "nbformat": 4,
 "nbformat_minor": 2
}
