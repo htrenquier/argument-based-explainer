{
 "cells": [
  {
   "cell_type": "code",
   "execution_count": 1,
   "metadata": {},
   "outputs": [],
   "source": [
    "import networkx as nx\n",
    "import numpy as np\n",
    "import pandas as pd\n",
    "from os import path\n",
    "import time"
   ]
  },
  {
   "cell_type": "code",
   "execution_count": 13,
   "metadata": {},
   "outputs": [
    {
     "name": "stdout",
     "output_type": "stream",
     "text": [
      "14488\n",
      "maximal clique number for complete 1\n",
      "245 [9, 9, 9, 9, 9, 10, 10, 11, 12, 13, 14, 14, 17, 19, 20, 23, 28, 33, 35, 106]\n",
      "nn= 610\n",
      "maximal clique number 50046\n",
      "0.07799940779025008\n",
      "[frozenset({18, 4, 50, 71}), frozenset({11}), frozenset({21, 22}), frozenset({14, 7}), frozenset({16, 28}), frozenset({13}), frozenset({16, 25}), frozenset({12}), frozenset({19, 22}), frozenset({7, 31}), frozenset({25, 7}), frozenset({37, 6}), frozenset({2, 5}), frozenset({36, 5}), frozenset({50, 5}), frozenset({32, 7}), frozenset({25, 5}), frozenset({48, 5}), frozenset({68, 7}), frozenset({0, 10}), frozenset({1, 9}), frozenset({2, 10}), frozenset({40, 7}), frozenset({54}), frozenset({16, 1, 51}), frozenset({16, 51, 22}), frozenset({16, 2, 60}), frozenset({16, 3, 30}), frozenset({16, 50, 23}), frozenset({16, 3, 23}), frozenset({16, 60, 23}), frozenset({16, 1, 60}), frozenset({16, 1, 41}), frozenset({18, 50, 23}), frozenset({16, 51, 37}), frozenset({16, 36, 7}), frozenset({16, 68}), frozenset({16, 1, 7}), frozenset({53}), frozenset({16, 3, 60}), frozenset({16, 41, 3}), frozenset({5, 3, 21}), frozenset({16, 50, 30}), frozenset({18, 59, 38}), frozenset({16, 59, 30}), frozenset({16, 3, 7}), frozenset({16, 3, 51}), frozenset({18, 38, 23}), frozenset({3, 68}), frozenset({16, 1, 23}), frozenset({21, 38, 71}), frozenset({16, 49, 3}), frozenset({16, 41, 60}), frozenset({16, 1, 42}), frozenset({60, 7, 15}), frozenset({48, 19}), frozenset({38, 6}), frozenset({16, 38}), frozenset({10, 46}), frozenset({48, 7}), frozenset({9, 21}), frozenset({1, 10}), frozenset({0, 47}), frozenset({48, 1}), frozenset({1, 27}), frozenset({23, 47}), frozenset({38, 46}), frozenset({32, 6}), frozenset({1, 39}), frozenset({34, 23}), frozenset({4, 46}), frozenset({2, 19}), frozenset({3, 14}), frozenset({7, 47}), frozenset({41, 10}), frozenset({49, 5}), frozenset({3, 39}), frozenset({1, 38}), frozenset({14, 30}), frozenset({60, 37}), frozenset({60, 47}), frozenset({48, 30}), frozenset({41, 19}), frozenset({48, 37}), frozenset({41, 30}), frozenset({60, 22}), frozenset({9, 19}), frozenset({66, 29}), frozenset({9, 36}), frozenset({1, 15}), frozenset({0, 46}), frozenset({19, 23}), frozenset({32, 23}), frozenset({16, 46}), frozenset({16, 47}), frozenset({21, 6}), frozenset({10, 23}), frozenset({6, 47}), frozenset({40, 6}), frozenset({46, 6}), frozenset({5, 23}), frozenset({19, 7}), frozenset({51, 5}), frozenset({18, 34}), frozenset({68, 30}), frozenset({30, 47}), frozenset({48, 60}), frozenset({48, 41}), frozenset({46, 39}), frozenset({51, 47}), frozenset({3, 19}), frozenset({18, 46}), frozenset({9, 30}), frozenset({38, 22}), frozenset({1, 4}), frozenset({9, 3}), frozenset({21, 29}), frozenset({3, 38}), frozenset({36, 46}), frozenset({41, 5}), frozenset({18, 30}), frozenset({3, 31}), frozenset({50, 38}), frozenset({48, 23}), frozenset({19, 30}), frozenset({1, 25}), frozenset({3, 29}), frozenset({10, 18}), frozenset({48, 18}), frozenset({41, 47}), frozenset({41, 34}), frozenset({21, 46}), frozenset({0, 6}), frozenset({3, 37}), frozenset({51, 39}), frozenset({48, 51}), frozenset({28, 60}), frozenset({48, 46}), frozenset({27, 46}), frozenset({40, 21}), frozenset({3, 46}), frozenset({10, 30}), frozenset({15, 39}), frozenset({5, 30}), frozenset({41, 37}), frozenset({37, 23}), frozenset({30, 23}), frozenset({16, 9}), frozenset({3, 47}), frozenset({46, 15}), frozenset({41, 39}), frozenset({18, 37}), frozenset({40, 18}), frozenset({0, 40}), frozenset({48, 42}), frozenset({1, 18}), frozenset({9, 38}), frozenset({16, 10}), frozenset({0, 48}), frozenset({1, 46}), frozenset({33, 3}), frozenset({50, 19}), frozenset({9, 18}), frozenset({3, 15}), frozenset({33, 60}), frozenset({32, 41}), frozenset({32, 60}), frozenset({48, 10}), frozenset({1, 29}), frozenset({10, 3}), frozenset({6, 30}), frozenset({18, 31}), frozenset({38, 47}), frozenset({46, 30}), frozenset({19, 47}), frozenset({19, 46}), frozenset({1, 30}), frozenset({60, 6}), frozenset({23, 39}), frozenset({17}), frozenset({67}), frozenset({56}), frozenset({20}), frozenset({8}), frozenset({57}), frozenset({63}), frozenset({69}), frozenset({58}), frozenset({61})]\n",
      "0.5349104404449463\n"
     ]
    }
   ],
   "source": [
    "nb_vals = 100\n",
    "output_path = 'saves/'\n",
    "exp_name = 'adult_' + str(nb_vals)\n",
    "\n",
    "R_atk = pd.read_pickle(path.join(output_path, exp_name + '_R_atk.df'))\n",
    "#R_atk = {(0,1), (1,2), (1,3), (2,3), (3,4)}\n",
    "print(len(R_atk))\n",
    "\n",
    "G = nx.Graph()\n",
    "H = nx.complete_graph(200)\n",
    "\n",
    "G.add_edges_from(R_atk)\n",
    "nn = nx.number_of_nodes(G)\n",
    "degs = nx.degree_histogram(G)\n",
    "degs = sorted(degs)\n",
    "print(len(degs), degs[-20:])\n",
    "print('nn=', nn)\n",
    "print('maximal clique number', nx.graph_number_of_cliques(nx.complement(G)))\n",
    "\n",
    "t0 = time.time()\n",
    "print(nx.density(G))\n",
    "naive_extensions = nx.find_cliques(nx.complement(G))\n",
    "print(next(iter(naive_extensions)))\n",
    "\n",
    "print(time.time()-t0)"
   ]
  },
  {
   "cell_type": "code",
   "execution_count": 7,
   "metadata": {},
   "outputs": [
    {
     "name": "stdout",
     "output_type": "stream",
     "text": [
      "89\n"
     ]
    }
   ],
   "source": [
    "list_ne = list(naive_extensions)\n",
    "print(len(list_ne))"
   ]
  }
 ],
 "metadata": {
  "kernelspec": {
   "display_name": "Python 3",
   "language": "python",
   "name": "python3"
  },
  "language_info": {
   "codemirror_mode": {
    "name": "ipython",
    "version": 3
   },
   "file_extension": ".py",
   "mimetype": "text/x-python",
   "name": "python",
   "nbconvert_exporter": "python",
   "pygments_lexer": "ipython3",
   "version": "3.8.5"
  }
 },
 "nbformat": 4,
 "nbformat_minor": 4
}
