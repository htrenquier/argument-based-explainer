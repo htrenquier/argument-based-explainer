{
 "cells": [
  {
   "cell_type": "code",
   "execution_count": 2,
   "metadata": {
    "executionInfo": {
     "elapsed": 2,
     "status": "ok",
     "timestamp": 1654677018395,
     "user": {
      "displayName": "Henri Trenquier",
      "userId": "18067802191641776965"
     },
     "user_tz": -120
    },
    "id": "BRBHHIiyCluH"
   },
   "outputs": [],
   "source": [
    "from IPython.display import clear_output"
   ]
  },
  {
   "cell_type": "code",
   "execution_count": 3,
   "metadata": {
    "executionInfo": {
     "elapsed": 1563,
     "status": "ok",
     "timestamp": 1654677039649,
     "user": {
      "displayName": "Henri Trenquier",
      "userId": "18067802191641776965"
     },
     "user_tz": -120
    },
    "id": "C7041YppAsjS"
   },
   "outputs": [],
   "source": [
    "from anchor import utils\n",
    "from anchor import anchor_tabular\n",
    "import pandas as pd\n",
    "import sklearn.ensemble\n",
    "import numpy as np\n",
    "from anchor import anchor_tabular"
   ]
  },
  {
   "cell_type": "code",
   "execution_count": 4,
   "metadata": {},
   "outputs": [],
   "source": [
    "from anchor import utils\n",
    "from anchor import anchor_tabular\n",
    "\n",
    "dataset_folder = '../datasets/'\n",
    "dataset = utils.load_dataset('recidivism', balance=True, dataset_folder=dataset_folder, discretize=True)"
   ]
  },
  {
   "cell_type": "code",
   "execution_count": 4,
   "metadata": {},
   "outputs": [
    {
     "name": "stdout",
     "output_type": "stream",
     "text": [
      "Train 0.935226264418811\n",
      "Test 0.7531914893617021\n"
     ]
    }
   ],
   "source": [
    "c = sklearn.ensemble.RandomForestClassifier(n_estimators=50, n_jobs=5)\n",
    "c.fit(dataset.train, dataset.labels_train)\n",
    "print('Train', sklearn.metrics.accuracy_score(dataset.labels_train, c.predict(dataset.train)))\n",
    "print('Test', sklearn.metrics.accuracy_score(dataset.labels_test, c.predict(dataset.test)))"
   ]
  },
  {
   "cell_type": "code",
   "execution_count": 1,
   "metadata": {},
   "outputs": [
    {
     "ename": "NameError",
     "evalue": "name 'dataset' is not defined",
     "output_type": "error",
     "traceback": [
      "\u001b[0;31m---------------------------------------------------------------------------\u001b[0m",
      "\u001b[0;31mNameError\u001b[0m                                 Traceback (most recent call last)",
      "\u001b[0;32m<ipython-input-1-855bf1bcf622>\u001b[0m in \u001b[0;36m<module>\u001b[0;34m\u001b[0m\n\u001b[1;32m      1\u001b[0m \u001b[0mtransformed_data\u001b[0m \u001b[0;34m=\u001b[0m \u001b[0;34m[\u001b[0m\u001b[0;34m]\u001b[0m\u001b[0;34m\u001b[0m\u001b[0;34m\u001b[0m\u001b[0m\n\u001b[1;32m      2\u001b[0m \u001b[0;34m\u001b[0m\u001b[0m\n\u001b[0;32m----> 3\u001b[0;31m \u001b[0;32mfor\u001b[0m \u001b[0mr\u001b[0m \u001b[0;32min\u001b[0m \u001b[0mdataset\u001b[0m\u001b[0;34m.\u001b[0m\u001b[0mtrain\u001b[0m\u001b[0;34m:\u001b[0m\u001b[0;34m\u001b[0m\u001b[0;34m\u001b[0m\u001b[0m\n\u001b[0m\u001b[1;32m      4\u001b[0m     \u001b[0mtransformed_data\u001b[0m\u001b[0;34m.\u001b[0m\u001b[0mappend\u001b[0m\u001b[0;34m(\u001b[0m\u001b[0;34m[\u001b[0m\u001b[0mdataset\u001b[0m\u001b[0;34m.\u001b[0m\u001b[0mcategorical_names\u001b[0m\u001b[0;34m[\u001b[0m\u001b[0mi\u001b[0m\u001b[0;34m]\u001b[0m\u001b[0;34m[\u001b[0m\u001b[0mint\u001b[0m\u001b[0;34m(\u001b[0m\u001b[0mr_\u001b[0m\u001b[0;34m)\u001b[0m\u001b[0;34m]\u001b[0m \u001b[0;32mfor\u001b[0m \u001b[0mi\u001b[0m\u001b[0;34m,\u001b[0m \u001b[0mr_\u001b[0m \u001b[0;32min\u001b[0m \u001b[0menumerate\u001b[0m\u001b[0;34m(\u001b[0m\u001b[0mr\u001b[0m\u001b[0;34m)\u001b[0m\u001b[0;34m]\u001b[0m\u001b[0;34m)\u001b[0m\u001b[0;34m\u001b[0m\u001b[0;34m\u001b[0m\u001b[0m\n\u001b[1;32m      5\u001b[0m \u001b[0;34m\u001b[0m\u001b[0m\n",
      "\u001b[0;31mNameError\u001b[0m: name 'dataset' is not defined"
     ]
    }
   ],
   "source": [
    "transformed_data = []\n",
    "\n",
    "for r in dataset.train:\n",
    "    transformed_data.append([dataset.categorical_names[i][int(r_)] for i, r_ in enumerate(r)])        \n",
    "\n",
    "print(transformed_data[0])\n",
    "\n",
    "train_data = pd.DataFrame(transformed_data, columns=dataset.feature_names)\n",
    "print(train_data.shape)\n",
    "nb_vals = 75\n",
    "\n",
    "y=[]\n",
    "for k in range(0, nb_vals):\n",
    "    y.append(c.predict(dataset.train[k].reshape(1, -1))[0])\n"
   ]
  },
  {
   "cell_type": "code",
   "execution_count": 6,
   "metadata": {},
   "outputs": [
    {
     "name": "stdout",
     "output_type": "stream",
     "text": [
      "Generating arguments\n",
      "750  potential arg checked.\n",
      "len  1 : 1 ,  0\n",
      "5250  potential arg checked.\n",
      "len  2 : 46 ,  66\n",
      "22750  potential arg checked.\n",
      "len  3 : 265 ,  248\n",
      "68250  potential arg checked.\n",
      "len  4 : 237 ,  214\n",
      "150150  potential arg checked.\n",
      "len  5 : 58 ,  55\n",
      "250250  potential arg checked.\n",
      "len  6 : 7 ,  11\n",
      "321750  potential arg checked.\n",
      "len  7 : 0 ,  0\n",
      "Saving to  saves/rcdv_50_minimals.df\n"
     ]
    }
   ],
   "source": [
    "import arg_explainer as ae\n",
    "from importlib import reload\n",
    "reload(ae)\n",
    "import arg_explainer as ae\n",
    "explainer = ae.ArgTabularExplainer(c, train_data.iloc[0:nb_vals], y, 'rcdv_' + str(nb_vals), compute=True)"
   ]
  },
  {
   "cell_type": "code",
   "execution_count": 7,
   "metadata": {},
   "outputs": [
    {
     "name": "stdout",
     "output_type": "stream",
     "text": [
      "rcdv_50\n",
      "len(R_atk) =  60720\n",
      "5 highest degrees: [(frozenset({2, 4, 10, 13, 16, 21}), 506)\n",
      " (frozenset({2, 4, 10, 12, 14, 21}), 506)\n",
      " (frozenset({2, 4, 10, 16, 21, 27}), 515) (frozenset({18}), 523)\n",
      " (frozenset({2, 4, 8, 10, 14, 21}), 527)]\n"
     ]
    },
    {
     "data": {
      "image/png": "[encoded data removed]",
      "text/plain": [
       "<Figure size 432x288 with 1 Axes>"
      ]
     },
     "metadata": {},
     "output_type": "display_data"
    }
   ],
   "source": [
    "explainer.build_attack_graph(compute=True, display_graph=True)"
   ]
  },
  {
   "cell_type": "code",
   "execution_count": null,
   "metadata": {},
   "outputs": [
    {
     "name": "stdout",
     "output_type": "stream",
     "text": [
      "0.08328898204184201\n"
     ]
    }
   ],
   "source": [
    "explainer.set_strategy('max_covi')\n",
    "## Define strategy before calling explainer.explain()\n",
    "explainer.display_explanations()"
   ]
  },
  {
   "cell_type": "code",
   "execution_count": null,
   "metadata": {},
   "outputs": [],
   "source": [
    "anchor_explainer = anchor_tabular.AnchorTabularExplainer(\n",
    "    dataset.class_names,\n",
    "    dataset.feature_names,\n",
    "    dataset.train,\n",
    "    dataset.categorical_names)\n",
    "idx = 0\n",
    "np.random.seed(1)\n",
    "instance = dataset.train[idx].reshape(1, -1)[0]\n",
    "print(\"Anchor\")\n",
    "print([dataset.categorical_names[i][int(r_)] for i, r_ in enumerate(instance)])\n",
    "\n",
    "print('Prediction: ', anchor_explainer.class_names[c.predict(dataset.train[0].reshape(1, -1))[0]])\n",
    "exp = anchor_explainer.explain_instance(dataset.train[idx], c.predict, threshold=0.95)\n",
    "print('Anchor: %s' % (' AND '.join(exp.names())))\n",
    "print('Precision: %.2f' % exp.precision())\n",
    "print('Coverage: %.2f' % exp.coverage())\n",
    "\n",
    "print(\"Arg:\", idx)\n",
    "print(explainer.explain_instance(idx))"
   ]
  },
  {
   "cell_type": "code",
   "execution_count": null,
   "metadata": {},
   "outputs": [],
   "source": []
  },
  {
   "cell_type": "code",
   "execution_count": null,
   "metadata": {},
   "outputs": [],
   "source": []
  },
  {
   "cell_type": "code",
   "execution_count": null,
   "metadata": {},
   "outputs": [],
   "source": []
  },
  {
   "cell_type": "code",
   "execution_count": null,
   "metadata": {},
   "outputs": [],
   "source": []
  },
  {
   "cell_type": "code",
   "execution_count": null,
   "metadata": {
    "colab": {
     "base_uri": "https://localhost:8080/",
     "height": 386
    },
    "executionInfo": {
     "elapsed": 1133,
     "status": "ok",
     "timestamp": 1654677063837,
     "user": {
      "displayName": "Henri Trenquier",
      "userId": "18067802191641776965"
     },
     "user_tz": -120
    },
    "id": "RhaXY5_WDTyR",
    "outputId": "1ab8e12d-1e66-442b-d115-a930837bb8ad"
   },
   "outputs": [],
   "source": [
    "train_data = pd.read_csv(\"../datasets/rcdv/train.csv\")\n",
    "# test_data = pd.read_csv(\"datasets/rcdv/test.csv\")\n",
    "train_data.head()"
   ]
  },
  {
   "cell_type": "markdown",
   "metadata": {
    "id": "WbJtzAokJ3iZ"
   },
   "source": [
    "Preprocessing from https://www.kaggle.com/saraswat40/titanic-simple-tensorflow-neural-network\n"
   ]
  },
  {
   "cell_type": "code",
   "execution_count": null,
   "metadata": {
    "colab": {
     "base_uri": "https://localhost:8080/",
     "height": 541
    },
    "executionInfo": {
     "elapsed": 645,
     "status": "ok",
     "timestamp": 1654677067258,
     "user": {
      "displayName": "Henri Trenquier",
      "userId": "18067802191641776965"
     },
     "user_tz": -120
    },
    "id": "4UwyqS3iExin",
    "outputId": "e15703f5-329e-472a-8dc1-2f463eeac41e"
   },
   "outputs": [],
   "source": [
    "# Data pre-analysis: Kaggle\n",
    "train_test_combined = pd.concat([train_data, test_data], axis=0, sort=True)\n",
    "\n",
    "sns.countplot(x='Race', data=train_test_combined, hue='Recidivism_Within_3years')\n",
    "plt.xticks\n",
    "plt.show()\n",
    "\n",
    "sns.countplot(x='Gender', data=train_test_combined, hue='Recidivism_Within_3years')\n",
    "plt.xticks\n",
    "plt.show()"
   ]
  },
  {
   "cell_type": "code",
   "execution_count": null,
   "metadata": {
    "colab": {
     "base_uri": "https://localhost:8080/"
    },
    "executionInfo": {
     "elapsed": 4,
     "status": "ok",
     "timestamp": 1654677824500,
     "user": {
      "displayName": "Henri Trenquier",
      "userId": "18067802191641776965"
     },
     "user_tz": -120
    },
    "id": "97R8os63GBs5",
    "outputId": "f8ca65fe-b96b-4357-e0c1-6c4e6d81a543"
   },
   "outputs": [],
   "source": [
    "# Data cleanup: Kaggle\n",
    "train_data_clean1 = train_data.drop(columns=['Recidivism_Arrest_Year1','Recidivism_Arrest_Year2','Recidivism_Arrest_Year3'])\n",
    "train_data_clean1 = train_data_clean1.iloc[0:1000]\n",
    "#test_data_clean1 = test_data.drop(columns=['Recidivism_Arrest_Year1','Recidivism_Arrest_Year2','Recidivism_Arrest_Year3'])\n",
    "train_data_clean1.head()\n",
    "\n",
    "# Missing values in data\n",
    "print(\"Missing values in train:\")\n",
    "print(train_data_clean1.isnull().sum())\n",
    "#print(\"Missing values in test:\")\n",
    "#print(test_data_clean1.isnull().sum())\n",
    "\n",
    "# Replace missing by mean value in train\n",
    "train_data_clean2 = train_data_clean1.copy()\n",
    "mean_srsf = train_data_clean1['Supervision_Risk_Score_First'].mean()\n",
    "train_data_clean2['Supervision_Risk_Score_First'].fillna(mean_srsf, inplace=True)\n",
    "mean_adpd = train_data_clean1['Avg_Days_per_DrugTest'].mean()\n",
    "train_data_clean2['Avg_Days_per_DrugTest'].fillna(mean_adpd, inplace=True)\n",
    "mean_dtthc = train_data_clean1['DrugTests_THC_Positive'].mean()\n",
    "train_data_clean2['DrugTests_THC_Positive'].fillna(mean_dtthc, inplace=True)\n",
    "mean_dtc = train_data_clean1['DrugTests_Cocaine_Positive'].mean()\n",
    "train_data_clean2['DrugTests_Cocaine_Positive'].fillna(mean_dtc, inplace=True)\n",
    "mean_dtm = train_data_clean1['DrugTests_Meth_Positive'].mean()\n",
    "train_data_clean2['DrugTests_Meth_Positive'].fillna(mean_dtm, inplace=True)\n",
    "mean_dto = train_data_clean1['DrugTests_Other_Positive'].mean()\n",
    "train_data_clean2['DrugTests_Other_Positive'].fillna(mean_dto, inplace=True)\n",
    "mean_pde = train_data_clean1['Percent_Days_Employed'].mean()\n",
    "train_data_clean2['Percent_Days_Employed'].fillna(mean_pde, inplace=True)\n",
    "mean_jpy = train_data_clean1['Jobs_Per_Year'].mean()\n",
    "train_data_clean2['Jobs_Per_Year'].fillna(mean_jpy, inplace=True)\n",
    "train_data_clean2['Gang_Affiliated'].fillna('na', inplace=True)\n",
    "train_data_clean2['Supervision_Level_First'].fillna('na', inplace=True)\n",
    "train_data_clean2['Prison_Offense'].fillna('na', inplace=True)\n",
    "\n",
    "print(\"CLeaning...\")\n",
    "print(\"Missing values in train:\")\n",
    "print(train_data_clean2.isnull().sum())\n",
    "\n",
    "# Replace missing by mean value in test\n",
    "#test_data_clean2 = test_data_clean1.copy()\n",
    "#mean_age_test = test_data_clean1['Age'].mean()\n",
    "#test_data_clean2['Age'].fillna(mean_age_test, inplace=True)\n",
    "#mean_fare_test = test_data_clean1['Fare'].mean()\n",
    "#test_data_clean2['Fare'].fillna(mean_fare_test, inplace=True)\n",
    "# Maybe later...\n"
   ]
  },
  {
   "cell_type": "code",
   "execution_count": null,
   "metadata": {
    "colab": {
     "base_uri": "https://localhost:8080/"
    },
    "executionInfo": {
     "elapsed": 399,
     "status": "ok",
     "timestamp": 1654677828180,
     "user": {
      "displayName": "Henri Trenquier",
      "userId": "18067802191641776965"
     },
     "user_tz": -120
    },
    "id": "KvU3pR05JoFU",
    "outputId": "7c9689c8-6967-4d13-c36e-689da44e11ce"
   },
   "outputs": [],
   "source": [
    "# Quantile based discretization with pandas qcut\n",
    "train_data_clean3 = train_data_clean2.copy()\n",
    "train_data_clean3['Residence_PUMA'] = pd.qcut(train_data_clean2['Residence_PUMA'], 8)\n",
    "train_data_clean3['Avg_Days_per_DrugTest'] = pd.qcut(train_data_clean2['Avg_Days_per_DrugTest'], 8, duplicates='drop')\n",
    "train_data_clean3['DrugTests_THC_Positive'] = pd.qcut(train_data_clean2['DrugTests_THC_Positive'], 8, duplicates='drop')\n",
    "train_data_clean3['DrugTests_Cocaine_Positive'] = pd.qcut(train_data_clean2['DrugTests_Cocaine_Positive'], 8, duplicates='drop')\n",
    "train_data_clean3['DrugTests_Meth_Positive'] = pd.qcut(train_data_clean2['DrugTests_Meth_Positive'], 8, duplicates='drop')\n",
    "train_data_clean3['DrugTests_Other_Positive'] = pd.qcut(train_data_clean2['DrugTests_Other_Positive'], 8, duplicates='drop')\n",
    "train_data_clean3['Percent_Days_Employed'] = pd.qcut(train_data_clean2['Percent_Days_Employed'], 8, duplicates='drop')\n",
    "train_data_clean3['Jobs_Per_Year'] = pd.qcut(train_data_clean2['Jobs_Per_Year'], 8, duplicates='drop')\n",
    "\n",
    "y = train_data_clean3['Recidivism_Within_3years']\n",
    "train_data_clean3 = train_data_clean3.drop(columns=['Gang_Affiliated','Recidivism_Within_3years', 'Residence_PUMA', 'Avg_Days_per_DrugTest', \n",
    "                                                    'DrugTests_THC_Positive','DrugTests_Cocaine_Positive','DrugTests_Meth_Positive',\n",
    "                                                    'DrugTests_Other_Positive','Percent_Days_Employed','Jobs_Per_Year'])\n",
    "\n",
    "oh_enc = OneHotEncoder(handle_unknown='ignore', sparse=True)\n",
    "X = oh_enc.fit_transform(train_data_clean3).todok()\n",
    "feature_names = oh_enc.get_feature_names_out(train_data_clean3.columns)\n",
    "t_X = X.transpose().toarray()\n",
    "print(X.shape)"
   ]
  },
  {
   "cell_type": "code",
   "execution_count": null,
   "metadata": {
    "id": "ene3YHZmcRl4"
   },
   "outputs": [],
   "source": [
    "import arg_explainer as ae\n",
    "from importlib import reload\n",
    "reload(ae)\n",
    "import arg_explainer as ae\n",
    "explainer = ae.ArgTabularExplainer(None, train_data.iloc[0:nb_vals], y, 'adult_' + str(nb_vals), compute=False)"
   ]
  },
  {
   "cell_type": "code",
   "execution_count": null,
   "metadata": {
    "colab": {
     "base_uri": "https://localhost:8080/"
    },
    "executionInfo": {
     "elapsed": 441,
     "status": "ok",
     "timestamp": 1654677830254,
     "user": {
      "displayName": "Henri Trenquier",
      "userId": "18067802191641776965"
     },
     "user_tz": -120
    },
    "id": "quD1Ei3EQkvp",
    "outputId": "c27fe1f9-dc75-4468-9c1a-58d2b066c1a6"
   },
   "outputs": [],
   "source": [
    "# Arg gen\n",
    "\n",
    "instances_by_feature = {}\n",
    "\n",
    "for i, col in enumerate(t_X):\n",
    "    instances_by_feature.update({i: list(np.where(col)[0])})\n",
    "\n",
    "print(instances_by_feature)\n",
    "\n",
    "# Coverage\n",
    "covi_by_arg = dict()\n",
    "covc_by_arg = dict()\n",
    "\n",
    "def generate_args_lenN(n, ibyf, dataset, predictions, minimals=None):\n",
    "    \"\"\"\n",
    "    Generates arguments of length n, given arguments of length 1.. n-1\n",
    "    :param n: length of arguments to be generated\n",
    "    :param ibyf: instances_by_feature\n",
    "    :param predictions:\n",
    "    :param minimals: arguments (minimal)\n",
    "    :return:\n",
    "    \"\"\"\n",
    "\n",
    "    def is_minimal(potential_arg, cl, minimals, n):\n",
    "        # cl is class\n",
    "        set_potential_arg = set(potential_arg)\n",
    "        for k in range(n):\n",
    "            for comb_ in combinations(potential_arg, k+1):\n",
    "                if frozenset(comb_) in minimals[cl][k]:\n",
    "                    return False\n",
    "        return True\n",
    "\n",
    "    if minimals is None:\n",
    "        minimals = ([], [])\n",
    "    assert len(minimals[0]) == n-1\n",
    "    minimals[0].append(set())\n",
    "    minimals[1].append(set())\n",
    "\n",
    "    args = [set(), set()]\n",
    "    potential_args_checked_count = 0\n",
    "    for i, row in enumerate(dataset):\n",
    "        for potential_arg in combinations(np.where(row)[0], n):\n",
    "            cl = predictions[i]\n",
    "            potential_args_checked_count += 1\n",
    "            if not is_minimal(potential_arg, cl, minimals, n-1):\n",
    "                continue\n",
    "            selection = set.intersection(*[set(ibyf[w]) for w in potential_arg])  # all rows with all features of potential argument\n",
    "            selection_preds = [predictions[i_] for i_ in selection]\n",
    "            if selection_preds[:-1] == selection_preds[1:]:\n",
    "                    args[selection_preds[0]].add(frozenset(potential_arg))\n",
    "                    covi_by_arg.update({frozenset(potential_arg): selection}) #covi\n",
    "                    minimals[cl][n-1].add(frozenset(potential_arg))\n",
    "                    covc_by_arg.update({frozenset(potential_arg): set(selection_preds)}) #covc\n",
    "    print(potential_args_checked_count, ' potential arg checked.')\n",
    "    return args, minimals\n",
    "\n",
    "  \n",
    "\n",
    "def read_args(minimals, feature_names):\n",
    "    arguments = [[], []]\n",
    "    for cl in range(len(minimals)):\n",
    "        for a in range(len(minimals[cl])):\n",
    "            for f in minimals[cl][a]:\n",
    "                arguments[cl].append(tuple([feature_names[k] for k in f]))\n",
    "    return arguments"
   ]
  },
  {
   "cell_type": "code",
   "execution_count": null,
   "metadata": {
    "colab": {
     "base_uri": "https://localhost:8080/",
     "height": 556,
     "output_embedded_package_id": "16IIv8i_mdVSakb82kHKkJdnm66HpuRe1"
    },
    "executionInfo": {
     "elapsed": 28774606,
     "status": "error",
     "timestamp": 1654706606894,
     "user": {
      "displayName": "Henri Trenquier",
      "userId": "18067802191641776965"
     },
     "user_tz": -120
    },
    "id": "DqEHsdxKQw3G",
    "outputId": "52f4297c-405d-407f-e6ae-726554a2f787"
   },
   "outputs": [],
   "source": [
    "n = 0\n",
    "minimals = None\n",
    "print(\"len \", n, \":\", minimals)\n",
    "while not minimals or len(minimals[0][-1]) != 0 or len(minimals[1][-1]) != 0 or n<1:\n",
    "    n += 1\n",
    "    args, minimals = generate_args_lenN(n, instances_by_feature, X.toarray(), y, minimals)\n",
    "    print(\"len \", n, \":\", minimals)"
   ]
  },
  {
   "cell_type": "code",
   "execution_count": null,
   "metadata": {
    "colab": {
     "base_uri": "https://localhost:8080/"
    },
    "executionInfo": {
     "elapsed": 71,
     "status": "ok",
     "timestamp": 1648815425408,
     "user": {
      "displayName": "Henri Trenquier",
      "photoUrl": "https://lh3.googleusercontent.com/a/default-user=s64",
      "userId": "18067802191641776965"
     },
     "user_tz": -120
    },
    "id": "0otLN4EMRINO",
    "outputId": "38ec308b-33c7-4e5b-b244-e21af395baf3"
   },
   "outputs": [],
   "source": [
    "pprint(read_args(minimals, feature_names)[0])"
   ]
  },
  {
   "cell_type": "code",
   "execution_count": null,
   "metadata": {
    "colab": {
     "base_uri": "https://localhost:8080/"
    },
    "executionInfo": {
     "elapsed": 54,
     "status": "ok",
     "timestamp": 1648815425410,
     "user": {
      "displayName": "Henri Trenquier",
      "photoUrl": "https://lh3.googleusercontent.com/a/default-user=s64",
      "userId": "18067802191641776965"
     },
     "user_tz": -120
    },
    "id": "Z_kqyZDbUdZj",
    "outputId": "f0a81342-08ac-47a1-dedb-95c7fb83a951"
   },
   "outputs": [],
   "source": [
    "pprint(read_args(minimals, feature_names)[1])"
   ]
  },
  {
   "cell_type": "code",
   "execution_count": null,
   "metadata": {
    "id": "7dlhJoEpRlt3"
   },
   "outputs": [],
   "source": [
    "from os import path\n",
    "import networkx as nx\n",
    "import pydot\n",
    "\n",
    "def consistent(arg1, arg2, col_p_features):\n",
    "    for f1, f2 in zip(list(arg1), list(arg2)):\n",
    "        if f1 != f2 and col_p_feature[f1] == col_p_feature[f2]:\n",
    "            return False\n",
    "    return True\n",
    "\n",
    "def build_r_atk(minimals, col_p_feature, output_path=''):\n",
    "    R_atk = []\n",
    "    for cl in range(2):\n",
    "        for l in range(len(minimals[cl])):\n",
    "            for h1 in minimals[cl][l]:\n",
    "                for l2 in range(l-1):\n",
    "                    for h2 in minimals[1-cl][l2]:\n",
    "                        if consistent(h1, h2, col_p_feature):\n",
    "                            R_atk.append((h1, h2))\n",
    "\n",
    "    pd.to_pickle(R_atk, path.join(output_path, 'R_atk_rt2_dev.df'))\n",
    "\n",
    "\n",
    "def evaluate_r_atk(minimals, col_p_feature, input_path=''):\n",
    "    build_r_atk(minimals, col_p_feature, input_path)\n",
    "    R_atk = pd.read_pickle(path.join(input_path, 'R_atk_rt2_dev.df'))\n",
    "    print('len', len(R_atk))\n",
    "\n",
    "    G = nx.Graph()\n",
    "    G.add_edges_from(R_atk)\n",
    "    #G = nx.petersen_graph()\n",
    "    nx.draw(G, with_labels=True, font_weight='bold')\n",
    "    nx.drawing.nx_pydot.write_dot(G, \"R_atk_fig.dot\")\n",
    "    plt.savefig(\"R_atk_fig.png\")\n",
    "    return G"
   ]
  },
  {
   "cell_type": "code",
   "execution_count": null,
   "metadata": {
    "colab": {
     "base_uri": "https://localhost:8080/",
     "height": 565
    },
    "executionInfo": {
     "elapsed": 9286,
     "status": "ok",
     "timestamp": 1648815435210,
     "user": {
      "displayName": "Henri Trenquier",
      "photoUrl": "https://lh3.googleusercontent.com/a/default-user=s64",
      "userId": "18067802191641776965"
     },
     "user_tz": -120
    },
    "id": "HfCFR4gpRvOY",
    "outputId": "6f7cc20c-8288-4ef1-a2ba-df0a8b525c97"
   },
   "outputs": [],
   "source": [
    "# Building Attack graph\n",
    "\n",
    "features_p_col = {}\n",
    "col_p_feature = {}\n",
    "\n",
    "for col in train_data_clean3.columns:\n",
    "    features_p_col[col] = set()\n",
    "    for i, f in enumerate(feature_names):\n",
    "        if col in f:\n",
    "            features_p_col[col].add(i)\n",
    "            col_p_feature[i] = col\n",
    "\n",
    "print(features_p_col)\n",
    "print(col_p_feature)\n",
    "\n",
    "G = evaluate_r_atk(minimals, col_p_feature)\n",
    "\n",
    "degs = np.array(list(G.degree()), dtype = [('node', 'object'), ('degree', int)])\n",
    "degrees = np.sort(degs, order='degree')\n",
    "print(degrees[-20:])\n"
   ]
  },
  {
   "cell_type": "code",
   "execution_count": null,
   "metadata": {
    "colab": {
     "base_uri": "https://localhost:8080/"
    },
    "executionInfo": {
     "elapsed": 47,
     "status": "ok",
     "timestamp": 1648815435214,
     "user": {
      "displayName": "Henri Trenquier",
      "photoUrl": "https://lh3.googleusercontent.com/a/default-user=s64",
      "userId": "18067802191641776965"
     },
     "user_tz": -120
    },
    "id": "afPkdBEnh5XF",
    "outputId": "e8280c5c-2429-4b2b-9306-94b0259d0d87"
   },
   "outputs": [],
   "source": [
    "# Building Naive extensions\n",
    "input_path=''\n",
    "R_atk = pd.read_pickle(path.join(input_path, 'R_atk_rt2_dev.df'))\n",
    "\n",
    "all_args = set()\n",
    "for cl in range(len(minimals)):\n",
    "    for l in range(len(minimals[cl])):\n",
    "          all_args.update(minimals[cl][l])\n",
    "\n",
    "print(len(all_args), ' args in total.')\n",
    "\n",
    "# Finding naive extensions can also be done by finding all maximal independent \n",
    "# sets: nx.maximal_independent_set(G) can output one random one.\n",
    "\n",
    "naive_extensions = {}\n",
    "for (h1, h2) in R_atk:\n",
    "    if h1 not in naive_extensions:\n",
    "        naive_extensions[h1] = all_args.copy()\n",
    "    if h2 not in naive_extensions:\n",
    "        naive_extensions[h2] = all_args.copy()\n",
    "    naive_extensions[h1].discard(h2)\n",
    "    naive_extensions[h2].discard(h1)\n",
    "\n",
    "print(len(naive_extensions))\n",
    "\n",
    "print(set.intersection(*naive_extensions.values()))"
   ]
  },
  {
   "cell_type": "code",
   "execution_count": null,
   "metadata": {
    "colab": {
     "base_uri": "https://localhost:8080/"
    },
    "executionInfo": {
     "elapsed": 1666,
     "status": "ok",
     "timestamp": 1648815436852,
     "user": {
      "displayName": "Henri Trenquier",
      "photoUrl": "https://lh3.googleusercontent.com/a/default-user=s64",
      "userId": "18067802191641776965"
     },
     "user_tz": -120
    },
    "id": "lHM0ckPUMNea",
    "outputId": "e5854c64-93cc-4d22-da2c-b450dfedb4fd"
   },
   "outputs": [],
   "source": [
    "covi_by_ext = dict()\n",
    "covc_by_ext = dict()\n",
    "max_covi = {}\n",
    "max_covi_ext = {}\n",
    "\n",
    "for ext in naive_extensions.values():\n",
    "    covi = set.union(*[covi_by_arg[arg] for arg in ext])\n",
    "    covi_by_ext.update({frozenset(ext): covi})\n",
    "    if len(covi) > len(max_covi):\n",
    "        max_covi_ext = ext\n",
    "    covc = set.union(*[covc_by_arg[arg] for arg in ext])\n",
    "    covc_by_ext.update({frozenset(ext): covc})\n",
    "\n",
    "print(len(covi_by_ext[frozenset(max_covi_ext)]), \"/\", len(X))\n",
    "\n",
    "sorted_covs = [len(cov) for cov in covi_by_ext.values()]\n",
    "sorted_covs.sort()\n",
    "print(sorted_covs)\n",
    "\n",
    "for args in combinations(covi_by_ext.values(), 2):\n",
    "    assert(args not in R_atk)\n",
    "\n",
    "print(\"Coherence check\")\n",
    "\n",
    "print(max_covi_ext)\n"
   ]
  },
  {
   "cell_type": "code",
   "execution_count": null,
   "metadata": {
    "id": "1v46tyPfSSfZ"
   },
   "outputs": [],
   "source": [
    "def explain(instance, i, extension=max_covi_ext, covi_by_ext=covi_by_ext):\n",
    "    expl = set()\n",
    "    instance_set = set(np.where(instance.toarray() != 0)[1])\n",
    "    if i in covi_by_ext[frozenset(extension)]:\n",
    "        for arg in extension:\n",
    "            if arg.issubset(instance_set):\n",
    "                expl.add(arg)\n",
    "    return expl\n",
    "\n",
    "def parse_features(explanation, feature_names=feature_names):\n",
    "    parsed_expl = set()\n",
    "    for arg in explanation:\n",
    "        parsed_expl.add(frozenset([feature_names[k] for k in arg]))\n",
    "    return parsed_expl\n",
    "\n",
    "def coverage()"
   ]
  },
  {
   "cell_type": "code",
   "execution_count": null,
   "metadata": {
    "colab": {
     "base_uri": "https://localhost:8080/"
    },
    "executionInfo": {
     "elapsed": 2831,
     "status": "ok",
     "timestamp": 1648815439664,
     "user": {
      "displayName": "Henri Trenquier",
      "photoUrl": "https://lh3.googleusercontent.com/a/default-user=s64",
      "userId": "18067802191641776965"
     },
     "user_tz": -120
    },
    "id": "jVDnIzfRZK7-",
    "outputId": "156123a9-7721-4b27-abbc-a37c001ec1ec"
   },
   "outputs": [],
   "source": [
    "empty = 0\n",
    "tot = 0\n",
    "for k in range(X.shape[0]):\n",
    "    expl = parse_features(explain(X.getrow(k), k, max_covi_ext, covi_by_ext))\n",
    "    print(k, expl)\n",
    "    if not expl:\n",
    "        empty += 1\n",
    "    tot += 1\n",
    "\n",
    "print(empty, tot)"
   ]
  },
  {
   "cell_type": "markdown",
   "metadata": {
    "id": "fVBLDm55SPHP"
   },
   "source": [
    "## Coverage"
   ]
  },
  {
   "cell_type": "code",
   "execution_count": null,
   "metadata": {
    "colab": {
     "base_uri": "https://localhost:8080/",
     "height": 428
    },
    "executionInfo": {
     "elapsed": 38122,
     "status": "error",
     "timestamp": 1648815477761,
     "user": {
      "displayName": "Henri Trenquier",
      "photoUrl": "https://lh3.googleusercontent.com/a/default-user=s64",
      "userId": "18067802191641776965"
     },
     "user_tz": -120
    },
    "id": "qZaHMCVMOTMX",
    "outputId": "dbb0cd95-2a6d-4d74-bb89-76184e06a072"
   },
   "outputs": [],
   "source": [
    "# Compute coverages:\n",
    "\n",
    "input_space_size = np.product([len(f_dom) for f_dom in features_p_col.values()])\n",
    "print('Input space size= ', input_space_size)\n",
    "\n",
    "def potential_arg_cov(arg):\n",
    "    arg_domains = set()\n",
    "    for feature in arg:\n",
    "        arg_domains.add(col_p_feature[feature])\n",
    "    unconstrained_cols = set(features_p_col.keys()).difference(arg_domains)\n",
    "    potential_cov = np.product([len(features_p_col[uc]) for uc in unconstrained_cols])\n",
    "    return potential_cov\n",
    "\n",
    "def is_consistent(s, col_p_feature):\n",
    "    return len(s) == len(set([col_p_feature[f] for f in s]))\n",
    "\n",
    "def potential_ext_cov(set_args, max_depth=5):\n",
    "    total = 0\n",
    "    for k in tqdm(range(1, max_depth)):\n",
    "        sub_total = 0\n",
    "        for sets in combinations(ext, k):\n",
    "            union_sets = set.union(*[set(fs) for fs in sets])\n",
    "            if is_consistent(union_sets, col_p_feature):\n",
    "                sub_total += potential_arg_cov(union_sets)\n",
    "            else:\n",
    "              continue\n",
    "        total += (-1)**(k+1) * sub_total\n",
    "        print(total)\n",
    "    return total\n",
    "\n",
    "# potential_ext_cov(max_covi_ext)\n",
    "\n",
    "\n",
    "\n",
    "\n",
    "# cf DNF counting https://courses.cs.duke.edu//spring18/compsci630/lecture21.pdf\n",
    "\n",
    "arg = list(max_covi_ext)[0]\n",
    "print(arg)\n",
    "print(potential_arg_cov(arg))\n",
    "# print('Potential coverage for extension:', sum([potential_arg_cov(arg) for arg in max_covi_ext]))\n"
   ]
  },
  {
   "cell_type": "code",
   "execution_count": null,
   "metadata": {
    "id": "IVS-t_RSyIa3"
   },
   "outputs": [],
   "source": [
    "def explain(instance, extension):\n",
    "    explanation = {}\n",
    "    for arg in extension:\n",
    "        if arg.issubset(instance):\n",
    "            explanation.add(arg)\n",
    "\n",
    "    return explanation"
   ]
  }
 ],
 "metadata": {
  "colab": {
   "authorship_tag": "ABX9TyPbWPkhTWasJ7N/0eRTuyW3",
   "collapsed_sections": [],
   "name": "arg_rcdv.ipynb",
   "provenance": []
  },
  "kernelspec": {
   "display_name": "Python 3",
   "language": "python",
   "name": "python3"
  },
  "language_info": {
   "codemirror_mode": {
    "name": "ipython",
    "version": 3
   },
   "file_extension": ".py",
   "mimetype": "text/x-python",
   "name": "python",
   "nbconvert_exporter": "python",
   "pygments_lexer": "ipython3",
   "version": "3.8.5"
  }
 },
 "nbformat": 4,
 "nbformat_minor": 1
}
