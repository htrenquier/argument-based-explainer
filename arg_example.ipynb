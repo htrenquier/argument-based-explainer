{
 "cells": [
  {
   "cell_type": "code",
   "execution_count": 7,
   "metadata": {},
   "outputs": [],
   "source": [
    "from anchor import utils\n",
    "from anchor import anchor_tabular\n",
    "import pandas as pd\n",
    "import sklearn.ensemble"
   ]
  },
  {
   "cell_type": "code",
   "execution_count": 8,
   "metadata": {},
   "outputs": [],
   "source": [
    "dataset_folder = '../datasets/'\n",
    "dataset = utils.load_dataset('adult', balance=True, dataset_folder=dataset_folder, discretize=True)"
   ]
  },
  {
   "cell_type": "code",
   "execution_count": 9,
   "metadata": {},
   "outputs": [
    {
     "name": "stdout",
     "output_type": "stream",
     "text": [
      "Train 0.9350338780390594\n",
      "Test 0.8489483747609943\n"
     ]
    }
   ],
   "source": [
    "c = sklearn.ensemble.RandomForestClassifier(n_estimators=50, n_jobs=5)\n",
    "c.fit(dataset.train, dataset.labels_train)\n",
    "print('Train', sklearn.metrics.accuracy_score(dataset.labels_train, c.predict(dataset.train)))\n",
    "print('Test', sklearn.metrics.accuracy_score(dataset.labels_test, c.predict(dataset.test)))"
   ]
  },
  {
   "cell_type": "code",
   "execution_count": 10,
   "metadata": {},
   "outputs": [
    {
     "name": "stdout",
     "output_type": "stream",
     "text": [
      "['Age > 48.00', 'Self-emp-not-inc', 'Some-college', 'Married-civ-spouse', 'Sales', 'Husband', 'White', 'Male', '2', '0', '40.00 < Hours per week <= 45.00', 'United-States']\n",
      "(12545, 12)\n"
     ]
    }
   ],
   "source": [
    "transformed_data = []\n",
    "\n",
    "for r in dataset.train:\n",
    "    transformed_data.append([dataset.categorical_names[i][int(r_)] for i, r_ in enumerate(r)])        \n",
    "\n",
    "print(transformed_data[0])\n",
    "\n",
    "train_data = pd.DataFrame(transformed_data, columns=dataset.feature_names)\n",
    "print(train_data.shape)\n",
    "nb_vals = 25\n",
    "\n",
    "y=[]\n",
    "for k in range(0, nb_vals):\n",
    "    y.append(c.predict(dataset.train[k].reshape(1, -1))[0])\n"
   ]
  },
  {
   "cell_type": "code",
   "execution_count": 11,
   "metadata": {},
   "outputs": [
    {
     "name": "stdout",
     "output_type": "stream",
     "text": [
      "Generating arguments\n",
      "300  potential arg checked.\n",
      "len  1 : 16 ,  15\n",
      "1650  potential arg checked.\n",
      "len  2 : 43 ,  66\n",
      "5500  potential arg checked.\n",
      "len  3 : 18 ,  9\n",
      "12375  potential arg checked.\n",
      "len  4 : 15 ,  0\n",
      "19800  potential arg checked.\n",
      "len  5 : 0 ,  0\n",
      "Saving to  saves\\adult_25_minimals.df\n"
     ]
    }
   ],
   "source": [
    "import arg_explainer as ae\n",
    "from importlib import reload\n",
    "reload(ae)\n",
    "import arg_explainer as ae\n",
    "explainer = ae.ArgTabularExplainer(c, train_data.iloc[0:nb_vals], y, 'adult_' + str(nb_vals), compute=True)"
   ]
  },
  {
   "cell_type": "code",
   "execution_count": 12,
   "metadata": {},
   "outputs": [
    {
     "name": "stdout",
     "output_type": "stream",
     "text": [
      "adult_25\n",
      "len 1489\n",
      "[(frozenset({57}), 32) (frozenset({9}), 32) (frozenset({39}), 33)\n",
      " (frozenset({46}), 33) (frozenset({47}), 33)\n",
      " (frozenset({32, 35, 51, 7}), 71) (frozenset({32, 51, 44, 45}), 71)\n",
      " (frozenset({32, 35, 51, 45}), 71) (frozenset({32, 51, 44, 7}), 71)\n",
      " (frozenset({32, 35, 42, 51}), 71) (frozenset({32, 35, 58, 51}), 71)\n",
      " (frozenset({32, 42, 51, 44}), 73) (frozenset({16, 35, 42, 51}), 73)\n",
      " (frozenset({58, 51, 6, 14}), 74) (frozenset({16, 42, 51, 44}), 75)\n",
      " (frozenset({16, 42, 51, 7}), 75) (frozenset({32, 58, 51, 44}), 75)\n",
      " (frozenset({48, 51, 45, 6}), 76) (frozenset({51, 45, 6, 14}), 77)\n",
      " (frozenset({48, 58, 51, 6}), 80)]\n",
      "182  args in total.\n"
     ]
    },
    {
     "data": {
      "image/png": "[encoded data removed]",
      "text/plain": [
       "<Figure size 432x288 with 1 Axes>"
      ]
     },
     "metadata": {},
     "output_type": "display_data"
    }
   ],
   "source": [
    "explainer.build_attack_graph()\n",
    "explainer.build_naive_extensions()"
   ]
  },
  {
   "cell_type": "code",
   "execution_count": 13,
   "metadata": {},
   "outputs": [
    {
     "name": "stdout",
     "output_type": "stream",
     "text": [
      "Covi strategy's coverage: 25\n",
      "Top 5 covs: [25, 25, 25, 25, 25]\n",
      "id: 0 coverage: 2 Arg 1/8: frozenset({'Age_Age > 48.00', 'Education_Some-college', 'Sex_Male'})\n",
      "id: 1 coverage: 1 Arg 1/8: frozenset({'Relationship_Not-in-family', 'Occupation_Exec-managerial'})\n",
      "id: 2 coverage: 8 Arg 1/14: frozenset({'Country_United-States', 'Occupation_Exec-managerial'})\n",
      "id: 3 coverage: 8 Arg 1/11: frozenset({'Relationship_Not-in-family', 'Workclass_Private'})\n",
      "id: 4 coverage: 1 Arg 1/13: frozenset({'Hours per week_Hours per week <= 40.00', 'Sex_Male', 'Occupation_Sales', 'Workclass_Private'})\n",
      "id: 5 coverage: 2 Arg 1/3: frozenset({'Country_Mexico'})\n",
      "id: 6 coverage: 5 Arg 1/15: frozenset({'Hours per week_Hours per week <= 40.00', 'Race_White', 'Workclass_Local-gov'})\n",
      "id: 7 coverage: 8 Arg 1/7: frozenset({'Age_37.00 < Age <= 48.00', 'Occupation_Sales'})\n",
      "id: 8 coverage: 6 Arg 1/12: frozenset({'Age_Age > 48.00', 'Occupation_?'})\n",
      "id: 9 coverage: 5 Arg 1/3: frozenset({'Education_Bachelors', 'Relationship_Husband'})\n",
      "id: 10 coverage: 5 Arg 1/19: frozenset({'Age_37.00 < Age <= 48.00', 'Sex_Male'})\n",
      "id: 11 coverage: 1 Arg 1/2: frozenset({'Workclass_Self-emp-not-inc', 'Education_HS-grad'})\n",
      "id: 12 coverage: 4 Arg 1/8: frozenset({'Age_Age <= 28.00', 'Workclass_?'})\n",
      "id: 13 coverage: 4 Arg 1/12: frozenset({'Sex_Male', 'Hours per week_Hours per week <= 40.00', 'Race_White', 'Education_HS-grad'})\n",
      "id: 14 coverage: 7 Arg 1/7: frozenset({'Workclass_Local-gov', 'Marital Status_Married-civ-spouse'})\n",
      "id: 15 coverage: 6 Arg 1/9: frozenset({'Occupation_Sales', 'Workclass_Local-gov'})\n",
      "id: 16 coverage: 3 Arg 1/6: frozenset({'Education_Assoc-voc'})\n",
      "id: 17 coverage: 7 Arg 1/13: frozenset({'Relationship_Husband', 'Age_Age <= 28.00'})\n",
      "id: 18 coverage: 4 Arg 1/12: frozenset({'Hours per week_Hours per week > 45.00', 'Workclass_Private'})\n",
      "id: 19 coverage: 5 Arg 1/13: frozenset({'Age_Age <= 28.00', 'Workclass_Private'})\n",
      "id: 20 coverage: 4 Arg 1/10: frozenset({'Sex_Male', 'Hours per week_Hours per week <= 40.00', 'Race_White', 'Education_HS-grad'})\n",
      "id: 21 coverage: 8 Arg 1/13: frozenset({'Sex_Male', 'Race_Black'})\n",
      "id: 22 coverage: 5 Arg 1/7: frozenset({'Relationship_Not-in-family', 'Age_28.00 < Age <= 37.00'})\n",
      "id: 23 coverage: 5 Arg 1/14: frozenset({'Capital Loss_0', 'Sex_Female', 'Race_Black'})\n",
      "id: 24 coverage: 3 Arg 1/3: frozenset({'Education_Assoc-voc'})\n",
      "0 50\n"
     ]
    }
   ],
   "source": [
    "explainer.set_strategy('max_covi')\n",
    "## Define strategy before calling explainer.explain()\n",
    "explainer.display_explanations()"
   ]
  },
  {
   "cell_type": "code",
   "execution_count": 14,
   "metadata": {},
   "outputs": [
    {
     "name": "stdout",
     "output_type": "stream",
     "text": [
      "Covc strategy's coverage: 2\n",
      "Top 5 covs: [2, 2, 2, 2, 2]\n",
      "id: 0 coverage: 1 Arg 1/8: frozenset({'Age_Age > 48.00', 'Education_Some-college', 'Sex_Male'})\n",
      "id: 1 coverage: 1 Arg 1/8: frozenset({'Relationship_Not-in-family', 'Occupation_Exec-managerial'})\n",
      "id: 2 coverage: 1 Arg 1/14: frozenset({'Country_United-States', 'Occupation_Exec-managerial'})\n",
      "id: 3 coverage: 1 Arg 1/11: frozenset({'Relationship_Not-in-family', 'Workclass_Private'})\n",
      "id: 4 coverage: 1 Arg 1/13: frozenset({'Hours per week_Hours per week <= 40.00', 'Sex_Male', 'Occupation_Sales', 'Workclass_Private'})\n",
      "id: 5 coverage: 1 Arg 1/3: frozenset({'Country_Mexico'})\n",
      "id: 6 coverage: 1 Arg 1/15: frozenset({'Hours per week_Hours per week <= 40.00', 'Race_White', 'Workclass_Local-gov'})\n",
      "id: 7 coverage: 1 Arg 1/7: frozenset({'Age_37.00 < Age <= 48.00', 'Occupation_Sales'})\n",
      "id: 8 coverage: 1 Arg 1/12: frozenset({'Age_Age > 48.00', 'Occupation_?'})\n",
      "id: 9 coverage: 1 Arg 1/3: frozenset({'Education_Bachelors', 'Relationship_Husband'})\n",
      "id: 10 coverage: 1 Arg 1/19: frozenset({'Age_37.00 < Age <= 48.00', 'Sex_Male'})\n",
      "id: 11 coverage: 1 Arg 1/2: frozenset({'Workclass_Self-emp-not-inc', 'Education_HS-grad'})\n",
      "id: 12 coverage: 1 Arg 1/8: frozenset({'Age_Age <= 28.00', 'Workclass_?'})\n",
      "id: 13 coverage: 1 Arg 1/12: frozenset({'Sex_Male', 'Hours per week_Hours per week <= 40.00', 'Race_White', 'Education_HS-grad'})\n",
      "id: 14 coverage: 1 Arg 1/7: frozenset({'Workclass_Local-gov', 'Marital Status_Married-civ-spouse'})\n",
      "id: 15 coverage: 1 Arg 1/9: frozenset({'Occupation_Sales', 'Workclass_Local-gov'})\n",
      "id: 16 coverage: 1 Arg 1/6: frozenset({'Education_Assoc-voc'})\n",
      "id: 17 coverage: 1 Arg 1/13: frozenset({'Relationship_Husband', 'Age_Age <= 28.00'})\n",
      "id: 18 coverage: 1 Arg 1/12: frozenset({'Hours per week_Hours per week > 45.00', 'Workclass_Private'})\n",
      "id: 19 coverage: 1 Arg 1/13: frozenset({'Age_Age <= 28.00', 'Workclass_Private'})\n",
      "id: 20 coverage: 1 Arg 1/10: frozenset({'Sex_Male', 'Hours per week_Hours per week <= 40.00', 'Race_White', 'Education_HS-grad'})\n",
      "id: 21 coverage: 1 Arg 1/13: frozenset({'Sex_Male', 'Race_Black'})\n",
      "id: 22 coverage: 1 Arg 1/7: frozenset({'Relationship_Not-in-family', 'Age_28.00 < Age <= 37.00'})\n",
      "id: 23 coverage: 1 Arg 1/14: frozenset({'Capital Loss_0', 'Sex_Female', 'Race_Black'})\n",
      "id: 24 coverage: 1 Arg 1/3: frozenset({'Education_Assoc-voc'})\n",
      "0 50\n"
     ]
    }
   ],
   "source": [
    "explainer.set_strategy('max_covc')\n",
    "## Define strategy before calling explainer.explain()\n",
    "explainer.display_explanations()"
   ]
  }
 ],
 "metadata": {
  "kernelspec": {
   "display_name": "Python 3.9.12 ('argenv')",
   "language": "python",
   "name": "python3"
  },
  "language_info": {
   "codemirror_mode": {
    "name": "ipython",
    "version": 3
   },
   "file_extension": ".py",
   "mimetype": "text/x-python",
   "name": "python",
   "nbconvert_exporter": "python",
   "pygments_lexer": "ipython3",
   "version": "3.9.12"
  },
  "orig_nbformat": 4,
  "vscode": {
   "interpreter": {
    "hash": "34f4a23e072925201d1edce259708610e2f98260d5449b97ac01b140140f4b0a"
   }
  }
 },
 "nbformat": 4,
 "nbformat_minor": 2
}
