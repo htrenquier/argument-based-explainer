{
 "cells": [
  {
   "cell_type": "code",
   "execution_count": 2,
   "metadata": {},
   "outputs": [],
   "source": [
    "from anchor import utils\n",
    "from anchor import anchor_tabular\n",
    "import pandas as pd\n",
    "import sklearn.ensemble\n",
    "import numpy as np\n",
    "from anchor import anchor_tabular"
   ]
  },
  {
   "cell_type": "code",
   "execution_count": 3,
   "metadata": {},
   "outputs": [],
   "source": [
    "dataset_folder = '../datasets/'\n",
    "dataset = utils.load_dataset('adult', balance=True, dataset_folder=dataset_folder, discretize=True)"
   ]
  },
  {
   "cell_type": "code",
   "execution_count": 4,
   "metadata": {},
   "outputs": [
    {
     "name": "stdout",
     "output_type": "stream",
     "text": [
      "Train 0.9350338780390594\n",
      "Test 0.8489483747609943\n"
     ]
    }
   ],
   "source": [
    "c = sklearn.ensemble.RandomForestClassifier(n_estimators=50, n_jobs=5)\n",
    "c.fit(dataset.train, dataset.labels_train)\n",
    "print('Train', sklearn.metrics.accuracy_score(dataset.labels_train, c.predict(dataset.train)))\n",
    "print('Test', sklearn.metrics.accuracy_score(dataset.labels_test, c.predict(dataset.test)))"
   ]
  },
  {
   "cell_type": "code",
   "execution_count": 115,
   "metadata": {},
   "outputs": [
    {
     "name": "stdout",
     "output_type": "stream",
     "text": [
      "['Age > 48.00', 'Self-emp-not-inc', 'Some-college', 'Married-civ-spouse', 'Sales', 'Husband', 'White', 'Male', '2', '0', '40.00 < Hours per week <= 45.00', 'United-States']\n",
      "(12545, 12)\n"
     ]
    }
   ],
   "source": [
    "transformed_data = []\n",
    "\n",
    "for r in dataset.train:\n",
    "    transformed_data.append([dataset.categorical_names[i][int(r_)] for i, r_ in enumerate(r)])        \n",
    "\n",
    "print(transformed_data[0])\n",
    "\n",
    "train_data = pd.DataFrame(transformed_data, columns=dataset.feature_names)\n",
    "print(train_data.shape)\n",
    "nb_vals = 100\n",
    "\n",
    "y=[]\n",
    "for k in range(0, nb_vals):\n",
    "    y.append(c.predict(dataset.train[k].reshape(1, -1))[0])\n"
   ]
  },
  {
   "cell_type": "code",
   "execution_count": 116,
   "metadata": {},
   "outputs": [],
   "source": [
    "import arg_explainer as ae\n",
    "from importlib import reload\n",
    "reload(ae)\n",
    "import arg_explainer as ae\n",
    "explainer = ae.ArgTabularExplainer(c, train_data.iloc[0:nb_vals], y, 'adult_' + str(nb_vals), compute=False)"
   ]
  },
  {
   "cell_type": "code",
   "execution_count": 118,
   "metadata": {},
   "outputs": [
    {
     "name": "stdout",
     "output_type": "stream",
     "text": [
      "329 281  args total\n",
      "adult_100\n",
      "len(R_atk) =  72953\n",
      "5 highest degrees: [(frozenset({67}), 321) (frozenset({53}), 327) (frozenset({54}), 327)\n",
      " (frozenset({57}), 329) (frozenset({56}), 329)]\n",
      "5 lowest degrees: [(frozenset({2, 36, 6}), 155) (frozenset({2, 28, 46}), 161)\n",
      " (frozenset({2, 28, 50}), 161) (frozenset({2, 34}), 162)\n",
      " (frozenset({1, 36, 6}), 163)]\n"
     ]
    }
   ],
   "source": [
    "explainer.build_attack_graph(compute=True, display_graph=False)"
   ]
  },
  {
   "cell_type": "code",
   "execution_count": null,
   "metadata": {},
   "outputs": [
    {
     "name": "stdout",
     "output_type": "stream",
     "text": [
      "0.3927588898759051\n"
     ]
    }
   ],
   "source": [
    "explainer.set_strategy('max_covc', 'existence')\n",
    "## Define strategy before calling explainer.explain()\n",
    "explainer.display_explanations()"
   ]
  },
  {
   "cell_type": "code",
   "execution_count": 41,
   "metadata": {},
   "outputs": [
    {
     "name": "stdout",
     "output_type": "stream",
     "text": [
      "0.4081798002219756\n",
      "Covi strategy's coverage: 20\n",
      "Top 5 covs: [51, 51, 51, 52, 54]\n",
      "id: 0 coverage: 0 Arg 1/0: None\n",
      "id: 1 coverage: 0 Arg 1/0: None\n",
      "id: 2 coverage: 0 Arg 1/0: None\n",
      "id: 3 coverage: 0 Arg 1/0: None\n",
      "id: 4 coverage: 0 Arg 1/0: None\n",
      "id: 5 coverage: 1 Arg 1/1: frozenset({'Workclass_Private', 'Occupation_Farming-fishing'})\n",
      "id: 6 coverage: 0 Arg 1/0: None\n",
      "id: 7 coverage: 0 Arg 1/0: None\n",
      "id: 8 coverage: 0 Arg 1/0: None\n",
      "id: 9 coverage: 0 Arg 1/0: None\n",
      "id: 10 coverage: 0 Arg 1/0: None\n",
      "id: 11 coverage: 0 Arg 1/0: None\n",
      "id: 12 coverage: 0 Arg 1/0: None\n",
      "id: 13 coverage: 4 Arg 1/2: frozenset({'Sex_Male', 'Education_HS-grad', 'Age_Age <= 28.00'})\n",
      "id: 14 coverage: 1 Arg 1/1: frozenset({'Marital Status_Married-civ-spouse', 'Workclass_Local-gov', 'Age_Age > 48.00'})\n",
      "id: 15 coverage: 0 Arg 1/0: None\n",
      "id: 16 coverage: 2 Arg 1/1: frozenset({'Education_Assoc-voc', 'Age_28.00 < Age <= 37.00'})\n",
      "id: 17 coverage: 0 Arg 1/0: None\n",
      "id: 18 coverage: 0 Arg 1/0: None\n",
      "id: 19 coverage: 0 Arg 1/0: None\n",
      "id: 20 coverage: 0 Arg 1/0: None\n",
      "id: 21 coverage: 0 Arg 1/0: None\n",
      "id: 22 coverage: 0 Arg 1/0: None\n",
      "id: 23 coverage: 0 Arg 1/0: None\n",
      "id: 24 coverage: 2 Arg 1/1: frozenset({'Education_Assoc-voc', 'Age_28.00 < Age <= 37.00'})\n",
      "id: 25 coverage: 0 Arg 1/0: None\n",
      "id: 26 coverage: 0 Arg 1/0: None\n",
      "id: 27 coverage: 1 Arg 1/1: frozenset({'Education_Some-college', 'Occupation_Protective-serv'})\n",
      "id: 28 coverage: 1 Arg 1/1: frozenset({'Education_Masters', 'Age_37.00 < Age <= 48.00'})\n",
      "id: 29 coverage: 0 Arg 1/0: None\n",
      "id: 30 coverage: 0 Arg 1/0: None\n",
      "id: 31 coverage: 6 Arg 1/3: frozenset({'Sex_Male', 'Education_HS-grad', 'Age_Age <= 28.00'})\n",
      "id: 32 coverage: 0 Arg 1/0: None\n",
      "id: 33 coverage: 0 Arg 1/0: None\n",
      "id: 34 coverage: 0 Arg 1/0: None\n",
      "id: 35 coverage: 4 Arg 1/1: frozenset({'Workclass_Private', 'Education_HS-grad', 'Age_Age <= 28.00'})\n",
      "id: 36 coverage: 0 Arg 1/0: None\n",
      "id: 37 coverage: 0 Arg 1/0: None\n",
      "id: 38 coverage: 0 Arg 1/0: None\n",
      "id: 39 coverage: 0 Arg 1/0: None\n",
      "id: 40 coverage: 0 Arg 1/0: None\n",
      "id: 41 coverage: 0 Arg 1/0: None\n",
      "id: 42 coverage: 0 Arg 1/0: None\n",
      "id: 43 coverage: 0 Arg 1/0: None\n",
      "id: 44 coverage: 4 Arg 1/1: frozenset({'Workclass_Private', 'Occupation_Adm-clerical'})\n",
      "id: 45 coverage: 0 Arg 1/0: None\n",
      "id: 46 coverage: 0 Arg 1/0: None\n",
      "id: 47 coverage: 2 Arg 1/3: frozenset({'Workclass_Private', 'Sex_Male', 'Education_HS-grad', 'Age_28.00 < Age <= 37.00'})\n",
      "id: 48 coverage: 0 Arg 1/0: None\n",
      "id: 49 coverage: 4 Arg 1/1: frozenset({'Workclass_Private', 'Occupation_Adm-clerical'})\n",
      "id: 50 coverage: 0 Arg 1/0: None\n",
      "id: 51 coverage: 0 Arg 1/0: None\n",
      "id: 52 coverage: 0 Arg 1/0: None\n",
      "id: 53 coverage: 0 Arg 1/0: None\n",
      "id: 54 coverage: 0 Arg 1/0: None\n",
      "id: 55 coverage: 0 Arg 1/0: None\n",
      "id: 56 coverage: 0 Arg 1/0: None\n",
      "id: 57 coverage: 1 Arg 1/2: frozenset({'Country_United-States', 'Workclass_Self-emp-not-inc', 'Occupation_Transport-moving'})\n",
      "id: 58 coverage: 0 Arg 1/0: None\n",
      "id: 59 coverage: 0 Arg 1/0: None\n",
      "id: 60 coverage: 0 Arg 1/0: None\n",
      "id: 61 coverage: 4 Arg 1/1: frozenset({'Workclass_Private', 'Occupation_Adm-clerical'})\n",
      "id: 62 coverage: 2 Arg 1/3: frozenset({'Workclass_Private', 'Sex_Male', 'Education_HS-grad', 'Age_28.00 < Age <= 37.00'})\n",
      "id: 63 coverage: 0 Arg 1/0: None\n",
      "id: 64 coverage: 3 Arg 1/1: frozenset({'Occupation_Handlers-cleaners', 'Workclass_Private'})\n",
      "id: 65 coverage: 4 Arg 1/1: frozenset({'Workclass_Private', 'Occupation_Adm-clerical'})\n",
      "id: 66 coverage: 0 Arg 1/0: None\n",
      "id: 67 coverage: 0 Arg 1/0: None\n",
      "id: 68 coverage: 4 Arg 1/2: frozenset({'Sex_Male', 'Education_HS-grad', 'Age_Age <= 28.00'})\n",
      "id: 69 coverage: 0 Arg 1/0: None\n",
      "id: 70 coverage: 0 Arg 1/0: None\n",
      "id: 71 coverage: 1 Arg 1/1: frozenset({'Workclass_Federal-gov', 'Occupation_Prof-specialty'})\n",
      "id: 72 coverage: 0 Arg 1/0: None\n",
      "id: 73 coverage: 0 Arg 1/0: None\n",
      "id: 74 coverage: 3 Arg 1/2: frozenset({'Education_Assoc-voc', 'Age_Age <= 28.00'})\n",
      "55 75\n"
     ]
    }
   ],
   "source": [
    "explainer.set_strategy('max_covi')\n",
    "## Define strategy before calling explainer.explain()\n",
    "explainer.display_explanations()"
   ]
  },
  {
   "cell_type": "code",
   "execution_count": 9,
   "metadata": {},
   "outputs": [
    {
     "name": "stdout",
     "output_type": "stream",
     "text": [
      "Anchor\n",
      "['Age > 48.00', 'Self-emp-not-inc', 'Some-college', 'Married-civ-spouse', 'Sales', 'Husband', 'White', 'Male', '2', '0', '40.00 < Hours per week <= 45.00', 'United-States']\n",
      "Prediction:  b'>50K'\n",
      "Anchor: Capital Gain = 2\n",
      "Precision: 1.00\n",
      "Coverage: 0.07\n",
      "Arg: 0\n",
      "id: 0 coverage: 10 Args5/5: {frozenset({'Occupation_Sales', 'Age_Age > 48.00'}), frozenset({'Workclass_Self-emp-not-inc', 'Age_Age > 48.00'}), frozenset({'Workclass_Self-emp-not-inc', 'Occupation_Sales'}), frozenset({'Education_Some-college', 'Workclass_Self-emp-not-inc'}), frozenset({'Education_Some-college', 'Occupation_Sales', 'Country_United-States'})}\n",
      "None\n"
     ]
    }
   ],
   "source": [
    "anchor_explainer = anchor_tabular.AnchorTabularExplainer(\n",
    "    dataset.class_names,\n",
    "    dataset.feature_names,\n",
    "    dataset.train,\n",
    "    dataset.categorical_names)\n",
    "idx = 0\n",
    "np.random.seed(1)\n",
    "instance = dataset.train[idx].reshape(1, -1)[0]\n",
    "print(\"Anchor\")\n",
    "print([dataset.categorical_names[i][int(r_)] for i, r_ in enumerate(instance)])\n",
    "\n",
    "print('Prediction: ', anchor_explainer.class_names[c.predict(dataset.train[0].reshape(1, -1))[0]])\n",
    "exp = anchor_explainer.explain_instance(dataset.train[idx], c.predict, threshold=0.95)\n",
    "print('Anchor: %s' % (' AND '.join(exp.names())))\n",
    "print('Precision: %.2f' % exp.precision())\n",
    "print('Coverage: %.2f' % exp.coverage())\n",
    "\n",
    "print(\"Arg:\", idx)\n",
    "print(explainer.explain_instance(idx))"
   ]
  }
 ],
 "metadata": {
  "kernelspec": {
   "display_name": "Python 3",
   "language": "python",
   "name": "python3"
  },
  "language_info": {
   "codemirror_mode": {
    "name": "ipython",
    "version": 3
   },
   "file_extension": ".py",
   "mimetype": "text/x-python",
   "name": "python",
   "nbconvert_exporter": "python",
   "pygments_lexer": "ipython3",
   "version": "3.8.5"
  },
  "vscode": {
   "interpreter": {
    "hash": "34f4a23e072925201d1edce259708610e2f98260d5449b97ac01b140140f4b0a"
   }
  }
 },
 "nbformat": 4,
 "nbformat_minor": 2
}
